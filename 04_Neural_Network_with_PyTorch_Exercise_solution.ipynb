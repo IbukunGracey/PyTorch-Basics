{
  "cells": [
    {
      "cell_type": "markdown",
      "metadata": {
        "id": "view-in-github",
        "colab_type": "text"
      },
      "source": [
        "<a href=\"https://colab.research.google.com/github/IbukunGracey/PyTorch-Basics/blob/main/04_Neural_Network_with_PyTorch_Exercise_solution.ipynb\" target=\"_parent\"><img src=\"https://colab.research.google.com/assets/colab-badge.svg\" alt=\"Open In Colab\"/></a>"
      ]
    },
    {
      "cell_type": "markdown",
      "metadata": {
        "id": "_5hdTOryVvCD"
      },
      "source": [
        "### Multi Classification Exercise using Penguin Dataset\n",
        "\n",
        "\n",
        "We will be using the Penguin dataset from kaggle https://www.kaggle.com/datasets/larsen0966/penguins to build a simple neural network model that can classify different species of penguins.\n",
        "\n"
      ]
    },
    {
      "cell_type": "markdown",
      "metadata": {
        "id": "tU39yuyiX2ms"
      },
      "source": [
        "Download the Dataset from the Kaggle link above or use the one attached to this notebook on the learning platform.\n",
        "\n",
        "Data Description:\n",
        "\n",
        "Data were collected and made available by Dr. Kristen Gorman and the Palmer Station, Antarctica LTER, a member of the Long Term Ecological Research Network..\n",
        "\n",
        "The columns in this dataset are:\n",
        "\n",
        "- species - A factor denoting penguin species (Adélie, Chinstrap and Gentoo)\n",
        "- island - A factor denoting island in Palmer Archipelago, Antarctica (Biscoe, Dream or Torgersen)\n",
        "- bill_length_mm - A number denoting bill length (millimeters)\n",
        "- bill_depth_mm - A number denoting bill depth (millimeters)\n",
        "- flipper_length_mm - An integer denoting flipper length (millimeters)\n",
        "- body_mass_g - An integer denoting body mass (grams)\n",
        "- sex:\n",
        "- year: A number denoting the year data was collected.\n",
        "\n",
        "Steps:\n",
        "\n",
        "1. Load your data/ Do some data preparation\n",
        "2. Create a neural network model\n",
        "3. Turn on the model/ Instantiate the model\n",
        "4. Split the data\n",
        "5. Train your model\n",
        "6. Validate the model using the test data\n",
        "7. Fine tune your model\n",
        "8. Make Predictions\n",
        "9. Save your model\n"
      ]
    },
    {
      "cell_type": "code",
      "execution_count": 2,
      "metadata": {
        "colab": {
          "base_uri": "https://localhost:8080/"
        },
        "id": "sIXv_g3QGtJd",
        "outputId": "eb464896-fa74-42cd-beb9-5b8cb4d1f092"
      },
      "outputs": [
        {
          "output_type": "stream",
          "name": "stdout",
          "text": [
            "Collecting torchinfo\n",
            "  Downloading torchinfo-1.8.0-py3-none-any.whl.metadata (21 kB)\n",
            "Downloading torchinfo-1.8.0-py3-none-any.whl (23 kB)\n",
            "Installing collected packages: torchinfo\n",
            "Successfully installed torchinfo-1.8.0\n"
          ]
        }
      ],
      "source": [
        "# Install torchview for visualizing our model\n",
        "!pip install torchinfo"
      ]
    },
    {
      "cell_type": "code",
      "execution_count": 4,
      "metadata": {
        "id": "d2bRZWfoIskF"
      },
      "outputs": [],
      "source": [
        "### IMPORT STATEMENTS\n",
        "import torch                  # import the torch module\n",
        "import torch.nn as nn         # import the neural hetwork library in pytorch\n",
        "import torch.nn.functional as F  # this helps to move data forward in our function\n",
        "import matplotlib.pyplot as plt\n",
        "%matplotlib inline\n",
        "import pandas as pd\n",
        "import numpy as np\n",
        "\n",
        "import seaborn as sns\n",
        "from torchinfo import summary   # a visual to draw our network graph"
      ]
    },
    {
      "cell_type": "markdown",
      "metadata": {
        "id": "Y5DYUydBgYyi"
      },
      "source": [
        "###1.  Load Data and do some data preparations"
      ]
    },
    {
      "cell_type": "markdown",
      "metadata": {
        "id": "UMmX0BR5PH5l"
      },
      "source": [
        "Q1: Read in the pengins.csv file and print out the first five records.\n",
        "\n",
        "\n"
      ]
    },
    {
      "cell_type": "code",
      "execution_count": 6,
      "metadata": {
        "id": "m7XcMfBag8Ea",
        "colab": {
          "base_uri": "https://localhost:8080/",
          "height": 206
        },
        "outputId": "3e70334a-dbd2-45ca-f59a-d0ef2e305cee"
      },
      "outputs": [
        {
          "output_type": "execute_result",
          "data": {
            "text/plain": [
              "  species     island  bill_length_mm  bill_depth_mm  flipper_length_mm  \\\n",
              "1  Adelie  Torgersen            39.1           18.7              181.0   \n",
              "2  Adelie  Torgersen            39.5           17.4              186.0   \n",
              "3  Adelie  Torgersen            40.3           18.0              195.0   \n",
              "4  Adelie  Torgersen             NaN            NaN                NaN   \n",
              "5  Adelie  Torgersen            36.7           19.3              193.0   \n",
              "\n",
              "   body_mass_g     sex  year  \n",
              "1       3750.0    male  2007  \n",
              "2       3800.0  female  2007  \n",
              "3       3250.0  female  2007  \n",
              "4          NaN     NaN  2007  \n",
              "5       3450.0  female  2007  "
            ],
            "text/html": [
              "\n",
              "  <div id=\"df-311ae22a-888a-4ce0-878d-285b830a0810\" class=\"colab-df-container\">\n",
              "    <div>\n",
              "<style scoped>\n",
              "    .dataframe tbody tr th:only-of-type {\n",
              "        vertical-align: middle;\n",
              "    }\n",
              "\n",
              "    .dataframe tbody tr th {\n",
              "        vertical-align: top;\n",
              "    }\n",
              "\n",
              "    .dataframe thead th {\n",
              "        text-align: right;\n",
              "    }\n",
              "</style>\n",
              "<table border=\"1\" class=\"dataframe\">\n",
              "  <thead>\n",
              "    <tr style=\"text-align: right;\">\n",
              "      <th></th>\n",
              "      <th>species</th>\n",
              "      <th>island</th>\n",
              "      <th>bill_length_mm</th>\n",
              "      <th>bill_depth_mm</th>\n",
              "      <th>flipper_length_mm</th>\n",
              "      <th>body_mass_g</th>\n",
              "      <th>sex</th>\n",
              "      <th>year</th>\n",
              "    </tr>\n",
              "  </thead>\n",
              "  <tbody>\n",
              "    <tr>\n",
              "      <th>1</th>\n",
              "      <td>Adelie</td>\n",
              "      <td>Torgersen</td>\n",
              "      <td>39.1</td>\n",
              "      <td>18.7</td>\n",
              "      <td>181.0</td>\n",
              "      <td>3750.0</td>\n",
              "      <td>male</td>\n",
              "      <td>2007</td>\n",
              "    </tr>\n",
              "    <tr>\n",
              "      <th>2</th>\n",
              "      <td>Adelie</td>\n",
              "      <td>Torgersen</td>\n",
              "      <td>39.5</td>\n",
              "      <td>17.4</td>\n",
              "      <td>186.0</td>\n",
              "      <td>3800.0</td>\n",
              "      <td>female</td>\n",
              "      <td>2007</td>\n",
              "    </tr>\n",
              "    <tr>\n",
              "      <th>3</th>\n",
              "      <td>Adelie</td>\n",
              "      <td>Torgersen</td>\n",
              "      <td>40.3</td>\n",
              "      <td>18.0</td>\n",
              "      <td>195.0</td>\n",
              "      <td>3250.0</td>\n",
              "      <td>female</td>\n",
              "      <td>2007</td>\n",
              "    </tr>\n",
              "    <tr>\n",
              "      <th>4</th>\n",
              "      <td>Adelie</td>\n",
              "      <td>Torgersen</td>\n",
              "      <td>NaN</td>\n",
              "      <td>NaN</td>\n",
              "      <td>NaN</td>\n",
              "      <td>NaN</td>\n",
              "      <td>NaN</td>\n",
              "      <td>2007</td>\n",
              "    </tr>\n",
              "    <tr>\n",
              "      <th>5</th>\n",
              "      <td>Adelie</td>\n",
              "      <td>Torgersen</td>\n",
              "      <td>36.7</td>\n",
              "      <td>19.3</td>\n",
              "      <td>193.0</td>\n",
              "      <td>3450.0</td>\n",
              "      <td>female</td>\n",
              "      <td>2007</td>\n",
              "    </tr>\n",
              "  </tbody>\n",
              "</table>\n",
              "</div>\n",
              "    <div class=\"colab-df-buttons\">\n",
              "\n",
              "  <div class=\"colab-df-container\">\n",
              "    <button class=\"colab-df-convert\" onclick=\"convertToInteractive('df-311ae22a-888a-4ce0-878d-285b830a0810')\"\n",
              "            title=\"Convert this dataframe to an interactive table.\"\n",
              "            style=\"display:none;\">\n",
              "\n",
              "  <svg xmlns=\"http://www.w3.org/2000/svg\" height=\"24px\" viewBox=\"0 -960 960 960\">\n",
              "    <path d=\"M120-120v-720h720v720H120Zm60-500h600v-160H180v160Zm220 220h160v-160H400v160Zm0 220h160v-160H400v160ZM180-400h160v-160H180v160Zm440 0h160v-160H620v160ZM180-180h160v-160H180v160Zm440 0h160v-160H620v160Z\"/>\n",
              "  </svg>\n",
              "    </button>\n",
              "\n",
              "  <style>\n",
              "    .colab-df-container {\n",
              "      display:flex;\n",
              "      gap: 12px;\n",
              "    }\n",
              "\n",
              "    .colab-df-convert {\n",
              "      background-color: #E8F0FE;\n",
              "      border: none;\n",
              "      border-radius: 50%;\n",
              "      cursor: pointer;\n",
              "      display: none;\n",
              "      fill: #1967D2;\n",
              "      height: 32px;\n",
              "      padding: 0 0 0 0;\n",
              "      width: 32px;\n",
              "    }\n",
              "\n",
              "    .colab-df-convert:hover {\n",
              "      background-color: #E2EBFA;\n",
              "      box-shadow: 0px 1px 2px rgba(60, 64, 67, 0.3), 0px 1px 3px 1px rgba(60, 64, 67, 0.15);\n",
              "      fill: #174EA6;\n",
              "    }\n",
              "\n",
              "    .colab-df-buttons div {\n",
              "      margin-bottom: 4px;\n",
              "    }\n",
              "\n",
              "    [theme=dark] .colab-df-convert {\n",
              "      background-color: #3B4455;\n",
              "      fill: #D2E3FC;\n",
              "    }\n",
              "\n",
              "    [theme=dark] .colab-df-convert:hover {\n",
              "      background-color: #434B5C;\n",
              "      box-shadow: 0px 1px 3px 1px rgba(0, 0, 0, 0.15);\n",
              "      filter: drop-shadow(0px 1px 2px rgba(0, 0, 0, 0.3));\n",
              "      fill: #FFFFFF;\n",
              "    }\n",
              "  </style>\n",
              "\n",
              "    <script>\n",
              "      const buttonEl =\n",
              "        document.querySelector('#df-311ae22a-888a-4ce0-878d-285b830a0810 button.colab-df-convert');\n",
              "      buttonEl.style.display =\n",
              "        google.colab.kernel.accessAllowed ? 'block' : 'none';\n",
              "\n",
              "      async function convertToInteractive(key) {\n",
              "        const element = document.querySelector('#df-311ae22a-888a-4ce0-878d-285b830a0810');\n",
              "        const dataTable =\n",
              "          await google.colab.kernel.invokeFunction('convertToInteractive',\n",
              "                                                    [key], {});\n",
              "        if (!dataTable) return;\n",
              "\n",
              "        const docLinkHtml = 'Like what you see? Visit the ' +\n",
              "          '<a target=\"_blank\" href=https://colab.research.google.com/notebooks/data_table.ipynb>data table notebook</a>'\n",
              "          + ' to learn more about interactive tables.';\n",
              "        element.innerHTML = '';\n",
              "        dataTable['output_type'] = 'display_data';\n",
              "        await google.colab.output.renderOutput(dataTable, element);\n",
              "        const docLink = document.createElement('div');\n",
              "        docLink.innerHTML = docLinkHtml;\n",
              "        element.appendChild(docLink);\n",
              "      }\n",
              "    </script>\n",
              "  </div>\n",
              "\n",
              "\n",
              "    <div id=\"df-43fc64cd-6ce6-4a3a-bfd6-dee50c917356\">\n",
              "      <button class=\"colab-df-quickchart\" onclick=\"quickchart('df-43fc64cd-6ce6-4a3a-bfd6-dee50c917356')\"\n",
              "                title=\"Suggest charts\"\n",
              "                style=\"display:none;\">\n",
              "\n",
              "<svg xmlns=\"http://www.w3.org/2000/svg\" height=\"24px\"viewBox=\"0 0 24 24\"\n",
              "     width=\"24px\">\n",
              "    <g>\n",
              "        <path d=\"M19 3H5c-1.1 0-2 .9-2 2v14c0 1.1.9 2 2 2h14c1.1 0 2-.9 2-2V5c0-1.1-.9-2-2-2zM9 17H7v-7h2v7zm4 0h-2V7h2v10zm4 0h-2v-4h2v4z\"/>\n",
              "    </g>\n",
              "</svg>\n",
              "      </button>\n",
              "\n",
              "<style>\n",
              "  .colab-df-quickchart {\n",
              "      --bg-color: #E8F0FE;\n",
              "      --fill-color: #1967D2;\n",
              "      --hover-bg-color: #E2EBFA;\n",
              "      --hover-fill-color: #174EA6;\n",
              "      --disabled-fill-color: #AAA;\n",
              "      --disabled-bg-color: #DDD;\n",
              "  }\n",
              "\n",
              "  [theme=dark] .colab-df-quickchart {\n",
              "      --bg-color: #3B4455;\n",
              "      --fill-color: #D2E3FC;\n",
              "      --hover-bg-color: #434B5C;\n",
              "      --hover-fill-color: #FFFFFF;\n",
              "      --disabled-bg-color: #3B4455;\n",
              "      --disabled-fill-color: #666;\n",
              "  }\n",
              "\n",
              "  .colab-df-quickchart {\n",
              "    background-color: var(--bg-color);\n",
              "    border: none;\n",
              "    border-radius: 50%;\n",
              "    cursor: pointer;\n",
              "    display: none;\n",
              "    fill: var(--fill-color);\n",
              "    height: 32px;\n",
              "    padding: 0;\n",
              "    width: 32px;\n",
              "  }\n",
              "\n",
              "  .colab-df-quickchart:hover {\n",
              "    background-color: var(--hover-bg-color);\n",
              "    box-shadow: 0 1px 2px rgba(60, 64, 67, 0.3), 0 1px 3px 1px rgba(60, 64, 67, 0.15);\n",
              "    fill: var(--button-hover-fill-color);\n",
              "  }\n",
              "\n",
              "  .colab-df-quickchart-complete:disabled,\n",
              "  .colab-df-quickchart-complete:disabled:hover {\n",
              "    background-color: var(--disabled-bg-color);\n",
              "    fill: var(--disabled-fill-color);\n",
              "    box-shadow: none;\n",
              "  }\n",
              "\n",
              "  .colab-df-spinner {\n",
              "    border: 2px solid var(--fill-color);\n",
              "    border-color: transparent;\n",
              "    border-bottom-color: var(--fill-color);\n",
              "    animation:\n",
              "      spin 1s steps(1) infinite;\n",
              "  }\n",
              "\n",
              "  @keyframes spin {\n",
              "    0% {\n",
              "      border-color: transparent;\n",
              "      border-bottom-color: var(--fill-color);\n",
              "      border-left-color: var(--fill-color);\n",
              "    }\n",
              "    20% {\n",
              "      border-color: transparent;\n",
              "      border-left-color: var(--fill-color);\n",
              "      border-top-color: var(--fill-color);\n",
              "    }\n",
              "    30% {\n",
              "      border-color: transparent;\n",
              "      border-left-color: var(--fill-color);\n",
              "      border-top-color: var(--fill-color);\n",
              "      border-right-color: var(--fill-color);\n",
              "    }\n",
              "    40% {\n",
              "      border-color: transparent;\n",
              "      border-right-color: var(--fill-color);\n",
              "      border-top-color: var(--fill-color);\n",
              "    }\n",
              "    60% {\n",
              "      border-color: transparent;\n",
              "      border-right-color: var(--fill-color);\n",
              "    }\n",
              "    80% {\n",
              "      border-color: transparent;\n",
              "      border-right-color: var(--fill-color);\n",
              "      border-bottom-color: var(--fill-color);\n",
              "    }\n",
              "    90% {\n",
              "      border-color: transparent;\n",
              "      border-bottom-color: var(--fill-color);\n",
              "    }\n",
              "  }\n",
              "</style>\n",
              "\n",
              "      <script>\n",
              "        async function quickchart(key) {\n",
              "          const quickchartButtonEl =\n",
              "            document.querySelector('#' + key + ' button');\n",
              "          quickchartButtonEl.disabled = true;  // To prevent multiple clicks.\n",
              "          quickchartButtonEl.classList.add('colab-df-spinner');\n",
              "          try {\n",
              "            const charts = await google.colab.kernel.invokeFunction(\n",
              "                'suggestCharts', [key], {});\n",
              "          } catch (error) {\n",
              "            console.error('Error during call to suggestCharts:', error);\n",
              "          }\n",
              "          quickchartButtonEl.classList.remove('colab-df-spinner');\n",
              "          quickchartButtonEl.classList.add('colab-df-quickchart-complete');\n",
              "        }\n",
              "        (() => {\n",
              "          let quickchartButtonEl =\n",
              "            document.querySelector('#df-43fc64cd-6ce6-4a3a-bfd6-dee50c917356 button');\n",
              "          quickchartButtonEl.style.display =\n",
              "            google.colab.kernel.accessAllowed ? 'block' : 'none';\n",
              "        })();\n",
              "      </script>\n",
              "    </div>\n",
              "\n",
              "    </div>\n",
              "  </div>\n"
            ],
            "application/vnd.google.colaboratory.intrinsic+json": {
              "type": "dataframe",
              "variable_name": "df",
              "summary": "{\n  \"name\": \"df\",\n  \"rows\": 344,\n  \"fields\": [\n    {\n      \"column\": \"species\",\n      \"properties\": {\n        \"dtype\": \"category\",\n        \"num_unique_values\": 3,\n        \"samples\": [\n          \"Adelie\",\n          \"Gentoo\",\n          \"Chinstrap\"\n        ],\n        \"semantic_type\": \"\",\n        \"description\": \"\"\n      }\n    },\n    {\n      \"column\": \"island\",\n      \"properties\": {\n        \"dtype\": \"category\",\n        \"num_unique_values\": 3,\n        \"samples\": [\n          \"Torgersen\",\n          \"Biscoe\",\n          \"Dream\"\n        ],\n        \"semantic_type\": \"\",\n        \"description\": \"\"\n      }\n    },\n    {\n      \"column\": \"bill_length_mm\",\n      \"properties\": {\n        \"dtype\": \"number\",\n        \"std\": 5.4595837139265315,\n        \"min\": 32.1,\n        \"max\": 59.6,\n        \"num_unique_values\": 164,\n        \"samples\": [\n          49.4,\n          43.8,\n          43.4\n        ],\n        \"semantic_type\": \"\",\n        \"description\": \"\"\n      }\n    },\n    {\n      \"column\": \"bill_depth_mm\",\n      \"properties\": {\n        \"dtype\": \"number\",\n        \"std\": 1.9747931568167818,\n        \"min\": 13.1,\n        \"max\": 21.5,\n        \"num_unique_values\": 80,\n        \"samples\": [\n          16.9,\n          18.7,\n          18.6\n        ],\n        \"semantic_type\": \"\",\n        \"description\": \"\"\n      }\n    },\n    {\n      \"column\": \"flipper_length_mm\",\n      \"properties\": {\n        \"dtype\": \"number\",\n        \"std\": 14.061713679356888,\n        \"min\": 172.0,\n        \"max\": 231.0,\n        \"num_unique_values\": 55,\n        \"samples\": [\n          201.0,\n          180.0,\n          211.0\n        ],\n        \"semantic_type\": \"\",\n        \"description\": \"\"\n      }\n    },\n    {\n      \"column\": \"body_mass_g\",\n      \"properties\": {\n        \"dtype\": \"number\",\n        \"std\": 801.9545356980958,\n        \"min\": 2700.0,\n        \"max\": 6300.0,\n        \"num_unique_values\": 94,\n        \"samples\": [\n          4350.0,\n          4150.0,\n          5700.0\n        ],\n        \"semantic_type\": \"\",\n        \"description\": \"\"\n      }\n    },\n    {\n      \"column\": \"sex\",\n      \"properties\": {\n        \"dtype\": \"category\",\n        \"num_unique_values\": 2,\n        \"samples\": [\n          \"female\",\n          \"male\"\n        ],\n        \"semantic_type\": \"\",\n        \"description\": \"\"\n      }\n    },\n    {\n      \"column\": \"year\",\n      \"properties\": {\n        \"dtype\": \"number\",\n        \"std\": 0,\n        \"min\": 2007,\n        \"max\": 2009,\n        \"num_unique_values\": 3,\n        \"samples\": [\n          2007,\n          2008\n        ],\n        \"semantic_type\": \"\",\n        \"description\": \"\"\n      }\n    }\n  ]\n}"
            }
          },
          "metadata": {},
          "execution_count": 6
        }
      ],
      "source": [
        "#load the data\n",
        "data = '/content/penguins.csv'\n",
        "df = pd.read_csv(data, index_col=[0])\n",
        "df.head()"
      ]
    },
    {
      "cell_type": "code",
      "execution_count": 7,
      "metadata": {
        "id": "7IBcahsBP-wp",
        "colab": {
          "base_uri": "https://localhost:8080/"
        },
        "outputId": "0a87359b-6a0a-402c-8ea1-4f707850b611"
      },
      "outputs": [
        {
          "output_type": "stream",
          "name": "stdout",
          "text": [
            "<class 'pandas.core.frame.DataFrame'>\n",
            "Index: 344 entries, 1 to 344\n",
            "Data columns (total 8 columns):\n",
            " #   Column             Non-Null Count  Dtype  \n",
            "---  ------             --------------  -----  \n",
            " 0   species            344 non-null    object \n",
            " 1   island             344 non-null    object \n",
            " 2   bill_length_mm     342 non-null    float64\n",
            " 3   bill_depth_mm      342 non-null    float64\n",
            " 4   flipper_length_mm  342 non-null    float64\n",
            " 5   body_mass_g        342 non-null    float64\n",
            " 6   sex                333 non-null    object \n",
            " 7   year               344 non-null    int64  \n",
            "dtypes: float64(4), int64(1), object(3)\n",
            "memory usage: 24.2+ KB\n"
          ]
        }
      ],
      "source": [
        "df.info()"
      ]
    },
    {
      "cell_type": "markdown",
      "metadata": {
        "id": "O2unhkw8P402"
      },
      "source": [
        "### Dealing with missing values\n",
        "\n",
        "Check for missing values in the data set. There are 5 columns and 11 rows with missing values We can drop the 11 rows because the number is small."
      ]
    },
    {
      "cell_type": "code",
      "execution_count": 8,
      "metadata": {
        "id": "eyVvYrHVT1ZS",
        "colab": {
          "base_uri": "https://localhost:8080/",
          "height": 334
        },
        "outputId": "516c40e7-0223-4243-c579-f558b329ee59"
      },
      "outputs": [
        {
          "output_type": "execute_result",
          "data": {
            "text/plain": [
              "species               0\n",
              "island                0\n",
              "bill_length_mm        2\n",
              "bill_depth_mm         2\n",
              "flipper_length_mm     2\n",
              "body_mass_g           2\n",
              "sex                  11\n",
              "year                  0\n",
              "dtype: int64"
            ],
            "text/html": [
              "<div>\n",
              "<style scoped>\n",
              "    .dataframe tbody tr th:only-of-type {\n",
              "        vertical-align: middle;\n",
              "    }\n",
              "\n",
              "    .dataframe tbody tr th {\n",
              "        vertical-align: top;\n",
              "    }\n",
              "\n",
              "    .dataframe thead th {\n",
              "        text-align: right;\n",
              "    }\n",
              "</style>\n",
              "<table border=\"1\" class=\"dataframe\">\n",
              "  <thead>\n",
              "    <tr style=\"text-align: right;\">\n",
              "      <th></th>\n",
              "      <th>0</th>\n",
              "    </tr>\n",
              "  </thead>\n",
              "  <tbody>\n",
              "    <tr>\n",
              "      <th>species</th>\n",
              "      <td>0</td>\n",
              "    </tr>\n",
              "    <tr>\n",
              "      <th>island</th>\n",
              "      <td>0</td>\n",
              "    </tr>\n",
              "    <tr>\n",
              "      <th>bill_length_mm</th>\n",
              "      <td>2</td>\n",
              "    </tr>\n",
              "    <tr>\n",
              "      <th>bill_depth_mm</th>\n",
              "      <td>2</td>\n",
              "    </tr>\n",
              "    <tr>\n",
              "      <th>flipper_length_mm</th>\n",
              "      <td>2</td>\n",
              "    </tr>\n",
              "    <tr>\n",
              "      <th>body_mass_g</th>\n",
              "      <td>2</td>\n",
              "    </tr>\n",
              "    <tr>\n",
              "      <th>sex</th>\n",
              "      <td>11</td>\n",
              "    </tr>\n",
              "    <tr>\n",
              "      <th>year</th>\n",
              "      <td>0</td>\n",
              "    </tr>\n",
              "  </tbody>\n",
              "</table>\n",
              "</div><br><label><b>dtype:</b> int64</label>"
            ]
          },
          "metadata": {},
          "execution_count": 8
        }
      ],
      "source": [
        "#check for the columns with missing values\n",
        "df.isnull().sum()"
      ]
    },
    {
      "cell_type": "code",
      "execution_count": 9,
      "metadata": {
        "id": "U7koE8vaUU5z",
        "colab": {
          "base_uri": "https://localhost:8080/",
          "height": 394
        },
        "outputId": "366f3489-589e-4100-a724-5a6c9da7eb3e"
      },
      "outputs": [
        {
          "output_type": "execute_result",
          "data": {
            "text/plain": [
              "    species     island  bill_length_mm  bill_depth_mm  flipper_length_mm  \\\n",
              "4    Adelie  Torgersen             NaN            NaN                NaN   \n",
              "9    Adelie  Torgersen            34.1           18.1              193.0   \n",
              "10   Adelie  Torgersen            42.0           20.2              190.0   \n",
              "11   Adelie  Torgersen            37.8           17.1              186.0   \n",
              "12   Adelie  Torgersen            37.8           17.3              180.0   \n",
              "48   Adelie      Dream            37.5           18.9              179.0   \n",
              "179  Gentoo     Biscoe            44.5           14.3              216.0   \n",
              "219  Gentoo     Biscoe            46.2           14.4              214.0   \n",
              "257  Gentoo     Biscoe            47.3           13.8              216.0   \n",
              "269  Gentoo     Biscoe            44.5           15.7              217.0   \n",
              "272  Gentoo     Biscoe             NaN            NaN                NaN   \n",
              "\n",
              "     body_mass_g  sex  year  \n",
              "4            NaN  NaN  2007  \n",
              "9         3475.0  NaN  2007  \n",
              "10        4250.0  NaN  2007  \n",
              "11        3300.0  NaN  2007  \n",
              "12        3700.0  NaN  2007  \n",
              "48        2975.0  NaN  2007  \n",
              "179       4100.0  NaN  2007  \n",
              "219       4650.0  NaN  2008  \n",
              "257       4725.0  NaN  2009  \n",
              "269       4875.0  NaN  2009  \n",
              "272          NaN  NaN  2009  "
            ],
            "text/html": [
              "\n",
              "  <div id=\"df-6266faa6-c591-433c-949f-cf6daabcf936\" class=\"colab-df-container\">\n",
              "    <div>\n",
              "<style scoped>\n",
              "    .dataframe tbody tr th:only-of-type {\n",
              "        vertical-align: middle;\n",
              "    }\n",
              "\n",
              "    .dataframe tbody tr th {\n",
              "        vertical-align: top;\n",
              "    }\n",
              "\n",
              "    .dataframe thead th {\n",
              "        text-align: right;\n",
              "    }\n",
              "</style>\n",
              "<table border=\"1\" class=\"dataframe\">\n",
              "  <thead>\n",
              "    <tr style=\"text-align: right;\">\n",
              "      <th></th>\n",
              "      <th>species</th>\n",
              "      <th>island</th>\n",
              "      <th>bill_length_mm</th>\n",
              "      <th>bill_depth_mm</th>\n",
              "      <th>flipper_length_mm</th>\n",
              "      <th>body_mass_g</th>\n",
              "      <th>sex</th>\n",
              "      <th>year</th>\n",
              "    </tr>\n",
              "  </thead>\n",
              "  <tbody>\n",
              "    <tr>\n",
              "      <th>4</th>\n",
              "      <td>Adelie</td>\n",
              "      <td>Torgersen</td>\n",
              "      <td>NaN</td>\n",
              "      <td>NaN</td>\n",
              "      <td>NaN</td>\n",
              "      <td>NaN</td>\n",
              "      <td>NaN</td>\n",
              "      <td>2007</td>\n",
              "    </tr>\n",
              "    <tr>\n",
              "      <th>9</th>\n",
              "      <td>Adelie</td>\n",
              "      <td>Torgersen</td>\n",
              "      <td>34.1</td>\n",
              "      <td>18.1</td>\n",
              "      <td>193.0</td>\n",
              "      <td>3475.0</td>\n",
              "      <td>NaN</td>\n",
              "      <td>2007</td>\n",
              "    </tr>\n",
              "    <tr>\n",
              "      <th>10</th>\n",
              "      <td>Adelie</td>\n",
              "      <td>Torgersen</td>\n",
              "      <td>42.0</td>\n",
              "      <td>20.2</td>\n",
              "      <td>190.0</td>\n",
              "      <td>4250.0</td>\n",
              "      <td>NaN</td>\n",
              "      <td>2007</td>\n",
              "    </tr>\n",
              "    <tr>\n",
              "      <th>11</th>\n",
              "      <td>Adelie</td>\n",
              "      <td>Torgersen</td>\n",
              "      <td>37.8</td>\n",
              "      <td>17.1</td>\n",
              "      <td>186.0</td>\n",
              "      <td>3300.0</td>\n",
              "      <td>NaN</td>\n",
              "      <td>2007</td>\n",
              "    </tr>\n",
              "    <tr>\n",
              "      <th>12</th>\n",
              "      <td>Adelie</td>\n",
              "      <td>Torgersen</td>\n",
              "      <td>37.8</td>\n",
              "      <td>17.3</td>\n",
              "      <td>180.0</td>\n",
              "      <td>3700.0</td>\n",
              "      <td>NaN</td>\n",
              "      <td>2007</td>\n",
              "    </tr>\n",
              "    <tr>\n",
              "      <th>48</th>\n",
              "      <td>Adelie</td>\n",
              "      <td>Dream</td>\n",
              "      <td>37.5</td>\n",
              "      <td>18.9</td>\n",
              "      <td>179.0</td>\n",
              "      <td>2975.0</td>\n",
              "      <td>NaN</td>\n",
              "      <td>2007</td>\n",
              "    </tr>\n",
              "    <tr>\n",
              "      <th>179</th>\n",
              "      <td>Gentoo</td>\n",
              "      <td>Biscoe</td>\n",
              "      <td>44.5</td>\n",
              "      <td>14.3</td>\n",
              "      <td>216.0</td>\n",
              "      <td>4100.0</td>\n",
              "      <td>NaN</td>\n",
              "      <td>2007</td>\n",
              "    </tr>\n",
              "    <tr>\n",
              "      <th>219</th>\n",
              "      <td>Gentoo</td>\n",
              "      <td>Biscoe</td>\n",
              "      <td>46.2</td>\n",
              "      <td>14.4</td>\n",
              "      <td>214.0</td>\n",
              "      <td>4650.0</td>\n",
              "      <td>NaN</td>\n",
              "      <td>2008</td>\n",
              "    </tr>\n",
              "    <tr>\n",
              "      <th>257</th>\n",
              "      <td>Gentoo</td>\n",
              "      <td>Biscoe</td>\n",
              "      <td>47.3</td>\n",
              "      <td>13.8</td>\n",
              "      <td>216.0</td>\n",
              "      <td>4725.0</td>\n",
              "      <td>NaN</td>\n",
              "      <td>2009</td>\n",
              "    </tr>\n",
              "    <tr>\n",
              "      <th>269</th>\n",
              "      <td>Gentoo</td>\n",
              "      <td>Biscoe</td>\n",
              "      <td>44.5</td>\n",
              "      <td>15.7</td>\n",
              "      <td>217.0</td>\n",
              "      <td>4875.0</td>\n",
              "      <td>NaN</td>\n",
              "      <td>2009</td>\n",
              "    </tr>\n",
              "    <tr>\n",
              "      <th>272</th>\n",
              "      <td>Gentoo</td>\n",
              "      <td>Biscoe</td>\n",
              "      <td>NaN</td>\n",
              "      <td>NaN</td>\n",
              "      <td>NaN</td>\n",
              "      <td>NaN</td>\n",
              "      <td>NaN</td>\n",
              "      <td>2009</td>\n",
              "    </tr>\n",
              "  </tbody>\n",
              "</table>\n",
              "</div>\n",
              "    <div class=\"colab-df-buttons\">\n",
              "\n",
              "  <div class=\"colab-df-container\">\n",
              "    <button class=\"colab-df-convert\" onclick=\"convertToInteractive('df-6266faa6-c591-433c-949f-cf6daabcf936')\"\n",
              "            title=\"Convert this dataframe to an interactive table.\"\n",
              "            style=\"display:none;\">\n",
              "\n",
              "  <svg xmlns=\"http://www.w3.org/2000/svg\" height=\"24px\" viewBox=\"0 -960 960 960\">\n",
              "    <path d=\"M120-120v-720h720v720H120Zm60-500h600v-160H180v160Zm220 220h160v-160H400v160Zm0 220h160v-160H400v160ZM180-400h160v-160H180v160Zm440 0h160v-160H620v160ZM180-180h160v-160H180v160Zm440 0h160v-160H620v160Z\"/>\n",
              "  </svg>\n",
              "    </button>\n",
              "\n",
              "  <style>\n",
              "    .colab-df-container {\n",
              "      display:flex;\n",
              "      gap: 12px;\n",
              "    }\n",
              "\n",
              "    .colab-df-convert {\n",
              "      background-color: #E8F0FE;\n",
              "      border: none;\n",
              "      border-radius: 50%;\n",
              "      cursor: pointer;\n",
              "      display: none;\n",
              "      fill: #1967D2;\n",
              "      height: 32px;\n",
              "      padding: 0 0 0 0;\n",
              "      width: 32px;\n",
              "    }\n",
              "\n",
              "    .colab-df-convert:hover {\n",
              "      background-color: #E2EBFA;\n",
              "      box-shadow: 0px 1px 2px rgba(60, 64, 67, 0.3), 0px 1px 3px 1px rgba(60, 64, 67, 0.15);\n",
              "      fill: #174EA6;\n",
              "    }\n",
              "\n",
              "    .colab-df-buttons div {\n",
              "      margin-bottom: 4px;\n",
              "    }\n",
              "\n",
              "    [theme=dark] .colab-df-convert {\n",
              "      background-color: #3B4455;\n",
              "      fill: #D2E3FC;\n",
              "    }\n",
              "\n",
              "    [theme=dark] .colab-df-convert:hover {\n",
              "      background-color: #434B5C;\n",
              "      box-shadow: 0px 1px 3px 1px rgba(0, 0, 0, 0.15);\n",
              "      filter: drop-shadow(0px 1px 2px rgba(0, 0, 0, 0.3));\n",
              "      fill: #FFFFFF;\n",
              "    }\n",
              "  </style>\n",
              "\n",
              "    <script>\n",
              "      const buttonEl =\n",
              "        document.querySelector('#df-6266faa6-c591-433c-949f-cf6daabcf936 button.colab-df-convert');\n",
              "      buttonEl.style.display =\n",
              "        google.colab.kernel.accessAllowed ? 'block' : 'none';\n",
              "\n",
              "      async function convertToInteractive(key) {\n",
              "        const element = document.querySelector('#df-6266faa6-c591-433c-949f-cf6daabcf936');\n",
              "        const dataTable =\n",
              "          await google.colab.kernel.invokeFunction('convertToInteractive',\n",
              "                                                    [key], {});\n",
              "        if (!dataTable) return;\n",
              "\n",
              "        const docLinkHtml = 'Like what you see? Visit the ' +\n",
              "          '<a target=\"_blank\" href=https://colab.research.google.com/notebooks/data_table.ipynb>data table notebook</a>'\n",
              "          + ' to learn more about interactive tables.';\n",
              "        element.innerHTML = '';\n",
              "        dataTable['output_type'] = 'display_data';\n",
              "        await google.colab.output.renderOutput(dataTable, element);\n",
              "        const docLink = document.createElement('div');\n",
              "        docLink.innerHTML = docLinkHtml;\n",
              "        element.appendChild(docLink);\n",
              "      }\n",
              "    </script>\n",
              "  </div>\n",
              "\n",
              "\n",
              "    <div id=\"df-4e4a0ed0-d7bb-4c86-9542-28eae918d4c1\">\n",
              "      <button class=\"colab-df-quickchart\" onclick=\"quickchart('df-4e4a0ed0-d7bb-4c86-9542-28eae918d4c1')\"\n",
              "                title=\"Suggest charts\"\n",
              "                style=\"display:none;\">\n",
              "\n",
              "<svg xmlns=\"http://www.w3.org/2000/svg\" height=\"24px\"viewBox=\"0 0 24 24\"\n",
              "     width=\"24px\">\n",
              "    <g>\n",
              "        <path d=\"M19 3H5c-1.1 0-2 .9-2 2v14c0 1.1.9 2 2 2h14c1.1 0 2-.9 2-2V5c0-1.1-.9-2-2-2zM9 17H7v-7h2v7zm4 0h-2V7h2v10zm4 0h-2v-4h2v4z\"/>\n",
              "    </g>\n",
              "</svg>\n",
              "      </button>\n",
              "\n",
              "<style>\n",
              "  .colab-df-quickchart {\n",
              "      --bg-color: #E8F0FE;\n",
              "      --fill-color: #1967D2;\n",
              "      --hover-bg-color: #E2EBFA;\n",
              "      --hover-fill-color: #174EA6;\n",
              "      --disabled-fill-color: #AAA;\n",
              "      --disabled-bg-color: #DDD;\n",
              "  }\n",
              "\n",
              "  [theme=dark] .colab-df-quickchart {\n",
              "      --bg-color: #3B4455;\n",
              "      --fill-color: #D2E3FC;\n",
              "      --hover-bg-color: #434B5C;\n",
              "      --hover-fill-color: #FFFFFF;\n",
              "      --disabled-bg-color: #3B4455;\n",
              "      --disabled-fill-color: #666;\n",
              "  }\n",
              "\n",
              "  .colab-df-quickchart {\n",
              "    background-color: var(--bg-color);\n",
              "    border: none;\n",
              "    border-radius: 50%;\n",
              "    cursor: pointer;\n",
              "    display: none;\n",
              "    fill: var(--fill-color);\n",
              "    height: 32px;\n",
              "    padding: 0;\n",
              "    width: 32px;\n",
              "  }\n",
              "\n",
              "  .colab-df-quickchart:hover {\n",
              "    background-color: var(--hover-bg-color);\n",
              "    box-shadow: 0 1px 2px rgba(60, 64, 67, 0.3), 0 1px 3px 1px rgba(60, 64, 67, 0.15);\n",
              "    fill: var(--button-hover-fill-color);\n",
              "  }\n",
              "\n",
              "  .colab-df-quickchart-complete:disabled,\n",
              "  .colab-df-quickchart-complete:disabled:hover {\n",
              "    background-color: var(--disabled-bg-color);\n",
              "    fill: var(--disabled-fill-color);\n",
              "    box-shadow: none;\n",
              "  }\n",
              "\n",
              "  .colab-df-spinner {\n",
              "    border: 2px solid var(--fill-color);\n",
              "    border-color: transparent;\n",
              "    border-bottom-color: var(--fill-color);\n",
              "    animation:\n",
              "      spin 1s steps(1) infinite;\n",
              "  }\n",
              "\n",
              "  @keyframes spin {\n",
              "    0% {\n",
              "      border-color: transparent;\n",
              "      border-bottom-color: var(--fill-color);\n",
              "      border-left-color: var(--fill-color);\n",
              "    }\n",
              "    20% {\n",
              "      border-color: transparent;\n",
              "      border-left-color: var(--fill-color);\n",
              "      border-top-color: var(--fill-color);\n",
              "    }\n",
              "    30% {\n",
              "      border-color: transparent;\n",
              "      border-left-color: var(--fill-color);\n",
              "      border-top-color: var(--fill-color);\n",
              "      border-right-color: var(--fill-color);\n",
              "    }\n",
              "    40% {\n",
              "      border-color: transparent;\n",
              "      border-right-color: var(--fill-color);\n",
              "      border-top-color: var(--fill-color);\n",
              "    }\n",
              "    60% {\n",
              "      border-color: transparent;\n",
              "      border-right-color: var(--fill-color);\n",
              "    }\n",
              "    80% {\n",
              "      border-color: transparent;\n",
              "      border-right-color: var(--fill-color);\n",
              "      border-bottom-color: var(--fill-color);\n",
              "    }\n",
              "    90% {\n",
              "      border-color: transparent;\n",
              "      border-bottom-color: var(--fill-color);\n",
              "    }\n",
              "  }\n",
              "</style>\n",
              "\n",
              "      <script>\n",
              "        async function quickchart(key) {\n",
              "          const quickchartButtonEl =\n",
              "            document.querySelector('#' + key + ' button');\n",
              "          quickchartButtonEl.disabled = true;  // To prevent multiple clicks.\n",
              "          quickchartButtonEl.classList.add('colab-df-spinner');\n",
              "          try {\n",
              "            const charts = await google.colab.kernel.invokeFunction(\n",
              "                'suggestCharts', [key], {});\n",
              "          } catch (error) {\n",
              "            console.error('Error during call to suggestCharts:', error);\n",
              "          }\n",
              "          quickchartButtonEl.classList.remove('colab-df-spinner');\n",
              "          quickchartButtonEl.classList.add('colab-df-quickchart-complete');\n",
              "        }\n",
              "        (() => {\n",
              "          let quickchartButtonEl =\n",
              "            document.querySelector('#df-4e4a0ed0-d7bb-4c86-9542-28eae918d4c1 button');\n",
              "          quickchartButtonEl.style.display =\n",
              "            google.colab.kernel.accessAllowed ? 'block' : 'none';\n",
              "        })();\n",
              "      </script>\n",
              "    </div>\n",
              "\n",
              "    </div>\n",
              "  </div>\n"
            ],
            "application/vnd.google.colaboratory.intrinsic+json": {
              "type": "dataframe",
              "repr_error": "0"
            }
          },
          "metadata": {},
          "execution_count": 9
        }
      ],
      "source": [
        "#check for the rows with missing values\n",
        "df[df.isnull().any(axis=1)]"
      ]
    },
    {
      "cell_type": "markdown",
      "metadata": {
        "id": "grPlPaI4XOQh"
      },
      "source": [
        "Q3: Drop all the missing values in the dataset using the `dropna` function, don't forget to include the inplace arguement and print the shape"
      ]
    },
    {
      "cell_type": "code",
      "execution_count": 10,
      "metadata": {
        "id": "GOUD3yEOP2-i",
        "colab": {
          "base_uri": "https://localhost:8080/"
        },
        "outputId": "655fbf29-dac6-4005-d24d-98644aef18e7"
      },
      "outputs": [
        {
          "output_type": "execute_result",
          "data": {
            "text/plain": [
              "(333, 8)"
            ]
          },
          "metadata": {},
          "execution_count": 10
        }
      ],
      "source": [
        "#drop the missing values\n",
        "df.dropna(inplace= True)\n",
        "df.shape"
      ]
    },
    {
      "cell_type": "markdown",
      "metadata": {
        "id": "ke2QNFzNg4BM"
      },
      "source": [
        "#### Let us check the distribution of the target label \"species\""
      ]
    },
    {
      "cell_type": "code",
      "execution_count": 11,
      "metadata": {
        "id": "Bep7r0jSDKj9",
        "colab": {
          "base_uri": "https://localhost:8080/",
          "height": 209
        },
        "outputId": "8c41054e-2a10-47f3-cdd3-367f37ed7800"
      },
      "outputs": [
        {
          "output_type": "execute_result",
          "data": {
            "text/plain": [
              "species\n",
              "Adelie       146\n",
              "Gentoo       119\n",
              "Chinstrap     68\n",
              "Name: count, dtype: int64"
            ],
            "text/html": [
              "<div>\n",
              "<style scoped>\n",
              "    .dataframe tbody tr th:only-of-type {\n",
              "        vertical-align: middle;\n",
              "    }\n",
              "\n",
              "    .dataframe tbody tr th {\n",
              "        vertical-align: top;\n",
              "    }\n",
              "\n",
              "    .dataframe thead th {\n",
              "        text-align: right;\n",
              "    }\n",
              "</style>\n",
              "<table border=\"1\" class=\"dataframe\">\n",
              "  <thead>\n",
              "    <tr style=\"text-align: right;\">\n",
              "      <th></th>\n",
              "      <th>count</th>\n",
              "    </tr>\n",
              "    <tr>\n",
              "      <th>species</th>\n",
              "      <th></th>\n",
              "    </tr>\n",
              "  </thead>\n",
              "  <tbody>\n",
              "    <tr>\n",
              "      <th>Adelie</th>\n",
              "      <td>146</td>\n",
              "    </tr>\n",
              "    <tr>\n",
              "      <th>Gentoo</th>\n",
              "      <td>119</td>\n",
              "    </tr>\n",
              "    <tr>\n",
              "      <th>Chinstrap</th>\n",
              "      <td>68</td>\n",
              "    </tr>\n",
              "  </tbody>\n",
              "</table>\n",
              "</div><br><label><b>dtype:</b> int64</label>"
            ]
          },
          "metadata": {},
          "execution_count": 11
        }
      ],
      "source": [
        "df.species.value_counts()"
      ]
    },
    {
      "cell_type": "code",
      "execution_count": 12,
      "metadata": {
        "id": "xSIHhmaLg3L4",
        "colab": {
          "base_uri": "https://localhost:8080/",
          "height": 519
        },
        "outputId": "380c1efe-3f22-4b84-def4-d4a5e2013286"
      },
      "outputs": [
        {
          "output_type": "execute_result",
          "data": {
            "text/plain": [
              "<Axes: xlabel='species'>"
            ]
          },
          "metadata": {},
          "execution_count": 12
        },
        {
          "output_type": "display_data",
          "data": {
            "text/plain": [
              "<Figure size 640x480 with 1 Axes>"
            ],
            "image/png": "[encoded data removed]"
          },
          "metadata": {}
        }
      ],
      "source": [
        "#Let us visualize it\n",
        "df.species.value_counts().plot(kind='bar')"
      ]
    },
    {
      "cell_type": "markdown",
      "metadata": {
        "id": "tztysQ_ll-jh"
      },
      "source": [
        "Q4: The target column \"species\" is in text format, Convert it to integers using the .map function with this dictionary as input arguments,\n",
        "{'Adelie':0.0, 'Gentoo':1.0, 'Chinstrap':2.0}"
      ]
    },
    {
      "cell_type": "code",
      "execution_count": 13,
      "metadata": {
        "id": "fCbvjur7hnGJ",
        "colab": {
          "base_uri": "https://localhost:8080/",
          "height": 206
        },
        "outputId": "f78742a9-7287-4868-a37c-49abdc4e514a"
      },
      "outputs": [
        {
          "output_type": "execute_result",
          "data": {
            "text/plain": [
              "   species     island  bill_length_mm  bill_depth_mm  flipper_length_mm  \\\n",
              "1      0.0  Torgersen            39.1           18.7              181.0   \n",
              "2      0.0  Torgersen            39.5           17.4              186.0   \n",
              "3      0.0  Torgersen            40.3           18.0              195.0   \n",
              "5      0.0  Torgersen            36.7           19.3              193.0   \n",
              "6      0.0  Torgersen            39.3           20.6              190.0   \n",
              "\n",
              "   body_mass_g     sex  year  \n",
              "1       3750.0    male  2007  \n",
              "2       3800.0  female  2007  \n",
              "3       3250.0  female  2007  \n",
              "5       3450.0  female  2007  \n",
              "6       3650.0    male  2007  "
            ],
            "text/html": [
              "\n",
              "  <div id=\"df-d1c0e273-5f61-42d8-ae36-bcb5f203c765\" class=\"colab-df-container\">\n",
              "    <div>\n",
              "<style scoped>\n",
              "    .dataframe tbody tr th:only-of-type {\n",
              "        vertical-align: middle;\n",
              "    }\n",
              "\n",
              "    .dataframe tbody tr th {\n",
              "        vertical-align: top;\n",
              "    }\n",
              "\n",
              "    .dataframe thead th {\n",
              "        text-align: right;\n",
              "    }\n",
              "</style>\n",
              "<table border=\"1\" class=\"dataframe\">\n",
              "  <thead>\n",
              "    <tr style=\"text-align: right;\">\n",
              "      <th></th>\n",
              "      <th>species</th>\n",
              "      <th>island</th>\n",
              "      <th>bill_length_mm</th>\n",
              "      <th>bill_depth_mm</th>\n",
              "      <th>flipper_length_mm</th>\n",
              "      <th>body_mass_g</th>\n",
              "      <th>sex</th>\n",
              "      <th>year</th>\n",
              "    </tr>\n",
              "  </thead>\n",
              "  <tbody>\n",
              "    <tr>\n",
              "      <th>1</th>\n",
              "      <td>0.0</td>\n",
              "      <td>Torgersen</td>\n",
              "      <td>39.1</td>\n",
              "      <td>18.7</td>\n",
              "      <td>181.0</td>\n",
              "      <td>3750.0</td>\n",
              "      <td>male</td>\n",
              "      <td>2007</td>\n",
              "    </tr>\n",
              "    <tr>\n",
              "      <th>2</th>\n",
              "      <td>0.0</td>\n",
              "      <td>Torgersen</td>\n",
              "      <td>39.5</td>\n",
              "      <td>17.4</td>\n",
              "      <td>186.0</td>\n",
              "      <td>3800.0</td>\n",
              "      <td>female</td>\n",
              "      <td>2007</td>\n",
              "    </tr>\n",
              "    <tr>\n",
              "      <th>3</th>\n",
              "      <td>0.0</td>\n",
              "      <td>Torgersen</td>\n",
              "      <td>40.3</td>\n",
              "      <td>18.0</td>\n",
              "      <td>195.0</td>\n",
              "      <td>3250.0</td>\n",
              "      <td>female</td>\n",
              "      <td>2007</td>\n",
              "    </tr>\n",
              "    <tr>\n",
              "      <th>5</th>\n",
              "      <td>0.0</td>\n",
              "      <td>Torgersen</td>\n",
              "      <td>36.7</td>\n",
              "      <td>19.3</td>\n",
              "      <td>193.0</td>\n",
              "      <td>3450.0</td>\n",
              "      <td>female</td>\n",
              "      <td>2007</td>\n",
              "    </tr>\n",
              "    <tr>\n",
              "      <th>6</th>\n",
              "      <td>0.0</td>\n",
              "      <td>Torgersen</td>\n",
              "      <td>39.3</td>\n",
              "      <td>20.6</td>\n",
              "      <td>190.0</td>\n",
              "      <td>3650.0</td>\n",
              "      <td>male</td>\n",
              "      <td>2007</td>\n",
              "    </tr>\n",
              "  </tbody>\n",
              "</table>\n",
              "</div>\n",
              "    <div class=\"colab-df-buttons\">\n",
              "\n",
              "  <div class=\"colab-df-container\">\n",
              "    <button class=\"colab-df-convert\" onclick=\"convertToInteractive('df-d1c0e273-5f61-42d8-ae36-bcb5f203c765')\"\n",
              "            title=\"Convert this dataframe to an interactive table.\"\n",
              "            style=\"display:none;\">\n",
              "\n",
              "  <svg xmlns=\"http://www.w3.org/2000/svg\" height=\"24px\" viewBox=\"0 -960 960 960\">\n",
              "    <path d=\"M120-120v-720h720v720H120Zm60-500h600v-160H180v160Zm220 220h160v-160H400v160Zm0 220h160v-160H400v160ZM180-400h160v-160H180v160Zm440 0h160v-160H620v160ZM180-180h160v-160H180v160Zm440 0h160v-160H620v160Z\"/>\n",
              "  </svg>\n",
              "    </button>\n",
              "\n",
              "  <style>\n",
              "    .colab-df-container {\n",
              "      display:flex;\n",
              "      gap: 12px;\n",
              "    }\n",
              "\n",
              "    .colab-df-convert {\n",
              "      background-color: #E8F0FE;\n",
              "      border: none;\n",
              "      border-radius: 50%;\n",
              "      cursor: pointer;\n",
              "      display: none;\n",
              "      fill: #1967D2;\n",
              "      height: 32px;\n",
              "      padding: 0 0 0 0;\n",
              "      width: 32px;\n",
              "    }\n",
              "\n",
              "    .colab-df-convert:hover {\n",
              "      background-color: #E2EBFA;\n",
              "      box-shadow: 0px 1px 2px rgba(60, 64, 67, 0.3), 0px 1px 3px 1px rgba(60, 64, 67, 0.15);\n",
              "      fill: #174EA6;\n",
              "    }\n",
              "\n",
              "    .colab-df-buttons div {\n",
              "      margin-bottom: 4px;\n",
              "    }\n",
              "\n",
              "    [theme=dark] .colab-df-convert {\n",
              "      background-color: #3B4455;\n",
              "      fill: #D2E3FC;\n",
              "    }\n",
              "\n",
              "    [theme=dark] .colab-df-convert:hover {\n",
              "      background-color: #434B5C;\n",
              "      box-shadow: 0px 1px 3px 1px rgba(0, 0, 0, 0.15);\n",
              "      filter: drop-shadow(0px 1px 2px rgba(0, 0, 0, 0.3));\n",
              "      fill: #FFFFFF;\n",
              "    }\n",
              "  </style>\n",
              "\n",
              "    <script>\n",
              "      const buttonEl =\n",
              "        document.querySelector('#df-d1c0e273-5f61-42d8-ae36-bcb5f203c765 button.colab-df-convert');\n",
              "      buttonEl.style.display =\n",
              "        google.colab.kernel.accessAllowed ? 'block' : 'none';\n",
              "\n",
              "      async function convertToInteractive(key) {\n",
              "        const element = document.querySelector('#df-d1c0e273-5f61-42d8-ae36-bcb5f203c765');\n",
              "        const dataTable =\n",
              "          await google.colab.kernel.invokeFunction('convertToInteractive',\n",
              "                                                    [key], {});\n",
              "        if (!dataTable) return;\n",
              "\n",
              "        const docLinkHtml = 'Like what you see? Visit the ' +\n",
              "          '<a target=\"_blank\" href=https://colab.research.google.com/notebooks/data_table.ipynb>data table notebook</a>'\n",
              "          + ' to learn more about interactive tables.';\n",
              "        element.innerHTML = '';\n",
              "        dataTable['output_type'] = 'display_data';\n",
              "        await google.colab.output.renderOutput(dataTable, element);\n",
              "        const docLink = document.createElement('div');\n",
              "        docLink.innerHTML = docLinkHtml;\n",
              "        element.appendChild(docLink);\n",
              "      }\n",
              "    </script>\n",
              "  </div>\n",
              "\n",
              "\n",
              "    <div id=\"df-66e582f0-5c89-4260-b5c5-f32284917fa5\">\n",
              "      <button class=\"colab-df-quickchart\" onclick=\"quickchart('df-66e582f0-5c89-4260-b5c5-f32284917fa5')\"\n",
              "                title=\"Suggest charts\"\n",
              "                style=\"display:none;\">\n",
              "\n",
              "<svg xmlns=\"http://www.w3.org/2000/svg\" height=\"24px\"viewBox=\"0 0 24 24\"\n",
              "     width=\"24px\">\n",
              "    <g>\n",
              "        <path d=\"M19 3H5c-1.1 0-2 .9-2 2v14c0 1.1.9 2 2 2h14c1.1 0 2-.9 2-2V5c0-1.1-.9-2-2-2zM9 17H7v-7h2v7zm4 0h-2V7h2v10zm4 0h-2v-4h2v4z\"/>\n",
              "    </g>\n",
              "</svg>\n",
              "      </button>\n",
              "\n",
              "<style>\n",
              "  .colab-df-quickchart {\n",
              "      --bg-color: #E8F0FE;\n",
              "      --fill-color: #1967D2;\n",
              "      --hover-bg-color: #E2EBFA;\n",
              "      --hover-fill-color: #174EA6;\n",
              "      --disabled-fill-color: #AAA;\n",
              "      --disabled-bg-color: #DDD;\n",
              "  }\n",
              "\n",
              "  [theme=dark] .colab-df-quickchart {\n",
              "      --bg-color: #3B4455;\n",
              "      --fill-color: #D2E3FC;\n",
              "      --hover-bg-color: #434B5C;\n",
              "      --hover-fill-color: #FFFFFF;\n",
              "      --disabled-bg-color: #3B4455;\n",
              "      --disabled-fill-color: #666;\n",
              "  }\n",
              "\n",
              "  .colab-df-quickchart {\n",
              "    background-color: var(--bg-color);\n",
              "    border: none;\n",
              "    border-radius: 50%;\n",
              "    cursor: pointer;\n",
              "    display: none;\n",
              "    fill: var(--fill-color);\n",
              "    height: 32px;\n",
              "    padding: 0;\n",
              "    width: 32px;\n",
              "  }\n",
              "\n",
              "  .colab-df-quickchart:hover {\n",
              "    background-color: var(--hover-bg-color);\n",
              "    box-shadow: 0 1px 2px rgba(60, 64, 67, 0.3), 0 1px 3px 1px rgba(60, 64, 67, 0.15);\n",
              "    fill: var(--button-hover-fill-color);\n",
              "  }\n",
              "\n",
              "  .colab-df-quickchart-complete:disabled,\n",
              "  .colab-df-quickchart-complete:disabled:hover {\n",
              "    background-color: var(--disabled-bg-color);\n",
              "    fill: var(--disabled-fill-color);\n",
              "    box-shadow: none;\n",
              "  }\n",
              "\n",
              "  .colab-df-spinner {\n",
              "    border: 2px solid var(--fill-color);\n",
              "    border-color: transparent;\n",
              "    border-bottom-color: var(--fill-color);\n",
              "    animation:\n",
              "      spin 1s steps(1) infinite;\n",
              "  }\n",
              "\n",
              "  @keyframes spin {\n",
              "    0% {\n",
              "      border-color: transparent;\n",
              "      border-bottom-color: var(--fill-color);\n",
              "      border-left-color: var(--fill-color);\n",
              "    }\n",
              "    20% {\n",
              "      border-color: transparent;\n",
              "      border-left-color: var(--fill-color);\n",
              "      border-top-color: var(--fill-color);\n",
              "    }\n",
              "    30% {\n",
              "      border-color: transparent;\n",
              "      border-left-color: var(--fill-color);\n",
              "      border-top-color: var(--fill-color);\n",
              "      border-right-color: var(--fill-color);\n",
              "    }\n",
              "    40% {\n",
              "      border-color: transparent;\n",
              "      border-right-color: var(--fill-color);\n",
              "      border-top-color: var(--fill-color);\n",
              "    }\n",
              "    60% {\n",
              "      border-color: transparent;\n",
              "      border-right-color: var(--fill-color);\n",
              "    }\n",
              "    80% {\n",
              "      border-color: transparent;\n",
              "      border-right-color: var(--fill-color);\n",
              "      border-bottom-color: var(--fill-color);\n",
              "    }\n",
              "    90% {\n",
              "      border-color: transparent;\n",
              "      border-bottom-color: var(--fill-color);\n",
              "    }\n",
              "  }\n",
              "</style>\n",
              "\n",
              "      <script>\n",
              "        async function quickchart(key) {\n",
              "          const quickchartButtonEl =\n",
              "            document.querySelector('#' + key + ' button');\n",
              "          quickchartButtonEl.disabled = true;  // To prevent multiple clicks.\n",
              "          quickchartButtonEl.classList.add('colab-df-spinner');\n",
              "          try {\n",
              "            const charts = await google.colab.kernel.invokeFunction(\n",
              "                'suggestCharts', [key], {});\n",
              "          } catch (error) {\n",
              "            console.error('Error during call to suggestCharts:', error);\n",
              "          }\n",
              "          quickchartButtonEl.classList.remove('colab-df-spinner');\n",
              "          quickchartButtonEl.classList.add('colab-df-quickchart-complete');\n",
              "        }\n",
              "        (() => {\n",
              "          let quickchartButtonEl =\n",
              "            document.querySelector('#df-66e582f0-5c89-4260-b5c5-f32284917fa5 button');\n",
              "          quickchartButtonEl.style.display =\n",
              "            google.colab.kernel.accessAllowed ? 'block' : 'none';\n",
              "        })();\n",
              "      </script>\n",
              "    </div>\n",
              "\n",
              "    </div>\n",
              "  </div>\n"
            ],
            "application/vnd.google.colaboratory.intrinsic+json": {
              "type": "dataframe",
              "variable_name": "df",
              "summary": "{\n  \"name\": \"df\",\n  \"rows\": 333,\n  \"fields\": [\n    {\n      \"column\": \"species\",\n      \"properties\": {\n        \"dtype\": \"number\",\n        \"std\": 0.7678198868901498,\n        \"min\": 0.0,\n        \"max\": 2.0,\n        \"num_unique_values\": 3,\n        \"samples\": [\n          0.0,\n          1.0,\n          2.0\n        ],\n        \"semantic_type\": \"\",\n        \"description\": \"\"\n      }\n    },\n    {\n      \"column\": \"island\",\n      \"properties\": {\n        \"dtype\": \"category\",\n        \"num_unique_values\": 3,\n        \"samples\": [\n          \"Torgersen\",\n          \"Biscoe\",\n          \"Dream\"\n        ],\n        \"semantic_type\": \"\",\n        \"description\": \"\"\n      }\n    },\n    {\n      \"column\": \"bill_length_mm\",\n      \"properties\": {\n        \"dtype\": \"number\",\n        \"std\": 5.46866834264756,\n        \"min\": 32.1,\n        \"max\": 59.6,\n        \"num_unique_values\": 163,\n        \"samples\": [\n          46.9,\n          45.7,\n          52.1\n        ],\n        \"semantic_type\": \"\",\n        \"description\": \"\"\n      }\n    },\n    {\n      \"column\": \"bill_depth_mm\",\n      \"properties\": {\n        \"dtype\": \"number\",\n        \"std\": 1.9692354633199,\n        \"min\": 13.1,\n        \"max\": 21.5,\n        \"num_unique_values\": 79,\n        \"samples\": [\n          19.5,\n          18.7,\n          17.0\n        ],\n        \"semantic_type\": \"\",\n        \"description\": \"\"\n      }\n    },\n    {\n      \"column\": \"flipper_length_mm\",\n      \"properties\": {\n        \"dtype\": \"number\",\n        \"std\": 14.01576528828788,\n        \"min\": 172.0,\n        \"max\": 231.0,\n        \"num_unique_values\": 54,\n        \"samples\": [\n          188.0,\n          223.0,\n          229.0\n        ],\n        \"semantic_type\": \"\",\n        \"description\": \"\"\n      }\n    },\n    {\n      \"column\": \"body_mass_g\",\n      \"properties\": {\n        \"dtype\": \"number\",\n        \"std\": 805.2158019428966,\n        \"min\": 2700.0,\n        \"max\": 6300.0,\n        \"num_unique_values\": 93,\n        \"samples\": [\n          4725.0,\n          3100.0,\n          5400.0\n        ],\n        \"semantic_type\": \"\",\n        \"description\": \"\"\n      }\n    },\n    {\n      \"column\": \"sex\",\n      \"properties\": {\n        \"dtype\": \"category\",\n        \"num_unique_values\": 2,\n        \"samples\": [\n          \"female\",\n          \"male\"\n        ],\n        \"semantic_type\": \"\",\n        \"description\": \"\"\n      }\n    },\n    {\n      \"column\": \"year\",\n      \"properties\": {\n        \"dtype\": \"number\",\n        \"std\": 0,\n        \"min\": 2007,\n        \"max\": 2009,\n        \"num_unique_values\": 3,\n        \"samples\": [\n          2007,\n          2008\n        ],\n        \"semantic_type\": \"\",\n        \"description\": \"\"\n      }\n    }\n  ]\n}"
            }
          },
          "metadata": {},
          "execution_count": 13
        }
      ],
      "source": [
        "#Data manipulation\n",
        "#change last column to integers\n",
        "df['species'] = df['species'].map( {'Adelie':0.0, 'Gentoo':1.0, 'Chinstrap':2.0})\n",
        "df.head()"
      ]
    },
    {
      "cell_type": "markdown",
      "metadata": {
        "id": "hTVHxQMDjERn"
      },
      "source": [
        "#### Next, Let's select the features and target that will be used to build our neural network model\n",
        "\n",
        "Q5: Select`bill_length_mm`, `bill_depth_mm`, `flipper_length_mm`, `body_mass_g` as features `x`, and `species` as target `y`"
      ]
    },
    {
      "cell_type": "code",
      "execution_count": 14,
      "metadata": {
        "id": "GHqWY4aAi1-r"
      },
      "outputs": [],
      "source": [
        "# Define the features and label\n",
        "x = df.drop(['species', 'island', 'sex', 'year'] , axis =1)\n",
        "y = df['species']\n"
      ]
    },
    {
      "cell_type": "markdown",
      "metadata": {
        "id": "fFAiO8SZ-6DA"
      },
      "source": [
        "Q6: Print the first 5 rows in x"
      ]
    },
    {
      "cell_type": "code",
      "execution_count": 15,
      "metadata": {
        "id": "fncfdDQxnoMx",
        "colab": {
          "base_uri": "https://localhost:8080/",
          "height": 206
        },
        "outputId": "2cfe4dd2-42ad-4bf0-8847-a517ab384cba"
      },
      "outputs": [
        {
          "output_type": "execute_result",
          "data": {
            "text/plain": [
              "     bill_length_mm  bill_depth_mm  flipper_length_mm  body_mass_g\n",
              "340            55.8           19.8              207.0       4000.0\n",
              "341            43.5           18.1              202.0       3400.0\n",
              "342            49.6           18.2              193.0       3775.0\n",
              "343            50.8           19.0              210.0       4100.0\n",
              "344            50.2           18.7              198.0       3775.0"
            ],
            "text/html": [
              "\n",
              "  <div id=\"df-c0dcfff4-b39f-4b4a-97df-3502152b9285\" class=\"colab-df-container\">\n",
              "    <div>\n",
              "<style scoped>\n",
              "    .dataframe tbody tr th:only-of-type {\n",
              "        vertical-align: middle;\n",
              "    }\n",
              "\n",
              "    .dataframe tbody tr th {\n",
              "        vertical-align: top;\n",
              "    }\n",
              "\n",
              "    .dataframe thead th {\n",
              "        text-align: right;\n",
              "    }\n",
              "</style>\n",
              "<table border=\"1\" class=\"dataframe\">\n",
              "  <thead>\n",
              "    <tr style=\"text-align: right;\">\n",
              "      <th></th>\n",
              "      <th>bill_length_mm</th>\n",
              "      <th>bill_depth_mm</th>\n",
              "      <th>flipper_length_mm</th>\n",
              "      <th>body_mass_g</th>\n",
              "    </tr>\n",
              "  </thead>\n",
              "  <tbody>\n",
              "    <tr>\n",
              "      <th>340</th>\n",
              "      <td>55.8</td>\n",
              "      <td>19.8</td>\n",
              "      <td>207.0</td>\n",
              "      <td>4000.0</td>\n",
              "    </tr>\n",
              "    <tr>\n",
              "      <th>341</th>\n",
              "      <td>43.5</td>\n",
              "      <td>18.1</td>\n",
              "      <td>202.0</td>\n",
              "      <td>3400.0</td>\n",
              "    </tr>\n",
              "    <tr>\n",
              "      <th>342</th>\n",
              "      <td>49.6</td>\n",
              "      <td>18.2</td>\n",
              "      <td>193.0</td>\n",
              "      <td>3775.0</td>\n",
              "    </tr>\n",
              "    <tr>\n",
              "      <th>343</th>\n",
              "      <td>50.8</td>\n",
              "      <td>19.0</td>\n",
              "      <td>210.0</td>\n",
              "      <td>4100.0</td>\n",
              "    </tr>\n",
              "    <tr>\n",
              "      <th>344</th>\n",
              "      <td>50.2</td>\n",
              "      <td>18.7</td>\n",
              "      <td>198.0</td>\n",
              "      <td>3775.0</td>\n",
              "    </tr>\n",
              "  </tbody>\n",
              "</table>\n",
              "</div>\n",
              "    <div class=\"colab-df-buttons\">\n",
              "\n",
              "  <div class=\"colab-df-container\">\n",
              "    <button class=\"colab-df-convert\" onclick=\"convertToInteractive('df-c0dcfff4-b39f-4b4a-97df-3502152b9285')\"\n",
              "            title=\"Convert this dataframe to an interactive table.\"\n",
              "            style=\"display:none;\">\n",
              "\n",
              "  <svg xmlns=\"http://www.w3.org/2000/svg\" height=\"24px\" viewBox=\"0 -960 960 960\">\n",
              "    <path d=\"M120-120v-720h720v720H120Zm60-500h600v-160H180v160Zm220 220h160v-160H400v160Zm0 220h160v-160H400v160ZM180-400h160v-160H180v160Zm440 0h160v-160H620v160ZM180-180h160v-160H180v160Zm440 0h160v-160H620v160Z\"/>\n",
              "  </svg>\n",
              "    </button>\n",
              "\n",
              "  <style>\n",
              "    .colab-df-container {\n",
              "      display:flex;\n",
              "      gap: 12px;\n",
              "    }\n",
              "\n",
              "    .colab-df-convert {\n",
              "      background-color: #E8F0FE;\n",
              "      border: none;\n",
              "      border-radius: 50%;\n",
              "      cursor: pointer;\n",
              "      display: none;\n",
              "      fill: #1967D2;\n",
              "      height: 32px;\n",
              "      padding: 0 0 0 0;\n",
              "      width: 32px;\n",
              "    }\n",
              "\n",
              "    .colab-df-convert:hover {\n",
              "      background-color: #E2EBFA;\n",
              "      box-shadow: 0px 1px 2px rgba(60, 64, 67, 0.3), 0px 1px 3px 1px rgba(60, 64, 67, 0.15);\n",
              "      fill: #174EA6;\n",
              "    }\n",
              "\n",
              "    .colab-df-buttons div {\n",
              "      margin-bottom: 4px;\n",
              "    }\n",
              "\n",
              "    [theme=dark] .colab-df-convert {\n",
              "      background-color: #3B4455;\n",
              "      fill: #D2E3FC;\n",
              "    }\n",
              "\n",
              "    [theme=dark] .colab-df-convert:hover {\n",
              "      background-color: #434B5C;\n",
              "      box-shadow: 0px 1px 3px 1px rgba(0, 0, 0, 0.15);\n",
              "      filter: drop-shadow(0px 1px 2px rgba(0, 0, 0, 0.3));\n",
              "      fill: #FFFFFF;\n",
              "    }\n",
              "  </style>\n",
              "\n",
              "    <script>\n",
              "      const buttonEl =\n",
              "        document.querySelector('#df-c0dcfff4-b39f-4b4a-97df-3502152b9285 button.colab-df-convert');\n",
              "      buttonEl.style.display =\n",
              "        google.colab.kernel.accessAllowed ? 'block' : 'none';\n",
              "\n",
              "      async function convertToInteractive(key) {\n",
              "        const element = document.querySelector('#df-c0dcfff4-b39f-4b4a-97df-3502152b9285');\n",
              "        const dataTable =\n",
              "          await google.colab.kernel.invokeFunction('convertToInteractive',\n",
              "                                                    [key], {});\n",
              "        if (!dataTable) return;\n",
              "\n",
              "        const docLinkHtml = 'Like what you see? Visit the ' +\n",
              "          '<a target=\"_blank\" href=https://colab.research.google.com/notebooks/data_table.ipynb>data table notebook</a>'\n",
              "          + ' to learn more about interactive tables.';\n",
              "        element.innerHTML = '';\n",
              "        dataTable['output_type'] = 'display_data';\n",
              "        await google.colab.output.renderOutput(dataTable, element);\n",
              "        const docLink = document.createElement('div');\n",
              "        docLink.innerHTML = docLinkHtml;\n",
              "        element.appendChild(docLink);\n",
              "      }\n",
              "    </script>\n",
              "  </div>\n",
              "\n",
              "\n",
              "    <div id=\"df-1287ca00-2d59-442c-a211-21a7debb3815\">\n",
              "      <button class=\"colab-df-quickchart\" onclick=\"quickchart('df-1287ca00-2d59-442c-a211-21a7debb3815')\"\n",
              "                title=\"Suggest charts\"\n",
              "                style=\"display:none;\">\n",
              "\n",
              "<svg xmlns=\"http://www.w3.org/2000/svg\" height=\"24px\"viewBox=\"0 0 24 24\"\n",
              "     width=\"24px\">\n",
              "    <g>\n",
              "        <path d=\"M19 3H5c-1.1 0-2 .9-2 2v14c0 1.1.9 2 2 2h14c1.1 0 2-.9 2-2V5c0-1.1-.9-2-2-2zM9 17H7v-7h2v7zm4 0h-2V7h2v10zm4 0h-2v-4h2v4z\"/>\n",
              "    </g>\n",
              "</svg>\n",
              "      </button>\n",
              "\n",
              "<style>\n",
              "  .colab-df-quickchart {\n",
              "      --bg-color: #E8F0FE;\n",
              "      --fill-color: #1967D2;\n",
              "      --hover-bg-color: #E2EBFA;\n",
              "      --hover-fill-color: #174EA6;\n",
              "      --disabled-fill-color: #AAA;\n",
              "      --disabled-bg-color: #DDD;\n",
              "  }\n",
              "\n",
              "  [theme=dark] .colab-df-quickchart {\n",
              "      --bg-color: #3B4455;\n",
              "      --fill-color: #D2E3FC;\n",
              "      --hover-bg-color: #434B5C;\n",
              "      --hover-fill-color: #FFFFFF;\n",
              "      --disabled-bg-color: #3B4455;\n",
              "      --disabled-fill-color: #666;\n",
              "  }\n",
              "\n",
              "  .colab-df-quickchart {\n",
              "    background-color: var(--bg-color);\n",
              "    border: none;\n",
              "    border-radius: 50%;\n",
              "    cursor: pointer;\n",
              "    display: none;\n",
              "    fill: var(--fill-color);\n",
              "    height: 32px;\n",
              "    padding: 0;\n",
              "    width: 32px;\n",
              "  }\n",
              "\n",
              "  .colab-df-quickchart:hover {\n",
              "    background-color: var(--hover-bg-color);\n",
              "    box-shadow: 0 1px 2px rgba(60, 64, 67, 0.3), 0 1px 3px 1px rgba(60, 64, 67, 0.15);\n",
              "    fill: var(--button-hover-fill-color);\n",
              "  }\n",
              "\n",
              "  .colab-df-quickchart-complete:disabled,\n",
              "  .colab-df-quickchart-complete:disabled:hover {\n",
              "    background-color: var(--disabled-bg-color);\n",
              "    fill: var(--disabled-fill-color);\n",
              "    box-shadow: none;\n",
              "  }\n",
              "\n",
              "  .colab-df-spinner {\n",
              "    border: 2px solid var(--fill-color);\n",
              "    border-color: transparent;\n",
              "    border-bottom-color: var(--fill-color);\n",
              "    animation:\n",
              "      spin 1s steps(1) infinite;\n",
              "  }\n",
              "\n",
              "  @keyframes spin {\n",
              "    0% {\n",
              "      border-color: transparent;\n",
              "      border-bottom-color: var(--fill-color);\n",
              "      border-left-color: var(--fill-color);\n",
              "    }\n",
              "    20% {\n",
              "      border-color: transparent;\n",
              "      border-left-color: var(--fill-color);\n",
              "      border-top-color: var(--fill-color);\n",
              "    }\n",
              "    30% {\n",
              "      border-color: transparent;\n",
              "      border-left-color: var(--fill-color);\n",
              "      border-top-color: var(--fill-color);\n",
              "      border-right-color: var(--fill-color);\n",
              "    }\n",
              "    40% {\n",
              "      border-color: transparent;\n",
              "      border-right-color: var(--fill-color);\n",
              "      border-top-color: var(--fill-color);\n",
              "    }\n",
              "    60% {\n",
              "      border-color: transparent;\n",
              "      border-right-color: var(--fill-color);\n",
              "    }\n",
              "    80% {\n",
              "      border-color: transparent;\n",
              "      border-right-color: var(--fill-color);\n",
              "      border-bottom-color: var(--fill-color);\n",
              "    }\n",
              "    90% {\n",
              "      border-color: transparent;\n",
              "      border-bottom-color: var(--fill-color);\n",
              "    }\n",
              "  }\n",
              "</style>\n",
              "\n",
              "      <script>\n",
              "        async function quickchart(key) {\n",
              "          const quickchartButtonEl =\n",
              "            document.querySelector('#' + key + ' button');\n",
              "          quickchartButtonEl.disabled = true;  // To prevent multiple clicks.\n",
              "          quickchartButtonEl.classList.add('colab-df-spinner');\n",
              "          try {\n",
              "            const charts = await google.colab.kernel.invokeFunction(\n",
              "                'suggestCharts', [key], {});\n",
              "          } catch (error) {\n",
              "            console.error('Error during call to suggestCharts:', error);\n",
              "          }\n",
              "          quickchartButtonEl.classList.remove('colab-df-spinner');\n",
              "          quickchartButtonEl.classList.add('colab-df-quickchart-complete');\n",
              "        }\n",
              "        (() => {\n",
              "          let quickchartButtonEl =\n",
              "            document.querySelector('#df-1287ca00-2d59-442c-a211-21a7debb3815 button');\n",
              "          quickchartButtonEl.style.display =\n",
              "            google.colab.kernel.accessAllowed ? 'block' : 'none';\n",
              "        })();\n",
              "      </script>\n",
              "    </div>\n",
              "\n",
              "    </div>\n",
              "  </div>\n"
            ],
            "application/vnd.google.colaboratory.intrinsic+json": {
              "type": "dataframe",
              "summary": "{\n  \"name\": \"x\",\n  \"rows\": 5,\n  \"fields\": [\n    {\n      \"column\": \"bill_length_mm\",\n      \"properties\": {\n        \"dtype\": \"number\",\n        \"std\": 4.379726018828117,\n        \"min\": 43.5,\n        \"max\": 55.8,\n        \"num_unique_values\": 5,\n        \"samples\": [\n          43.5,\n          50.2,\n          49.6\n        ],\n        \"semantic_type\": \"\",\n        \"description\": \"\"\n      }\n    },\n    {\n      \"column\": \"bill_depth_mm\",\n      \"properties\": {\n        \"dtype\": \"number\",\n        \"std\": 0.6877499545619761,\n        \"min\": 18.1,\n        \"max\": 19.8,\n        \"num_unique_values\": 5,\n        \"samples\": [\n          18.1,\n          18.7,\n          18.2\n        ],\n        \"semantic_type\": \"\",\n        \"description\": \"\"\n      }\n    },\n    {\n      \"column\": \"flipper_length_mm\",\n      \"properties\": {\n        \"dtype\": \"number\",\n        \"std\": 6.819090848492928,\n        \"min\": 193.0,\n        \"max\": 210.0,\n        \"num_unique_values\": 5,\n        \"samples\": [\n          202.0,\n          198.0,\n          193.0\n        ],\n        \"semantic_type\": \"\",\n        \"description\": \"\"\n      }\n    },\n    {\n      \"column\": \"body_mass_g\",\n      \"properties\": {\n        \"dtype\": \"number\",\n        \"std\": 269.60619429085824,\n        \"min\": 3400.0,\n        \"max\": 4100.0,\n        \"num_unique_values\": 4,\n        \"samples\": [\n          3400.0,\n          4100.0,\n          4000.0\n        ],\n        \"semantic_type\": \"\",\n        \"description\": \"\"\n      }\n    }\n  ]\n}"
            }
          },
          "metadata": {},
          "execution_count": 15
        }
      ],
      "source": [
        "x.tail()"
      ]
    },
    {
      "cell_type": "code",
      "execution_count": 16,
      "metadata": {
        "id": "1GB4PiU5ntfH",
        "colab": {
          "base_uri": "https://localhost:8080/",
          "height": 240
        },
        "outputId": "31cfa398-33c9-41dd-94ce-702ec8fcfdf8"
      },
      "outputs": [
        {
          "output_type": "execute_result",
          "data": {
            "text/plain": [
              "1    0.0\n",
              "2    0.0\n",
              "3    0.0\n",
              "5    0.0\n",
              "6    0.0\n",
              "Name: species, dtype: float64"
            ],
            "text/html": [
              "<div>\n",
              "<style scoped>\n",
              "    .dataframe tbody tr th:only-of-type {\n",
              "        vertical-align: middle;\n",
              "    }\n",
              "\n",
              "    .dataframe tbody tr th {\n",
              "        vertical-align: top;\n",
              "    }\n",
              "\n",
              "    .dataframe thead th {\n",
              "        text-align: right;\n",
              "    }\n",
              "</style>\n",
              "<table border=\"1\" class=\"dataframe\">\n",
              "  <thead>\n",
              "    <tr style=\"text-align: right;\">\n",
              "      <th></th>\n",
              "      <th>species</th>\n",
              "    </tr>\n",
              "  </thead>\n",
              "  <tbody>\n",
              "    <tr>\n",
              "      <th>1</th>\n",
              "      <td>0.0</td>\n",
              "    </tr>\n",
              "    <tr>\n",
              "      <th>2</th>\n",
              "      <td>0.0</td>\n",
              "    </tr>\n",
              "    <tr>\n",
              "      <th>3</th>\n",
              "      <td>0.0</td>\n",
              "    </tr>\n",
              "    <tr>\n",
              "      <th>5</th>\n",
              "      <td>0.0</td>\n",
              "    </tr>\n",
              "    <tr>\n",
              "      <th>6</th>\n",
              "      <td>0.0</td>\n",
              "    </tr>\n",
              "  </tbody>\n",
              "</table>\n",
              "</div><br><label><b>dtype:</b> float64</label>"
            ]
          },
          "metadata": {},
          "execution_count": 16
        }
      ],
      "source": [
        "# Print the first 5 rows in y\n",
        "y.head()"
      ]
    },
    {
      "cell_type": "code",
      "execution_count": 17,
      "metadata": {
        "id": "qLFQGpx5jRQi",
        "colab": {
          "base_uri": "https://localhost:8080/"
        },
        "outputId": "dc86ce40-f92a-461f-adfd-a466d0255273"
      },
      "outputs": [
        {
          "output_type": "execute_result",
          "data": {
            "text/plain": [
              "array([[  39.1,   18.7,  181. , 3750. ],\n",
              "       [  39.5,   17.4,  186. , 3800. ],\n",
              "       [  40.3,   18. ,  195. , 3250. ],\n",
              "       ...,\n",
              "       [  49.6,   18.2,  193. , 3775. ],\n",
              "       [  50.8,   19. ,  210. , 4100. ],\n",
              "       [  50.2,   18.7,  198. , 3775. ]])"
            ]
          },
          "metadata": {},
          "execution_count": 17
        }
      ],
      "source": [
        "#convert these to X and y to numpy arrays\n",
        "x= x.values\n",
        "y= y.values\n",
        "x"
      ]
    },
    {
      "cell_type": "markdown",
      "metadata": {
        "id": "Cw_GmPRQYxug"
      },
      "source": [
        "### 2. Create the neural network model\n",
        "Q7: Using a Model Class that inherits the neural newtork. Complete the code below to include:\n",
        "1. Input features = 4,\n",
        "2. Hidden layer 1 = 8\n",
        "3. Hidden layer 2 = 6\n",
        "4. Hidden layer 3 = 4\n",
        "5. Output layer = 3"
      ]
    },
    {
      "cell_type": "code",
      "execution_count": 18,
      "metadata": {
        "id": "rr4uij8AY527"
      },
      "outputs": [],
      "source": [
        "class PenguinModel(nn.Module):\n",
        "  # Define the Input layers (4 features for the penguins) -->\n",
        "  # Hidden layer 1 with n neurons -->\n",
        "  # Hidden layer 2 with m neurons -->\n",
        "  # Hidden layer 3 with p neurons -->\n",
        "  # output with 3 classes of penguins\n",
        "\n",
        "  #initialize the model Self\n",
        "  def __init__(self, input_features=4, h1=8, h2=6, h3=4, output_features=3):\n",
        "    super().__init__()  #instantiate our nn.Module\n",
        "\n",
        "    #define the layers\n",
        "    self.fc1 = nn.Linear(input_features, h1)\n",
        "    self.fc2 = nn.Linear(h1, h2)\n",
        "    self.fc3 = nn.Linear(h2,h3)\n",
        "    self.out = nn.Linear(h3, output_features)\n",
        "\n",
        "  #Create a forward network function: function to move everything forward\n",
        "  # Relu- if output less than 0, make it 0, if output more than 0 use the output\n",
        "  def forward(self, x):\n",
        "    x = F.relu(self.fc1(x)) #start with layer 1 and apply and activation function\n",
        "    x = F.relu(self.fc2(x)) #move to layer 2 and apply an activation function\n",
        "    x = F.relu(self.fc3(x)) #move to layer 3 and apply an activation function\n",
        "    x = self.out(x)         #move to output layer without an activation function\n",
        "    return x"
      ]
    },
    {
      "cell_type": "markdown",
      "metadata": {
        "id": "aHH9RVMpC5tm"
      },
      "source": [
        "Q8: Picks a manual seed for randomization an set at 32"
      ]
    },
    {
      "cell_type": "code",
      "execution_count": 19,
      "metadata": {
        "id": "a961d3IkYusc",
        "colab": {
          "base_uri": "https://localhost:8080/"
        },
        "outputId": "3bc84095-b470-4dc4-8c99-b51d6f5f784a"
      },
      "outputs": [
        {
          "output_type": "execute_result",
          "data": {
            "text/plain": [
              "<torch._C.Generator at 0x7eee4c7dcd90>"
            ]
          },
          "metadata": {},
          "execution_count": 19
        }
      ],
      "source": [
        "# Pick a manual seed for randomization\n",
        "torch.manual_seed(32)\n"
      ]
    },
    {
      "cell_type": "markdown",
      "metadata": {
        "id": "1rQtharFDCih"
      },
      "source": [
        "Q9: Create an instance of the penguin model with a variable name `model`"
      ]
    },
    {
      "cell_type": "code",
      "execution_count": 20,
      "metadata": {
        "id": "53XXsCGHDXlO"
      },
      "outputs": [],
      "source": [
        "# Create an instance of the model - Turn the model ON\n",
        "model = PenguinModel()"
      ]
    },
    {
      "cell_type": "code",
      "execution_count": 25,
      "metadata": {
        "id": "yaK-L0BPFJdh",
        "colab": {
          "base_uri": "https://localhost:8080/"
        },
        "outputId": "d1e4dc5e-be9a-4443-8d23-6824d0f3f29a"
      },
      "outputs": [
        {
          "output_type": "execute_result",
          "data": {
            "text/plain": [
              "==========================================================================================\n",
              "Layer (type:depth-idx)                   Output Shape              Param #\n",
              "==========================================================================================\n",
              "PenguinModel                             [1, 3]                    --\n",
              "├─Linear: 1-1                            [1, 8]                    40\n",
              "├─Linear: 1-2                            [1, 6]                    54\n",
              "├─Linear: 1-3                            [1, 4]                    28\n",
              "├─Linear: 1-4                            [1, 3]                    15\n",
              "==========================================================================================\n",
              "Total params: 137\n",
              "Trainable params: 137\n",
              "Non-trainable params: 0\n",
              "Total mult-adds (Units.MEGABYTES): 0.00\n",
              "==========================================================================================\n",
              "Input size (MB): 0.00\n",
              "Forward/backward pass size (MB): 0.00\n",
              "Params size (MB): 0.00\n",
              "Estimated Total Size (MB): 0.00\n",
              "=========================================================================================="
            ]
          },
          "metadata": {},
          "execution_count": 25
        }
      ],
      "source": [
        "# #Draw model graph\n",
        "# model_graph = draw_graph(model,input_size=[1,4], device='meta')\n",
        "summary(PenguinModel(), input_size=(1, 4))"
      ]
    },
    {
      "cell_type": "markdown",
      "metadata": {
        "id": "bHh9-roN_8WP"
      },
      "source": [
        "### 3. Split the data to train and test set"
      ]
    },
    {
      "cell_type": "code",
      "execution_count": 26,
      "metadata": {
        "id": "WXOyDKitknDM"
      },
      "outputs": [],
      "source": [
        "from sklearn.model_selection import train_test_split\n",
        "x_train, x_test, y_train, y_test = train_test_split(x, y, test_size = 0.25, random_state=32)\n"
      ]
    },
    {
      "cell_type": "markdown",
      "metadata": {
        "id": "HJV0yX3tAIxk"
      },
      "source": [
        "Q10: Convert X-inputs to float tensors using `torch.FloatTensor` and y-inputs to long tensor using `torch.LongTensor`"
      ]
    },
    {
      "cell_type": "code",
      "execution_count": 27,
      "metadata": {
        "id": "Yn60ks5rlqfR"
      },
      "outputs": [],
      "source": [
        "# Convert X-inputs to float tensors\n",
        "# x_train = torch.tensor(x_train, dtype=torch.double)\n",
        "x_train = torch.FloatTensor(x_train)\n",
        "x_test =torch.FloatTensor(x_test)\n",
        "\n",
        "#convert y-label to long tensors\n",
        "# y_train = torch.tensor(y_train, dtype=torch.double)\n",
        "y_train = torch.LongTensor(y_train)\n",
        "y_test =torch.LongTensor(y_test)"
      ]
    },
    {
      "cell_type": "code",
      "source": [
        "x_test"
      ],
      "metadata": {
        "colab": {
          "base_uri": "https://localhost:8080/"
        },
        "id": "T-utXymd3V75",
        "outputId": "2d66e8c4-150c-4b4e-9334-18dd533da2d7"
      },
      "execution_count": 28,
      "outputs": [
        {
          "output_type": "execute_result",
          "data": {
            "text/plain": [
              "tensor([[  37.7000,   16.0000,  183.0000, 3075.0000],\n",
              "        [  49.6000,   16.0000,  225.0000, 5700.0000],\n",
              "        [  38.5000,   17.9000,  190.0000, 3325.0000],\n",
              "        [  39.6000,   17.7000,  186.0000, 3500.0000],\n",
              "        [  38.8000,   17.2000,  180.0000, 3800.0000],\n",
              "        [  48.7000,   14.1000,  210.0000, 4450.0000],\n",
              "        [  35.7000,   16.9000,  185.0000, 3150.0000],\n",
              "        [  46.7000,   15.3000,  219.0000, 5200.0000],\n",
              "        [  58.0000,   17.8000,  181.0000, 3700.0000],\n",
              "        [  42.5000,   17.3000,  187.0000, 3350.0000],\n",
              "        [  42.4000,   17.3000,  181.0000, 3600.0000],\n",
              "        [  37.6000,   19.3000,  181.0000, 3300.0000],\n",
              "        [  46.4000,   15.0000,  216.0000, 4700.0000],\n",
              "        [  45.8000,   14.2000,  219.0000, 4700.0000],\n",
              "        [  46.5000,   13.5000,  210.0000, 4550.0000],\n",
              "        [  51.7000,   20.3000,  194.0000, 3775.0000],\n",
              "        [  42.6000,   13.7000,  213.0000, 4950.0000],\n",
              "        [  39.8000,   19.1000,  184.0000, 4650.0000],\n",
              "        [  45.5000,   15.0000,  220.0000, 5000.0000],\n",
              "        [  55.9000,   17.0000,  228.0000, 5600.0000],\n",
              "        [  49.8000,   15.9000,  229.0000, 5950.0000],\n",
              "        [  41.0000,   20.0000,  203.0000, 4725.0000],\n",
              "        [  40.1000,   18.9000,  188.0000, 4300.0000],\n",
              "        [  46.6000,   14.2000,  210.0000, 4850.0000],\n",
              "        [  47.2000,   15.5000,  215.0000, 4975.0000],\n",
              "        [  36.2000,   16.1000,  187.0000, 3550.0000],\n",
              "        [  48.4000,   14.4000,  203.0000, 4625.0000],\n",
              "        [  47.5000,   16.8000,  199.0000, 3900.0000],\n",
              "        [  38.2000,   18.1000,  185.0000, 3950.0000],\n",
              "        [  36.0000,   18.5000,  186.0000, 3100.0000],\n",
              "        [  37.9000,   18.6000,  172.0000, 3150.0000],\n",
              "        [  38.2000,   20.0000,  190.0000, 3900.0000],\n",
              "        [  47.2000,   13.7000,  214.0000, 4925.0000],\n",
              "        [  45.7000,   17.3000,  193.0000, 3600.0000],\n",
              "        [  53.5000,   19.9000,  205.0000, 4500.0000],\n",
              "        [  42.0000,   13.5000,  210.0000, 4150.0000],\n",
              "        [  48.2000,   15.6000,  221.0000, 5100.0000],\n",
              "        [  49.5000,   19.0000,  200.0000, 3800.0000],\n",
              "        [  48.5000,   15.0000,  219.0000, 4850.0000],\n",
              "        [  35.0000,   17.9000,  190.0000, 3450.0000],\n",
              "        [  36.7000,   19.3000,  193.0000, 3450.0000],\n",
              "        [  46.1000,   15.1000,  215.0000, 5100.0000],\n",
              "        [  52.0000,   19.0000,  197.0000, 4150.0000],\n",
              "        [  43.4000,   14.4000,  218.0000, 4600.0000],\n",
              "        [  46.1000,   13.2000,  211.0000, 4500.0000],\n",
              "        [  43.5000,   15.2000,  213.0000, 4650.0000],\n",
              "        [  41.4000,   18.5000,  202.0000, 3875.0000],\n",
              "        [  46.8000,   16.1000,  215.0000, 5500.0000],\n",
              "        [  51.0000,   18.8000,  203.0000, 4100.0000],\n",
              "        [  40.7000,   17.0000,  190.0000, 3725.0000],\n",
              "        [  43.2000,   19.0000,  197.0000, 4775.0000],\n",
              "        [  50.1000,   17.9000,  190.0000, 3400.0000],\n",
              "        [  51.3000,   19.9000,  198.0000, 3700.0000],\n",
              "        [  45.2000,   16.4000,  223.0000, 5950.0000],\n",
              "        [  40.9000,   18.9000,  184.0000, 3900.0000],\n",
              "        [  35.5000,   16.2000,  195.0000, 3350.0000],\n",
              "        [  49.9000,   16.1000,  213.0000, 5400.0000],\n",
              "        [  42.5000,   20.7000,  197.0000, 4500.0000],\n",
              "        [  50.7000,   19.7000,  203.0000, 4050.0000],\n",
              "        [  50.0000,   15.2000,  218.0000, 5700.0000],\n",
              "        [  46.8000,   16.5000,  189.0000, 3650.0000],\n",
              "        [  37.7000,   19.8000,  198.0000, 3500.0000],\n",
              "        [  45.6000,   19.4000,  194.0000, 3525.0000],\n",
              "        [  46.5000,   14.5000,  213.0000, 4400.0000],\n",
              "        [  36.4000,   17.0000,  195.0000, 3325.0000],\n",
              "        [  46.4000,   18.6000,  190.0000, 3450.0000],\n",
              "        [  36.3000,   19.5000,  190.0000, 3800.0000],\n",
              "        [  45.7000,   17.0000,  195.0000, 3650.0000],\n",
              "        [  49.5000,   16.1000,  224.0000, 5650.0000],\n",
              "        [  44.5000,   14.7000,  214.0000, 4850.0000],\n",
              "        [  49.2000,   15.2000,  221.0000, 6300.0000],\n",
              "        [  40.9000,   16.6000,  187.0000, 3200.0000],\n",
              "        [  37.5000,   18.5000,  199.0000, 4475.0000],\n",
              "        [  35.9000,   19.2000,  189.0000, 3800.0000],\n",
              "        [  40.6000,   17.2000,  187.0000, 3475.0000],\n",
              "        [  38.6000,   21.2000,  191.0000, 3800.0000],\n",
              "        [  45.7000,   13.9000,  214.0000, 4400.0000],\n",
              "        [  49.3000,   15.7000,  217.0000, 5850.0000],\n",
              "        [  46.0000,   18.9000,  195.0000, 4150.0000],\n",
              "        [  47.6000,   18.3000,  195.0000, 3850.0000],\n",
              "        [  45.8000,   14.6000,  210.0000, 4200.0000],\n",
              "        [  35.2000,   15.9000,  186.0000, 3050.0000],\n",
              "        [  50.9000,   17.9000,  196.0000, 3675.0000],\n",
              "        [  44.9000,   13.3000,  213.0000, 5100.0000]])"
            ]
          },
          "metadata": {},
          "execution_count": 28
        }
      ]
    },
    {
      "cell_type": "code",
      "execution_count": 29,
      "metadata": {
        "id": "vz2sy0bjo8TS",
        "colab": {
          "base_uri": "https://localhost:8080/"
        },
        "outputId": "000c4574-6a58-4a2a-c8bc-e97b8ea914f5"
      },
      "outputs": [
        {
          "output_type": "execute_result",
          "data": {
            "text/plain": [
              "tensor([0, 0, 0, 1, 1, 2, 0, 0, 1, 0, 0, 0, 2, 1, 0, 2, 1, 1, 2, 0, 1, 0, 1, 1,\n",
              "        0, 1, 0, 0, 0, 2, 0, 0, 1, 2, 0, 1, 0, 0, 0, 2, 0, 2, 1, 1, 1, 0, 2, 1,\n",
              "        0, 0, 1, 0, 0, 2, 2, 2, 2, 2, 0, 1, 2, 0, 1, 2, 1, 0, 0, 0, 0, 2, 0, 1,\n",
              "        2, 0, 0, 0, 1, 0, 1, 0, 1, 0, 2, 1, 0, 1, 1, 1, 1, 1, 1, 0, 1, 1, 2, 1,\n",
              "        1, 0, 0, 1, 1, 0, 1, 2, 0, 0, 0, 0, 2, 2, 0, 1, 2, 2, 0, 0, 0, 1, 0, 0,\n",
              "        2, 1, 1, 1, 1, 0, 0, 0, 2, 2, 0, 2, 0, 0, 2, 2, 2, 0, 0, 2, 1, 0, 0, 0,\n",
              "        0, 0, 0, 0, 0, 1, 0, 0, 0, 0, 2, 1, 0, 1, 1, 1, 1, 2, 1, 2, 0, 1, 1, 1,\n",
              "        1, 2, 1, 0, 0, 0, 0, 2, 0, 1, 1, 0, 2, 0, 2, 0, 1, 0, 0, 0, 1, 1, 1, 0,\n",
              "        1, 0, 1, 1, 1, 1, 0, 1, 0, 0, 1, 1, 1, 1, 0, 0, 0, 1, 1, 1, 2, 0, 2, 0,\n",
              "        1, 0, 1, 0, 1, 0, 0, 2, 0, 1, 1, 1, 2, 0, 0, 0, 0, 2, 0, 0, 2, 0, 0, 0,\n",
              "        1, 1, 0, 0, 1, 0, 2, 0, 1])"
            ]
          },
          "metadata": {},
          "execution_count": 29
        }
      ],
      "source": [
        "y_train"
      ]
    },
    {
      "cell_type": "markdown",
      "metadata": {
        "id": "1uisYqB5o3q8"
      },
      "source": [
        "### 4. Train the model\n",
        "\n",
        "Q11:\n",
        "1. Choose a Criterion for the model using the nn.CrossEntropyLoss() and assign it to a variable name `criterion`  \n",
        "\n",
        "2. Choose an Optimizer for the model using the `torch.optim.Adam` module , with a learning rate of 0.01 and assign it to a variable name `optimizer`  "
      ]
    },
    {
      "cell_type": "code",
      "execution_count": 30,
      "metadata": {
        "id": "D3O9ImarmDP0"
      },
      "outputs": [],
      "source": [
        "# Set the criterion of model to measure the error,\n",
        "# how far off the prediction are from the data\n",
        "\n",
        "criterion = nn.CrossEntropyLoss()\n",
        "\n",
        "# Choose an Optimizer (Adam), learning rate\n",
        "# (if error doesn't go down after a bunch of iterations (epoch), lower our learning rate)\n",
        "optimizer = torch.optim.Adam(model.parameters(), lr =0.01) #the lower the lr the more the time to train"
      ]
    },
    {
      "cell_type": "code",
      "execution_count": 31,
      "metadata": {
        "id": "GyJRxJSVuJl5",
        "colab": {
          "base_uri": "https://localhost:8080/"
        },
        "outputId": "58e115e4-909a-43d4-f951-6b133d137920"
      },
      "outputs": [
        {
          "output_type": "execute_result",
          "data": {
            "text/plain": [
              "PenguinModel(\n",
              "  (fc1): Linear(in_features=4, out_features=8, bias=True)\n",
              "  (fc2): Linear(in_features=8, out_features=6, bias=True)\n",
              "  (fc3): Linear(in_features=6, out_features=4, bias=True)\n",
              "  (out): Linear(in_features=4, out_features=3, bias=True)\n",
              ")"
            ]
          },
          "metadata": {},
          "execution_count": 31
        }
      ],
      "source": [
        "model"
      ]
    },
    {
      "cell_type": "markdown",
      "source": [
        "Q12: Train the model with  51 epochs, and output the result every 5 epoch"
      ],
      "metadata": {
        "id": "7dwKMNrwntNS"
      }
    },
    {
      "cell_type": "code",
      "execution_count": 32,
      "metadata": {
        "id": "H7PkrCVXp_gE",
        "colab": {
          "base_uri": "https://localhost:8080/"
        },
        "outputId": "f9fd8a20-df39-4a86-f955-e09cecbbeeb8"
      },
      "outputs": [
        {
          "output_type": "stream",
          "name": "stdout",
          "text": [
            "Epoch: 0 and loss: 13.716621398925781\n",
            "Epoch: 5 and loss: 4.879710674285889\n",
            "Epoch: 10 and loss: 1.0964187383651733\n",
            "Epoch: 15 and loss: 1.0875200033187866\n",
            "Epoch: 20 and loss: 1.0800989866256714\n",
            "Epoch: 25 and loss: 1.0737026929855347\n",
            "Epoch: 30 and loss: 1.0681231021881104\n",
            "Epoch: 35 and loss: 1.0632505416870117\n",
            "Epoch: 40 and loss: 1.0590139627456665\n",
            "Epoch: 45 and loss: 1.0553585290908813\n",
            "Epoch: 50 and loss: 1.0522329807281494\n"
          ]
        }
      ],
      "source": [
        "# Train the model\n",
        "#Epoch? (if 1, it implies the number of time the model is trained is once)\n",
        "\n",
        "epoch =51\n",
        "losses = []   #this list is to store the losses in each epoch\n",
        "\n",
        "for i in range(epoch):\n",
        "  # Go forward and get prediction\n",
        "  y_pred = model.forward(x_train) #get predicted result\n",
        "\n",
        "  #Measure the loss/error, it will be high at first- How far predictions from data\n",
        "  loss = criterion(y_pred, y_train) #predicted values vs the y_train\n",
        "\n",
        "  #Keep track of our losses\n",
        "  losses.append(loss.detach().numpy())\n",
        "\n",
        "  #print every 10 epoch\n",
        "  if i % 5 == 0:\n",
        "    print(f'Epoch: {i} and loss: {loss}')\n",
        "\n",
        "  #Do some back propagation: take the error rate of forward propagation and feed it back\n",
        "  #through the network to fine tune the weight\n",
        "  optimizer.zero_grad() # reset grads\n",
        "  loss.backward()\n",
        "  optimizer.step() # update weights\n"
      ]
    },
    {
      "cell_type": "code",
      "execution_count": 33,
      "metadata": {
        "colab": {
          "base_uri": "https://localhost:8080/",
          "height": 466
        },
        "id": "ffrHGI7LsW9d",
        "outputId": "609ec42e-9281-47b3-fba3-92df10815598"
      },
      "outputs": [
        {
          "output_type": "execute_result",
          "data": {
            "text/plain": [
              "Text(0.5, 0, 'Epoch')"
            ]
          },
          "metadata": {},
          "execution_count": 33
        },
        {
          "output_type": "display_data",
          "data": {
            "text/plain": [
              "<Figure size 640x480 with 1 Axes>"
            ],
            "image/png": "[encoded data removed]"
          },
          "metadata": {}
        }
      ],
      "source": [
        "#Visualize the result\n",
        "plt.plot(range(epoch), losses)\n",
        "plt.ylabel('loss/error')\n",
        "plt.xlabel('Epoch')\n"
      ]
    },
    {
      "cell_type": "markdown",
      "metadata": {
        "id": "c9eqJB5L_H9H"
      },
      "source": [
        "### Model Validation on Test Data"
      ]
    },
    {
      "cell_type": "markdown",
      "source": [
        "Q13: Evaluate the model on the test data `x_test` and print the test_loss"
      ],
      "metadata": {
        "id": "b6WGRfDgoLfL"
      }
    },
    {
      "cell_type": "code",
      "execution_count": 34,
      "metadata": {
        "id": "W7zoQXfRv91Q"
      },
      "outputs": [],
      "source": [
        "#Evaluate Model on Test Data set\n",
        "with torch.no_grad():   #This turns off back propagation\n",
        "  #Evaluate the data on the 20% of data\n",
        "  y_eval = model.forward(x_test) # X_test are features from our test set, y_eval will be\n",
        "  test_loss = criterion(y_eval, y_test) # Find the test loss or error"
      ]
    },
    {
      "cell_type": "code",
      "execution_count": 35,
      "metadata": {
        "colab": {
          "base_uri": "https://localhost:8080/"
        },
        "id": "6l_o2f5aHp_w",
        "outputId": "ffebea13-cd81-4dfc-b434-50df9a8faa2c"
      },
      "outputs": [
        {
          "output_type": "execute_result",
          "data": {
            "text/plain": [
              "tensor(1.0873)"
            ]
          },
          "metadata": {},
          "execution_count": 35
        }
      ],
      "source": [
        "test_loss   # the test loss is close to the train loss, we have a great model"
      ]
    },
    {
      "cell_type": "markdown",
      "metadata": {
        "id": "V8PFy04XbI8z"
      },
      "source": [
        "#### Track the individual test data"
      ]
    },
    {
      "cell_type": "code",
      "execution_count": 36,
      "metadata": {
        "colab": {
          "base_uri": "https://localhost:8080/"
        },
        "id": "Cs9TmL-quIQB",
        "outputId": "fd5a7cbe-1b67-4c77-ab16-7bf26e312a36"
      },
      "outputs": [
        {
          "output_type": "execute_result",
          "data": {
            "text/plain": [
              "84"
            ]
          },
          "metadata": {},
          "execution_count": 36
        }
      ],
      "source": [
        "#check the length of the y test\n",
        "len(y_test)"
      ]
    },
    {
      "cell_type": "code",
      "source": [
        "y_test[0:5]"
      ],
      "metadata": {
        "colab": {
          "base_uri": "https://localhost:8080/"
        },
        "id": "CAEB-aZvgQal",
        "outputId": "d6272be3-e9dd-4d84-efd0-fabc018f60d6"
      },
      "execution_count": 37,
      "outputs": [
        {
          "output_type": "execute_result",
          "data": {
            "text/plain": [
              "tensor([0, 1, 0, 0, 0])"
            ]
          },
          "metadata": {},
          "execution_count": 37
        }
      ]
    },
    {
      "cell_type": "code",
      "source": [
        "x_test[0:5]"
      ],
      "metadata": {
        "colab": {
          "base_uri": "https://localhost:8080/"
        },
        "id": "6Qx0P2X1fcHg",
        "outputId": "956dcbe4-8360-43d5-d947-e450763007aa"
      },
      "execution_count": 38,
      "outputs": [
        {
          "output_type": "execute_result",
          "data": {
            "text/plain": [
              "tensor([[  37.7000,   16.0000,  183.0000, 3075.0000],\n",
              "        [  49.6000,   16.0000,  225.0000, 5700.0000],\n",
              "        [  38.5000,   17.9000,  190.0000, 3325.0000],\n",
              "        [  39.6000,   17.7000,  186.0000, 3500.0000],\n",
              "        [  38.8000,   17.2000,  180.0000, 3800.0000]])"
            ]
          },
          "metadata": {},
          "execution_count": 38
        }
      ]
    },
    {
      "cell_type": "code",
      "execution_count": 39,
      "metadata": {
        "colab": {
          "base_uri": "https://localhost:8080/"
        },
        "id": "J7qmQ5guHp8l",
        "outputId": "8d8a656d-9728-474a-9cd1-50a4ad9e11d5"
      },
      "outputs": [
        {
          "output_type": "stream",
          "name": "stdout",
          "text": [
            "1.) tensor([0.5164, 0.3611, 0.0556]) \t 0 \t 0\n",
            "2.) tensor([0.5164, 0.3611, 0.0556]) \t 1 \t 0\n",
            "3.) tensor([0.5164, 0.3611, 0.0556]) \t 0 \t 0\n",
            "4.) tensor([0.5164, 0.3611, 0.0556]) \t 0 \t 0\n",
            "5.) tensor([0.5164, 0.3611, 0.0556]) \t 0 \t 0\n",
            "6.) tensor([0.5164, 0.3611, 0.0556]) \t 1 \t 0\n",
            "7.) tensor([0.5164, 0.3611, 0.0556]) \t 0 \t 0\n",
            "8.) tensor([0.5164, 0.3611, 0.0556]) \t 1 \t 0\n",
            "9.) tensor([0.5164, 0.3611, 0.0556]) \t 2 \t 0\n",
            "10.) tensor([0.5164, 0.3611, 0.0556]) \t 2 \t 0\n",
            "11.) tensor([0.5164, 0.3611, 0.0556]) \t 2 \t 0\n",
            "12.) tensor([0.5164, 0.3611, 0.0556]) \t 0 \t 0\n",
            "13.) tensor([0.5164, 0.3611, 0.0556]) \t 1 \t 0\n",
            "14.) tensor([0.5164, 0.3611, 0.0556]) \t 1 \t 0\n",
            "15.) tensor([0.5164, 0.3611, 0.0556]) \t 1 \t 0\n",
            "16.) tensor([0.5164, 0.3611, 0.0556]) \t 2 \t 0\n",
            "17.) tensor([0.5164, 0.3611, 0.0556]) \t 1 \t 0\n",
            "18.) tensor([0.5164, 0.3611, 0.0556]) \t 0 \t 0\n",
            "19.) tensor([0.5164, 0.3611, 0.0556]) \t 1 \t 0\n",
            "20.) tensor([0.5164, 0.3611, 0.0556]) \t 1 \t 0\n",
            "21.) tensor([0.5164, 0.3611, 0.0556]) \t 1 \t 0\n",
            "22.) tensor([0.5164, 0.3611, 0.0556]) \t 0 \t 0\n",
            "23.) tensor([0.5164, 0.3611, 0.0556]) \t 0 \t 0\n",
            "24.) tensor([0.5164, 0.3611, 0.0556]) \t 1 \t 0\n",
            "25.) tensor([0.5164, 0.3611, 0.0556]) \t 1 \t 0\n",
            "26.) tensor([0.5164, 0.3611, 0.0556]) \t 0 \t 0\n",
            "27.) tensor([0.5164, 0.3611, 0.0556]) \t 1 \t 0\n",
            "28.) tensor([0.5164, 0.3611, 0.0556]) \t 2 \t 0\n",
            "29.) tensor([0.5164, 0.3611, 0.0556]) \t 0 \t 0\n",
            "30.) tensor([0.5164, 0.3611, 0.0556]) \t 0 \t 0\n",
            "31.) tensor([0.5164, 0.3611, 0.0556]) \t 0 \t 0\n",
            "32.) tensor([0.5164, 0.3611, 0.0556]) \t 0 \t 0\n",
            "33.) tensor([0.5164, 0.3611, 0.0556]) \t 1 \t 0\n",
            "34.) tensor([0.5164, 0.3611, 0.0556]) \t 2 \t 0\n",
            "35.) tensor([0.5164, 0.3611, 0.0556]) \t 2 \t 0\n",
            "36.) tensor([0.5164, 0.3611, 0.0556]) \t 1 \t 0\n",
            "37.) tensor([0.5164, 0.3611, 0.0556]) \t 1 \t 0\n",
            "38.) tensor([0.5164, 0.3611, 0.0556]) \t 2 \t 0\n",
            "39.) tensor([0.5164, 0.3611, 0.0556]) \t 1 \t 0\n",
            "40.) tensor([0.5164, 0.3611, 0.0556]) \t 0 \t 0\n",
            "41.) tensor([0.5164, 0.3611, 0.0556]) \t 0 \t 0\n",
            "42.) tensor([0.5164, 0.3611, 0.0556]) \t 1 \t 0\n",
            "43.) tensor([0.5164, 0.3611, 0.0556]) \t 2 \t 0\n",
            "44.) tensor([0.5164, 0.3611, 0.0556]) \t 1 \t 0\n",
            "45.) tensor([0.5164, 0.3611, 0.0556]) \t 1 \t 0\n",
            "46.) tensor([0.5164, 0.3611, 0.0556]) \t 1 \t 0\n",
            "47.) tensor([0.5164, 0.3611, 0.0556]) \t 0 \t 0\n",
            "48.) tensor([0.5164, 0.3611, 0.0556]) \t 1 \t 0\n",
            "49.) tensor([0.5164, 0.3611, 0.0556]) \t 2 \t 0\n",
            "50.) tensor([0.5164, 0.3611, 0.0556]) \t 0 \t 0\n",
            "51.) tensor([0.5164, 0.3611, 0.0556]) \t 0 \t 0\n",
            "52.) tensor([0.5164, 0.3611, 0.0556]) \t 2 \t 0\n",
            "53.) tensor([0.5164, 0.3611, 0.0556]) \t 2 \t 0\n",
            "54.) tensor([0.5164, 0.3611, 0.0556]) \t 1 \t 0\n",
            "55.) tensor([0.5164, 0.3611, 0.0556]) \t 0 \t 0\n",
            "56.) tensor([0.5164, 0.3611, 0.0556]) \t 0 \t 0\n",
            "57.) tensor([0.5164, 0.3611, 0.0556]) \t 1 \t 0\n",
            "58.) tensor([0.5164, 0.3611, 0.0556]) \t 0 \t 0\n",
            "59.) tensor([0.5164, 0.3611, 0.0556]) \t 2 \t 0\n",
            "60.) tensor([0.5164, 0.3611, 0.0556]) \t 1 \t 0\n",
            "61.) tensor([0.5164, 0.3611, 0.0556]) \t 2 \t 0\n",
            "62.) tensor([0.5164, 0.3611, 0.0556]) \t 0 \t 0\n",
            "63.) tensor([0.5164, 0.3611, 0.0556]) \t 2 \t 0\n",
            "64.) tensor([0.5164, 0.3611, 0.0556]) \t 1 \t 0\n",
            "65.) tensor([0.5164, 0.3611, 0.0556]) \t 0 \t 0\n",
            "66.) tensor([0.5164, 0.3611, 0.0556]) \t 2 \t 0\n",
            "67.) tensor([0.5164, 0.3611, 0.0556]) \t 0 \t 0\n",
            "68.) tensor([0.5164, 0.3611, 0.0556]) \t 2 \t 0\n",
            "69.) tensor([0.5164, 0.3611, 0.0556]) \t 1 \t 0\n",
            "70.) tensor([0.5164, 0.3611, 0.0556]) \t 1 \t 0\n",
            "71.) tensor([0.5164, 0.3611, 0.0556]) \t 1 \t 0\n",
            "72.) tensor([0.5164, 0.3611, 0.0556]) \t 2 \t 0\n",
            "73.) tensor([0.5164, 0.3611, 0.0556]) \t 0 \t 0\n",
            "74.) tensor([0.5164, 0.3611, 0.0556]) \t 0 \t 0\n",
            "75.) tensor([0.5164, 0.3611, 0.0556]) \t 0 \t 0\n",
            "76.) tensor([0.5164, 0.3611, 0.0556]) \t 0 \t 0\n",
            "77.) tensor([0.5164, 0.3611, 0.0556]) \t 1 \t 0\n",
            "78.) tensor([0.5164, 0.3611, 0.0556]) \t 1 \t 0\n",
            "79.) tensor([0.5164, 0.3611, 0.0556]) \t 2 \t 0\n",
            "80.) tensor([0.5164, 0.3611, 0.0556]) \t 2 \t 0\n",
            "81.) tensor([0.5164, 0.3611, 0.0556]) \t 1 \t 0\n",
            "82.) tensor([0.5164, 0.3611, 0.0556]) \t 0 \t 0\n",
            "83.) tensor([0.5164, 0.3611, 0.0556]) \t 2 \t 0\n",
            "84.) tensor([0.5164, 0.3611, 0.0556]) \t 1 \t 0\n",
            "We got 30 correct!\n"
          ]
        }
      ],
      "source": [
        "#Let's track the total correct data\n",
        "\n",
        "correct = 0\n",
        "with torch.no_grad():    #turn off back propagation\n",
        "  for i, data in enumerate(x_test):\n",
        "    y_val = model.forward(data)   # pass test data through the model\n",
        "\n",
        "    #will tell us what type of penguin class our network think it is\n",
        "    # argmax is a function that finds the index of the maximum value within an array or along a specified axis.\n",
        "    print(f'{i+1}.) {str(y_val)} \\t {y_test[i]} \\t {y_val.argmax().item()}')\n",
        "\n",
        "    # check number of correct labels\n",
        "    if y_val.argmax().item() == y_test[i]:\n",
        "      correct +=1\n",
        "print(f'We got {correct} correct!')"
      ]
    },
    {
      "cell_type": "markdown",
      "metadata": {
        "id": "AgKD7sNuiy5T"
      },
      "source": [
        "### Feed New Data into the Neural Network and Make Prediction"
      ]
    },
    {
      "cell_type": "markdown",
      "source": [
        "Q14: Given that you have the bill_length_mm =35.0 ,\tbill_depth_mm= 19.0,flipper_length_mm=181.0,\tbody_mass_g=3700.0\n",
        "\n",
        "What is the specie of penguin?"
      ],
      "metadata": {
        "id": "ThVlXixv2QME"
      }
    },
    {
      "cell_type": "code",
      "execution_count": 40,
      "metadata": {
        "colab": {
          "base_uri": "https://localhost:8080/"
        },
        "id": "PdAZOcfThgV5",
        "outputId": "0c93503d-c00d-485e-89ad-93f215eae2e3"
      },
      "outputs": [
        {
          "output_type": "execute_result",
          "data": {
            "text/plain": [
              "tensor([  35.,   19.,  118., 3700.])"
            ]
          },
          "metadata": {},
          "execution_count": 40
        }
      ],
      "source": [
        "# Given that you have the Sepal and petal length and sepal and petal width\n",
        "# What is the specie of flower\n",
        "\n",
        "new_penguin = torch.tensor([35.0, 19.0, 118.0, 3700.0])\n",
        "new_penguin"
      ]
    },
    {
      "cell_type": "code",
      "execution_count": 41,
      "metadata": {
        "colab": {
          "base_uri": "https://localhost:8080/"
        },
        "id": "9KF3kU4mjZMb",
        "outputId": "f26fa4a3-4cf0-411e-df6d-71480544a8bb"
      },
      "outputs": [
        {
          "output_type": "stream",
          "name": "stdout",
          "text": [
            "tensor([0.5164, 0.3611, 0.0556])\n"
          ]
        }
      ],
      "source": [
        "with torch.no_grad():\n",
        "  print(model(new_penguin))"
      ]
    },
    {
      "cell_type": "code",
      "execution_count": null,
      "metadata": {
        "id": "G9Locij7mA6V"
      },
      "outputs": [],
      "source": []
    }
  ],
  "metadata": {
    "colab": {
      "provenance": [],
      "authorship_tag": "ABX9TyMh8KXYaT8+Txv0KmVwxAtd",
      "include_colab_link": true
    },
    "kernelspec": {
      "display_name": "Python 3",
      "name": "python3"
    },
    "language_info": {
      "name": "python"
    }
  },
  "nbformat": 4,
  "nbformat_minor": 0
}
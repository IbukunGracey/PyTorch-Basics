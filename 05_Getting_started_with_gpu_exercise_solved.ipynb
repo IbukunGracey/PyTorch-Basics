{
  "cells": [
    {
      "cell_type": "markdown",
      "metadata": {
        "id": "view-in-github",
        "colab_type": "text"
      },
      "source": [
        "<a href=\"https://colab.research.google.com/github/IbukunGracey/PyTorch-Basics/blob/main/05_Getting_started_with_gpu_exercise_solved.ipynb\" target=\"_parent\"><img src=\"https://colab.research.google.com/assets/colab-badge.svg\" alt=\"Open In Colab\"/></a>"
      ]
    },
    {
      "cell_type": "code",
      "source": [
        "# Check for gpu\n",
        "import torch\n",
        "torch.cuda.is_available()"
      ],
      "metadata": {
        "colab": {
          "base_uri": "https://localhost:8080/"
        },
        "id": "0FuluY8Kp5sY",
        "outputId": "d7db59ac-d7f4-4bbd-c4e1-43da66019166"
      },
      "execution_count": null,
      "outputs": [
        {
          "output_type": "execute_result",
          "data": {
            "text/plain": [
              "True"
            ]
          },
          "metadata": {},
          "execution_count": 2
        }
      ]
    },
    {
      "cell_type": "code",
      "source": [
        "# Set device type\n",
        "device = \"cuda\" if torch.cuda.is_available() else \"cpu\"\n",
        "device"
      ],
      "metadata": {
        "colab": {
          "base_uri": "https://localhost:8080/",
          "height": 35
        },
        "id": "UzaS7Ai0qCXo",
        "outputId": "42c437c0-1d75-418e-a588-474496598b96"
      },
      "execution_count": null,
      "outputs": [
        {
          "output_type": "execute_result",
          "data": {
            "text/plain": [
              "'cuda'"
            ],
            "application/vnd.google.colaboratory.intrinsic+json": {
              "type": "string"
            }
          },
          "metadata": {},
          "execution_count": 3
        }
      ]
    },
    {
      "cell_type": "markdown",
      "source": [
        "### TO DO:\n",
        "\n",
        "1. Create a tensor on CPU and print the tensor\n",
        "\n",
        "`cpu_tensor = torch.tensor([1.0, 2.0, 3.0, 4.0])`"
      ],
      "metadata": {
        "id": "CJpwVGfjufST"
      }
    },
    {
      "cell_type": "code",
      "source": [
        "cpu_tensor = torch.tensor([1.0, 2.0, 3.0, 4.0])"
      ],
      "metadata": {
        "id": "0LiE0EH-vP4I"
      },
      "execution_count": null,
      "outputs": []
    },
    {
      "cell_type": "markdown",
      "source": [
        "2. Check the device that the tensor is in using `device`"
      ],
      "metadata": {
        "id": "1TS7F3T3vg0Q"
      }
    },
    {
      "cell_type": "code",
      "execution_count": null,
      "metadata": {
        "id": "G9Locij7mA6V",
        "colab": {
          "base_uri": "https://localhost:8080/"
        },
        "outputId": "a59f151b-724c-43e3-c220-1b7f3c7c1d78"
      },
      "outputs": [
        {
          "output_type": "execute_result",
          "data": {
            "text/plain": [
              "device(type='cpu')"
            ]
          },
          "metadata": {},
          "execution_count": 4
        }
      ],
      "source": [
        "cpu_tensor.device"
      ]
    },
    {
      "cell_type": "markdown",
      "source": [
        "3. Write a condition using `if torch.cuda.is_available():` to\n",
        "\n",
        " - Move the tensor to GPU  by creating  `gpu_tensor`and\n",
        "\n",
        " - perform this computation: square the cpu_tensor and divide by 2 and print the result\n",
        "\n",
        "- else:\n",
        "  print(\"CUDA (GPU) is not available on this system.\")\n"
      ],
      "metadata": {
        "id": "PQgR82jRvz6o"
      }
    },
    {
      "cell_type": "code",
      "source": [
        "if torch.cuda.is_available():\n",
        "  device = \"cuda\"\n",
        "  print(\"CUDA (GPU) is available on this system.\")\n",
        "  gpu_tensor = cpu_tensor.to(device)\n",
        "  squared_tensor = (gpu_tensor ** 2)/2\n",
        "  print(squared_tensor)\n",
        "\n",
        "else:\n",
        "  print(\"CUDA (GPU) is not available on this system.\")"
      ],
      "metadata": {
        "colab": {
          "base_uri": "https://localhost:8080/"
        },
        "id": "-3TtCguuwaft",
        "outputId": "53616a26-51b6-49a4-e490-b3886a7031cd"
      },
      "execution_count": null,
      "outputs": [
        {
          "output_type": "stream",
          "name": "stdout",
          "text": [
            "CUDA (GPU) is available on this system.\n",
            "tensor([0.5000, 2.0000, 4.5000, 8.0000])\n"
          ]
        }
      ]
    },
    {
      "cell_type": "markdown",
      "source": [],
      "metadata": {
        "id": "YkVrgxT4ys6H"
      }
    },
    {
      "cell_type": "markdown",
      "source": [
        "4. Move the result back to CPU and perform another computation\n",
        " -  find the sum of the elements in the tensor, and print the result and device\n",
        "\n",
        "\n"
      ],
      "metadata": {
        "id": "gQxIqvaJyHyQ"
      }
    },
    {
      "cell_type": "code",
      "source": [
        "#  you can also use .cpu\n",
        "result_cpu = squared_tensor.to('cpu')\n",
        "total = result_cpu.sum()\n",
        "print(f\"Final result (sum on CPU): {total}\")\n",
        "print(f\"Device: {total.device}\")"
      ],
      "metadata": {
        "colab": {
          "base_uri": "https://localhost:8080/"
        },
        "id": "afgXTeIHyuqu",
        "outputId": "16b56239-9b9e-4121-eaa4-e93b5ee1d1c3"
      },
      "execution_count": null,
      "outputs": [
        {
          "output_type": "stream",
          "name": "stdout",
          "text": [
            "Final result (sum on CPU): 15.0\n",
            "Device: cpu\n"
          ]
        }
      ]
    },
    {
      "cell_type": "code",
      "source": [
        "#PyTorch Tensor Exercise: GPU and CPU Computation\n",
        "\n",
        "import torch\n",
        "\n",
        "# 1. Create a tensor on CPU\n",
        "print(\"Step 1: Creating a tensor on CPU...\")\n",
        "cpu_tensor = torch.tensor([1.0, 2.0, 3.0, 4.0])\n",
        "print(f\"Tensor on CPU: {cpu_tensor}\")\n",
        "print(f\"Device: {cpu_tensor.device}\\n\")\n",
        "\n",
        "# 2. Move the tensor to GPU and perform a computation (e.g., square each element)\n",
        "if torch.cuda.is_available():\n",
        "    print(\"Step 2: Moving tensor to GPU and squaring it...\")\n",
        "    gpu_tensor = cpu_tensor.to('cuda')\n",
        "    print(f\"Tensor on GPU: {gpu_tensor}\")\n",
        "    squared_tensor = (gpu_tensor ** 2)/2\n",
        "    print(f\"Squared Tensor on GPU: {squared_tensor}\")\n",
        "    print(f\"Device: {squared_tensor.device}\\n\")\n",
        "\n",
        "    # 3. Move the result back to CPU and perform another computation (e.g., sum)\n",
        "    print(\"Step 3: Moving tensor back to CPU and summing the elements...\")\n",
        "    result_cpu = squared_tensor.to('cpu')\n",
        "    total = result_cpu.sum()\n",
        "    print(f\"Final result (sum on CPU): {total}\")\n",
        "    print(f\"Device: {total.device}\")\n",
        "else:\n",
        "    print(\"CUDA (GPU) is not available on this system.\")"
      ],
      "metadata": {
        "colab": {
          "base_uri": "https://localhost:8080/"
        },
        "id": "l9L62bbGwbv0",
        "outputId": "81029033-47f2-46e6-cd68-260d5aee9e42"
      },
      "execution_count": null,
      "outputs": [
        {
          "output_type": "stream",
          "name": "stdout",
          "text": [
            "Step 1: Creating a tensor on CPU...\n",
            "Tensor on CPU: tensor([1., 2., 3., 4.])\n",
            "Device: cpu\n",
            "\n",
            "CUDA (GPU) is not available on this system.\n"
          ]
        }
      ]
    },
    {
      "cell_type": "code",
      "source": [],
      "metadata": {
        "id": "6yyJkpqQwdpV"
      },
      "execution_count": null,
      "outputs": []
    }
  ],
  "metadata": {
    "colab": {
      "provenance": [],
      "authorship_tag": "ABX9TyNCkaZfQ7mwc7wUDg6xliDV",
      "include_colab_link": true
    },
    "kernelspec": {
      "display_name": "Python 3",
      "name": "python3"
    },
    "language_info": {
      "name": "python"
    }
  },
  "nbformat": 4,
  "nbformat_minor": 0
}
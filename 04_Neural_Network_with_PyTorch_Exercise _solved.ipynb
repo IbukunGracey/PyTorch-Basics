{
  "cells": [
    {
      "cell_type": "markdown",
      "metadata": {
        "id": "view-in-github",
        "colab_type": "text"
      },
      "source": [
        "<a href=\"https://colab.research.google.com/github/IbukunGracey/PyTorch-Basics/blob/main/04_Neural_Network_with_PyTorch_Exercise%20_solved.ipynb\" target=\"_parent\"><img src=\"https://colab.research.google.com/assets/colab-badge.svg\" alt=\"Open In Colab\"/></a>"
      ]
    },
    {
      "cell_type": "markdown",
      "metadata": {
        "id": "_5hdTOryVvCD"
      },
      "source": [
        "### Multi Classification Exercise using Penguin Dataset\n",
        "\n",
        "\n",
        "We will be using the Penguin dataset from kaggle https://www.kaggle.com/datasets/larsen0966/penguins to build a simple neural network model that can classify different species of penguins.\n",
        "\n"
      ]
    },
    {
      "cell_type": "markdown",
      "metadata": {
        "id": "tU39yuyiX2ms"
      },
      "source": [
        "Download the Dataset from the Kaggle link above or use the one attached to this notebook on the learning platform.\n",
        "\n",
        "Data Description:\n",
        "\n",
        "Data were collected and made available by Dr. Kristen Gorman and the Palmer Station, Antarctica LTER, a member of the Long Term Ecological Research Network..\n",
        "\n",
        "The columns in this dataset are:\n",
        "\n",
        "- species - A factor denoting penguin species (Adélie, Chinstrap and Gentoo)\n",
        "- island - A factor denoting island in Palmer Archipelago, Antarctica (Biscoe, Dream or Torgersen)\n",
        "- bill_length_mm - A number denoting bill length (millimeters)\n",
        "- bill_depth_mm - A number denoting bill depth (millimeters)\n",
        "- flipper_length_mm - An integer denoting flipper length (millimeters)\n",
        "- body_mass_g - An integer denoting body mass (grams)\n",
        "- sex:\n",
        "- year: A number denoting the year data was collected.\n",
        "\n",
        "Steps:\n",
        "\n",
        "1. Load your data/ Do some data preparation\n",
        "2. Create a neural network model\n",
        "3. Turn on the model/ Instantiate the model\n",
        "4. Split the data\n",
        "5. Train your model\n",
        "6. Validate the model using the test data\n",
        "7. Fine tune your model\n",
        "8. Make Predictions\n",
        "9. Save your model\n"
      ]
    },
    {
      "cell_type": "code",
      "execution_count": 164,
      "metadata": {
        "colab": {
          "base_uri": "https://localhost:8080/"
        },
        "id": "sIXv_g3QGtJd",
        "outputId": "ea10e0f3-0b28-41e9-c146-fdccf233f0ff"
      },
      "outputs": [
        {
          "output_type": "stream",
          "name": "stdout",
          "text": [
            "Requirement already satisfied: torchview in /usr/local/lib/python3.11/dist-packages (0.2.7)\n",
            "Requirement already satisfied: graphviz in /usr/local/lib/python3.11/dist-packages (from torchview) (0.20.3)\n"
          ]
        }
      ],
      "source": [
        "# Install torchview for visualizing our model\n",
        "!pip install torchview"
      ]
    },
    {
      "cell_type": "code",
      "execution_count": 165,
      "metadata": {
        "id": "d2bRZWfoIskF"
      },
      "outputs": [],
      "source": [
        "### IMPORT STATEMENTS\n",
        "import torch                  # import the torch module\n",
        "import torch.nn as nn         # import the neural hetwork library in pytorch\n",
        "import torch.nn.functional as F  # this helps to move data forward in our function\n",
        "import matplotlib.pyplot as plt\n",
        "%matplotlib inline\n",
        "import pandas as pd\n",
        "import numpy as np\n",
        "\n",
        "import seaborn as sns\n",
        "from torchview import draw_graph   # a visual to draw our network graph"
      ]
    },
    {
      "cell_type": "markdown",
      "metadata": {
        "id": "Y5DYUydBgYyi"
      },
      "source": [
        "###1.  Load Data and do some data preparations"
      ]
    },
    {
      "cell_type": "markdown",
      "metadata": {
        "id": "UMmX0BR5PH5l"
      },
      "source": [
        "Q1: Read in the pengins.csv file and print out the first five records.\n",
        "\n",
        "\n"
      ]
    },
    {
      "cell_type": "code",
      "execution_count": 166,
      "metadata": {
        "id": "m7XcMfBag8Ea",
        "colab": {
          "base_uri": "https://localhost:8080/",
          "height": 206
        },
        "outputId": "6c96a0c1-b160-43e3-b47b-e70b1c49b716"
      },
      "outputs": [
        {
          "output_type": "execute_result",
          "data": {
            "text/plain": [
              "  species     island  bill_length_mm  bill_depth_mm  flipper_length_mm  \\\n",
              "1  Adelie  Torgersen            39.1           18.7              181.0   \n",
              "2  Adelie  Torgersen            39.5           17.4              186.0   \n",
              "3  Adelie  Torgersen            40.3           18.0              195.0   \n",
              "4  Adelie  Torgersen             NaN            NaN                NaN   \n",
              "5  Adelie  Torgersen            36.7           19.3              193.0   \n",
              "\n",
              "   body_mass_g     sex  year  \n",
              "1       3750.0    male  2007  \n",
              "2       3800.0  female  2007  \n",
              "3       3250.0  female  2007  \n",
              "4          NaN     NaN  2007  \n",
              "5       3450.0  female  2007  "
            ],
            "text/html": [
              "\n",
              "  <div id=\"df-b82fb145-5118-40bb-99d1-10030d24f3fb\" class=\"colab-df-container\">\n",
              "    <div>\n",
              "<style scoped>\n",
              "    .dataframe tbody tr th:only-of-type {\n",
              "        vertical-align: middle;\n",
              "    }\n",
              "\n",
              "    .dataframe tbody tr th {\n",
              "        vertical-align: top;\n",
              "    }\n",
              "\n",
              "    .dataframe thead th {\n",
              "        text-align: right;\n",
              "    }\n",
              "</style>\n",
              "<table border=\"1\" class=\"dataframe\">\n",
              "  <thead>\n",
              "    <tr style=\"text-align: right;\">\n",
              "      <th></th>\n",
              "      <th>species</th>\n",
              "      <th>island</th>\n",
              "      <th>bill_length_mm</th>\n",
              "      <th>bill_depth_mm</th>\n",
              "      <th>flipper_length_mm</th>\n",
              "      <th>body_mass_g</th>\n",
              "      <th>sex</th>\n",
              "      <th>year</th>\n",
              "    </tr>\n",
              "  </thead>\n",
              "  <tbody>\n",
              "    <tr>\n",
              "      <th>1</th>\n",
              "      <td>Adelie</td>\n",
              "      <td>Torgersen</td>\n",
              "      <td>39.1</td>\n",
              "      <td>18.7</td>\n",
              "      <td>181.0</td>\n",
              "      <td>3750.0</td>\n",
              "      <td>male</td>\n",
              "      <td>2007</td>\n",
              "    </tr>\n",
              "    <tr>\n",
              "      <th>2</th>\n",
              "      <td>Adelie</td>\n",
              "      <td>Torgersen</td>\n",
              "      <td>39.5</td>\n",
              "      <td>17.4</td>\n",
              "      <td>186.0</td>\n",
              "      <td>3800.0</td>\n",
              "      <td>female</td>\n",
              "      <td>2007</td>\n",
              "    </tr>\n",
              "    <tr>\n",
              "      <th>3</th>\n",
              "      <td>Adelie</td>\n",
              "      <td>Torgersen</td>\n",
              "      <td>40.3</td>\n",
              "      <td>18.0</td>\n",
              "      <td>195.0</td>\n",
              "      <td>3250.0</td>\n",
              "      <td>female</td>\n",
              "      <td>2007</td>\n",
              "    </tr>\n",
              "    <tr>\n",
              "      <th>4</th>\n",
              "      <td>Adelie</td>\n",
              "      <td>Torgersen</td>\n",
              "      <td>NaN</td>\n",
              "      <td>NaN</td>\n",
              "      <td>NaN</td>\n",
              "      <td>NaN</td>\n",
              "      <td>NaN</td>\n",
              "      <td>2007</td>\n",
              "    </tr>\n",
              "    <tr>\n",
              "      <th>5</th>\n",
              "      <td>Adelie</td>\n",
              "      <td>Torgersen</td>\n",
              "      <td>36.7</td>\n",
              "      <td>19.3</td>\n",
              "      <td>193.0</td>\n",
              "      <td>3450.0</td>\n",
              "      <td>female</td>\n",
              "      <td>2007</td>\n",
              "    </tr>\n",
              "  </tbody>\n",
              "</table>\n",
              "</div>\n",
              "    <div class=\"colab-df-buttons\">\n",
              "\n",
              "  <div class=\"colab-df-container\">\n",
              "    <button class=\"colab-df-convert\" onclick=\"convertToInteractive('df-b82fb145-5118-40bb-99d1-10030d24f3fb')\"\n",
              "            title=\"Convert this dataframe to an interactive table.\"\n",
              "            style=\"display:none;\">\n",
              "\n",
              "  <svg xmlns=\"http://www.w3.org/2000/svg\" height=\"24px\" viewBox=\"0 -960 960 960\">\n",
              "    <path d=\"M120-120v-720h720v720H120Zm60-500h600v-160H180v160Zm220 220h160v-160H400v160Zm0 220h160v-160H400v160ZM180-400h160v-160H180v160Zm440 0h160v-160H620v160ZM180-180h160v-160H180v160Zm440 0h160v-160H620v160Z\"/>\n",
              "  </svg>\n",
              "    </button>\n",
              "\n",
              "  <style>\n",
              "    .colab-df-container {\n",
              "      display:flex;\n",
              "      gap: 12px;\n",
              "    }\n",
              "\n",
              "    .colab-df-convert {\n",
              "      background-color: #E8F0FE;\n",
              "      border: none;\n",
              "      border-radius: 50%;\n",
              "      cursor: pointer;\n",
              "      display: none;\n",
              "      fill: #1967D2;\n",
              "      height: 32px;\n",
              "      padding: 0 0 0 0;\n",
              "      width: 32px;\n",
              "    }\n",
              "\n",
              "    .colab-df-convert:hover {\n",
              "      background-color: #E2EBFA;\n",
              "      box-shadow: 0px 1px 2px rgba(60, 64, 67, 0.3), 0px 1px 3px 1px rgba(60, 64, 67, 0.15);\n",
              "      fill: #174EA6;\n",
              "    }\n",
              "\n",
              "    .colab-df-buttons div {\n",
              "      margin-bottom: 4px;\n",
              "    }\n",
              "\n",
              "    [theme=dark] .colab-df-convert {\n",
              "      background-color: #3B4455;\n",
              "      fill: #D2E3FC;\n",
              "    }\n",
              "\n",
              "    [theme=dark] .colab-df-convert:hover {\n",
              "      background-color: #434B5C;\n",
              "      box-shadow: 0px 1px 3px 1px rgba(0, 0, 0, 0.15);\n",
              "      filter: drop-shadow(0px 1px 2px rgba(0, 0, 0, 0.3));\n",
              "      fill: #FFFFFF;\n",
              "    }\n",
              "  </style>\n",
              "\n",
              "    <script>\n",
              "      const buttonEl =\n",
              "        document.querySelector('#df-b82fb145-5118-40bb-99d1-10030d24f3fb button.colab-df-convert');\n",
              "      buttonEl.style.display =\n",
              "        google.colab.kernel.accessAllowed ? 'block' : 'none';\n",
              "\n",
              "      async function convertToInteractive(key) {\n",
              "        const element = document.querySelector('#df-b82fb145-5118-40bb-99d1-10030d24f3fb');\n",
              "        const dataTable =\n",
              "          await google.colab.kernel.invokeFunction('convertToInteractive',\n",
              "                                                    [key], {});\n",
              "        if (!dataTable) return;\n",
              "\n",
              "        const docLinkHtml = 'Like what you see? Visit the ' +\n",
              "          '<a target=\"_blank\" href=https://colab.research.google.com/notebooks/data_table.ipynb>data table notebook</a>'\n",
              "          + ' to learn more about interactive tables.';\n",
              "        element.innerHTML = '';\n",
              "        dataTable['output_type'] = 'display_data';\n",
              "        await google.colab.output.renderOutput(dataTable, element);\n",
              "        const docLink = document.createElement('div');\n",
              "        docLink.innerHTML = docLinkHtml;\n",
              "        element.appendChild(docLink);\n",
              "      }\n",
              "    </script>\n",
              "  </div>\n",
              "\n",
              "\n",
              "    <div id=\"df-5bf02b64-d3b2-4004-b30e-882e7bd30135\">\n",
              "      <button class=\"colab-df-quickchart\" onclick=\"quickchart('df-5bf02b64-d3b2-4004-b30e-882e7bd30135')\"\n",
              "                title=\"Suggest charts\"\n",
              "                style=\"display:none;\">\n",
              "\n",
              "<svg xmlns=\"http://www.w3.org/2000/svg\" height=\"24px\"viewBox=\"0 0 24 24\"\n",
              "     width=\"24px\">\n",
              "    <g>\n",
              "        <path d=\"M19 3H5c-1.1 0-2 .9-2 2v14c0 1.1.9 2 2 2h14c1.1 0 2-.9 2-2V5c0-1.1-.9-2-2-2zM9 17H7v-7h2v7zm4 0h-2V7h2v10zm4 0h-2v-4h2v4z\"/>\n",
              "    </g>\n",
              "</svg>\n",
              "      </button>\n",
              "\n",
              "<style>\n",
              "  .colab-df-quickchart {\n",
              "      --bg-color: #E8F0FE;\n",
              "      --fill-color: #1967D2;\n",
              "      --hover-bg-color: #E2EBFA;\n",
              "      --hover-fill-color: #174EA6;\n",
              "      --disabled-fill-color: #AAA;\n",
              "      --disabled-bg-color: #DDD;\n",
              "  }\n",
              "\n",
              "  [theme=dark] .colab-df-quickchart {\n",
              "      --bg-color: #3B4455;\n",
              "      --fill-color: #D2E3FC;\n",
              "      --hover-bg-color: #434B5C;\n",
              "      --hover-fill-color: #FFFFFF;\n",
              "      --disabled-bg-color: #3B4455;\n",
              "      --disabled-fill-color: #666;\n",
              "  }\n",
              "\n",
              "  .colab-df-quickchart {\n",
              "    background-color: var(--bg-color);\n",
              "    border: none;\n",
              "    border-radius: 50%;\n",
              "    cursor: pointer;\n",
              "    display: none;\n",
              "    fill: var(--fill-color);\n",
              "    height: 32px;\n",
              "    padding: 0;\n",
              "    width: 32px;\n",
              "  }\n",
              "\n",
              "  .colab-df-quickchart:hover {\n",
              "    background-color: var(--hover-bg-color);\n",
              "    box-shadow: 0 1px 2px rgba(60, 64, 67, 0.3), 0 1px 3px 1px rgba(60, 64, 67, 0.15);\n",
              "    fill: var(--button-hover-fill-color);\n",
              "  }\n",
              "\n",
              "  .colab-df-quickchart-complete:disabled,\n",
              "  .colab-df-quickchart-complete:disabled:hover {\n",
              "    background-color: var(--disabled-bg-color);\n",
              "    fill: var(--disabled-fill-color);\n",
              "    box-shadow: none;\n",
              "  }\n",
              "\n",
              "  .colab-df-spinner {\n",
              "    border: 2px solid var(--fill-color);\n",
              "    border-color: transparent;\n",
              "    border-bottom-color: var(--fill-color);\n",
              "    animation:\n",
              "      spin 1s steps(1) infinite;\n",
              "  }\n",
              "\n",
              "  @keyframes spin {\n",
              "    0% {\n",
              "      border-color: transparent;\n",
              "      border-bottom-color: var(--fill-color);\n",
              "      border-left-color: var(--fill-color);\n",
              "    }\n",
              "    20% {\n",
              "      border-color: transparent;\n",
              "      border-left-color: var(--fill-color);\n",
              "      border-top-color: var(--fill-color);\n",
              "    }\n",
              "    30% {\n",
              "      border-color: transparent;\n",
              "      border-left-color: var(--fill-color);\n",
              "      border-top-color: var(--fill-color);\n",
              "      border-right-color: var(--fill-color);\n",
              "    }\n",
              "    40% {\n",
              "      border-color: transparent;\n",
              "      border-right-color: var(--fill-color);\n",
              "      border-top-color: var(--fill-color);\n",
              "    }\n",
              "    60% {\n",
              "      border-color: transparent;\n",
              "      border-right-color: var(--fill-color);\n",
              "    }\n",
              "    80% {\n",
              "      border-color: transparent;\n",
              "      border-right-color: var(--fill-color);\n",
              "      border-bottom-color: var(--fill-color);\n",
              "    }\n",
              "    90% {\n",
              "      border-color: transparent;\n",
              "      border-bottom-color: var(--fill-color);\n",
              "    }\n",
              "  }\n",
              "</style>\n",
              "\n",
              "      <script>\n",
              "        async function quickchart(key) {\n",
              "          const quickchartButtonEl =\n",
              "            document.querySelector('#' + key + ' button');\n",
              "          quickchartButtonEl.disabled = true;  // To prevent multiple clicks.\n",
              "          quickchartButtonEl.classList.add('colab-df-spinner');\n",
              "          try {\n",
              "            const charts = await google.colab.kernel.invokeFunction(\n",
              "                'suggestCharts', [key], {});\n",
              "          } catch (error) {\n",
              "            console.error('Error during call to suggestCharts:', error);\n",
              "          }\n",
              "          quickchartButtonEl.classList.remove('colab-df-spinner');\n",
              "          quickchartButtonEl.classList.add('colab-df-quickchart-complete');\n",
              "        }\n",
              "        (() => {\n",
              "          let quickchartButtonEl =\n",
              "            document.querySelector('#df-5bf02b64-d3b2-4004-b30e-882e7bd30135 button');\n",
              "          quickchartButtonEl.style.display =\n",
              "            google.colab.kernel.accessAllowed ? 'block' : 'none';\n",
              "        })();\n",
              "      </script>\n",
              "    </div>\n",
              "\n",
              "    </div>\n",
              "  </div>\n"
            ],
            "application/vnd.google.colaboratory.intrinsic+json": {
              "type": "dataframe",
              "variable_name": "df",
              "summary": "{\n  \"name\": \"df\",\n  \"rows\": 344,\n  \"fields\": [\n    {\n      \"column\": \"species\",\n      \"properties\": {\n        \"dtype\": \"category\",\n        \"num_unique_values\": 3,\n        \"samples\": [\n          \"Adelie\",\n          \"Gentoo\",\n          \"Chinstrap\"\n        ],\n        \"semantic_type\": \"\",\n        \"description\": \"\"\n      }\n    },\n    {\n      \"column\": \"island\",\n      \"properties\": {\n        \"dtype\": \"category\",\n        \"num_unique_values\": 3,\n        \"samples\": [\n          \"Torgersen\",\n          \"Biscoe\",\n          \"Dream\"\n        ],\n        \"semantic_type\": \"\",\n        \"description\": \"\"\n      }\n    },\n    {\n      \"column\": \"bill_length_mm\",\n      \"properties\": {\n        \"dtype\": \"number\",\n        \"std\": 5.4595837139265315,\n        \"min\": 32.1,\n        \"max\": 59.6,\n        \"num_unique_values\": 164,\n        \"samples\": [\n          49.4,\n          43.8,\n          43.4\n        ],\n        \"semantic_type\": \"\",\n        \"description\": \"\"\n      }\n    },\n    {\n      \"column\": \"bill_depth_mm\",\n      \"properties\": {\n        \"dtype\": \"number\",\n        \"std\": 1.9747931568167818,\n        \"min\": 13.1,\n        \"max\": 21.5,\n        \"num_unique_values\": 80,\n        \"samples\": [\n          16.9,\n          18.7,\n          18.6\n        ],\n        \"semantic_type\": \"\",\n        \"description\": \"\"\n      }\n    },\n    {\n      \"column\": \"flipper_length_mm\",\n      \"properties\": {\n        \"dtype\": \"number\",\n        \"std\": 14.061713679356888,\n        \"min\": 172.0,\n        \"max\": 231.0,\n        \"num_unique_values\": 55,\n        \"samples\": [\n          201.0,\n          180.0,\n          211.0\n        ],\n        \"semantic_type\": \"\",\n        \"description\": \"\"\n      }\n    },\n    {\n      \"column\": \"body_mass_g\",\n      \"properties\": {\n        \"dtype\": \"number\",\n        \"std\": 801.9545356980958,\n        \"min\": 2700.0,\n        \"max\": 6300.0,\n        \"num_unique_values\": 94,\n        \"samples\": [\n          4350.0,\n          4150.0,\n          5700.0\n        ],\n        \"semantic_type\": \"\",\n        \"description\": \"\"\n      }\n    },\n    {\n      \"column\": \"sex\",\n      \"properties\": {\n        \"dtype\": \"category\",\n        \"num_unique_values\": 2,\n        \"samples\": [\n          \"female\",\n          \"male\"\n        ],\n        \"semantic_type\": \"\",\n        \"description\": \"\"\n      }\n    },\n    {\n      \"column\": \"year\",\n      \"properties\": {\n        \"dtype\": \"number\",\n        \"std\": 0,\n        \"min\": 2007,\n        \"max\": 2009,\n        \"num_unique_values\": 3,\n        \"samples\": [\n          2007,\n          2008\n        ],\n        \"semantic_type\": \"\",\n        \"description\": \"\"\n      }\n    }\n  ]\n}"
            }
          },
          "metadata": {},
          "execution_count": 166
        }
      ],
      "source": [
        "#load the data\n",
        "data = '/content/penguins.csv'\n",
        "df = pd.read_csv(data, index_col=[0])\n",
        "df.head()"
      ]
    },
    {
      "cell_type": "code",
      "execution_count": 167,
      "metadata": {
        "id": "7IBcahsBP-wp",
        "colab": {
          "base_uri": "https://localhost:8080/"
        },
        "outputId": "004a03f6-7980-4786-8d7a-f857d55ecde5"
      },
      "outputs": [
        {
          "output_type": "stream",
          "name": "stdout",
          "text": [
            "<class 'pandas.core.frame.DataFrame'>\n",
            "Index: 344 entries, 1 to 344\n",
            "Data columns (total 8 columns):\n",
            " #   Column             Non-Null Count  Dtype  \n",
            "---  ------             --------------  -----  \n",
            " 0   species            344 non-null    object \n",
            " 1   island             344 non-null    object \n",
            " 2   bill_length_mm     342 non-null    float64\n",
            " 3   bill_depth_mm      342 non-null    float64\n",
            " 4   flipper_length_mm  342 non-null    float64\n",
            " 5   body_mass_g        342 non-null    float64\n",
            " 6   sex                333 non-null    object \n",
            " 7   year               344 non-null    int64  \n",
            "dtypes: float64(4), int64(1), object(3)\n",
            "memory usage: 24.2+ KB\n"
          ]
        }
      ],
      "source": [
        "df.info()"
      ]
    },
    {
      "cell_type": "markdown",
      "metadata": {
        "id": "O2unhkw8P402"
      },
      "source": [
        "### Dealing with missing values\n",
        "\n",
        "Check for missing values in the data set. There are 5 columns and 11 rows with missing values We can drop the 11 rows because the number is small."
      ]
    },
    {
      "cell_type": "code",
      "execution_count": 168,
      "metadata": {
        "id": "eyVvYrHVT1ZS",
        "colab": {
          "base_uri": "https://localhost:8080/",
          "height": 334
        },
        "outputId": "df3ce103-09e5-4a70-bd7a-dbc0238a5bfb"
      },
      "outputs": [
        {
          "output_type": "execute_result",
          "data": {
            "text/plain": [
              "species               0\n",
              "island                0\n",
              "bill_length_mm        2\n",
              "bill_depth_mm         2\n",
              "flipper_length_mm     2\n",
              "body_mass_g           2\n",
              "sex                  11\n",
              "year                  0\n",
              "dtype: int64"
            ],
            "text/html": [
              "<div>\n",
              "<style scoped>\n",
              "    .dataframe tbody tr th:only-of-type {\n",
              "        vertical-align: middle;\n",
              "    }\n",
              "\n",
              "    .dataframe tbody tr th {\n",
              "        vertical-align: top;\n",
              "    }\n",
              "\n",
              "    .dataframe thead th {\n",
              "        text-align: right;\n",
              "    }\n",
              "</style>\n",
              "<table border=\"1\" class=\"dataframe\">\n",
              "  <thead>\n",
              "    <tr style=\"text-align: right;\">\n",
              "      <th></th>\n",
              "      <th>0</th>\n",
              "    </tr>\n",
              "  </thead>\n",
              "  <tbody>\n",
              "    <tr>\n",
              "      <th>species</th>\n",
              "      <td>0</td>\n",
              "    </tr>\n",
              "    <tr>\n",
              "      <th>island</th>\n",
              "      <td>0</td>\n",
              "    </tr>\n",
              "    <tr>\n",
              "      <th>bill_length_mm</th>\n",
              "      <td>2</td>\n",
              "    </tr>\n",
              "    <tr>\n",
              "      <th>bill_depth_mm</th>\n",
              "      <td>2</td>\n",
              "    </tr>\n",
              "    <tr>\n",
              "      <th>flipper_length_mm</th>\n",
              "      <td>2</td>\n",
              "    </tr>\n",
              "    <tr>\n",
              "      <th>body_mass_g</th>\n",
              "      <td>2</td>\n",
              "    </tr>\n",
              "    <tr>\n",
              "      <th>sex</th>\n",
              "      <td>11</td>\n",
              "    </tr>\n",
              "    <tr>\n",
              "      <th>year</th>\n",
              "      <td>0</td>\n",
              "    </tr>\n",
              "  </tbody>\n",
              "</table>\n",
              "</div><br><label><b>dtype:</b> int64</label>"
            ]
          },
          "metadata": {},
          "execution_count": 168
        }
      ],
      "source": [
        "#check for the columns with missing values\n",
        "df.isnull().sum()"
      ]
    },
    {
      "cell_type": "code",
      "execution_count": 169,
      "metadata": {
        "id": "U7koE8vaUU5z",
        "colab": {
          "base_uri": "https://localhost:8080/",
          "height": 394
        },
        "outputId": "baf7f40f-8e3e-4d61-ec3c-5a08858b27ea"
      },
      "outputs": [
        {
          "output_type": "execute_result",
          "data": {
            "text/plain": [
              "    species     island  bill_length_mm  bill_depth_mm  flipper_length_mm  \\\n",
              "4    Adelie  Torgersen             NaN            NaN                NaN   \n",
              "9    Adelie  Torgersen            34.1           18.1              193.0   \n",
              "10   Adelie  Torgersen            42.0           20.2              190.0   \n",
              "11   Adelie  Torgersen            37.8           17.1              186.0   \n",
              "12   Adelie  Torgersen            37.8           17.3              180.0   \n",
              "48   Adelie      Dream            37.5           18.9              179.0   \n",
              "179  Gentoo     Biscoe            44.5           14.3              216.0   \n",
              "219  Gentoo     Biscoe            46.2           14.4              214.0   \n",
              "257  Gentoo     Biscoe            47.3           13.8              216.0   \n",
              "269  Gentoo     Biscoe            44.5           15.7              217.0   \n",
              "272  Gentoo     Biscoe             NaN            NaN                NaN   \n",
              "\n",
              "     body_mass_g  sex  year  \n",
              "4            NaN  NaN  2007  \n",
              "9         3475.0  NaN  2007  \n",
              "10        4250.0  NaN  2007  \n",
              "11        3300.0  NaN  2007  \n",
              "12        3700.0  NaN  2007  \n",
              "48        2975.0  NaN  2007  \n",
              "179       4100.0  NaN  2007  \n",
              "219       4650.0  NaN  2008  \n",
              "257       4725.0  NaN  2009  \n",
              "269       4875.0  NaN  2009  \n",
              "272          NaN  NaN  2009  "
            ],
            "text/html": [
              "\n",
              "  <div id=\"df-aed460c2-23a5-4edc-8e94-0cce86f57349\" class=\"colab-df-container\">\n",
              "    <div>\n",
              "<style scoped>\n",
              "    .dataframe tbody tr th:only-of-type {\n",
              "        vertical-align: middle;\n",
              "    }\n",
              "\n",
              "    .dataframe tbody tr th {\n",
              "        vertical-align: top;\n",
              "    }\n",
              "\n",
              "    .dataframe thead th {\n",
              "        text-align: right;\n",
              "    }\n",
              "</style>\n",
              "<table border=\"1\" class=\"dataframe\">\n",
              "  <thead>\n",
              "    <tr style=\"text-align: right;\">\n",
              "      <th></th>\n",
              "      <th>species</th>\n",
              "      <th>island</th>\n",
              "      <th>bill_length_mm</th>\n",
              "      <th>bill_depth_mm</th>\n",
              "      <th>flipper_length_mm</th>\n",
              "      <th>body_mass_g</th>\n",
              "      <th>sex</th>\n",
              "      <th>year</th>\n",
              "    </tr>\n",
              "  </thead>\n",
              "  <tbody>\n",
              "    <tr>\n",
              "      <th>4</th>\n",
              "      <td>Adelie</td>\n",
              "      <td>Torgersen</td>\n",
              "      <td>NaN</td>\n",
              "      <td>NaN</td>\n",
              "      <td>NaN</td>\n",
              "      <td>NaN</td>\n",
              "      <td>NaN</td>\n",
              "      <td>2007</td>\n",
              "    </tr>\n",
              "    <tr>\n",
              "      <th>9</th>\n",
              "      <td>Adelie</td>\n",
              "      <td>Torgersen</td>\n",
              "      <td>34.1</td>\n",
              "      <td>18.1</td>\n",
              "      <td>193.0</td>\n",
              "      <td>3475.0</td>\n",
              "      <td>NaN</td>\n",
              "      <td>2007</td>\n",
              "    </tr>\n",
              "    <tr>\n",
              "      <th>10</th>\n",
              "      <td>Adelie</td>\n",
              "      <td>Torgersen</td>\n",
              "      <td>42.0</td>\n",
              "      <td>20.2</td>\n",
              "      <td>190.0</td>\n",
              "      <td>4250.0</td>\n",
              "      <td>NaN</td>\n",
              "      <td>2007</td>\n",
              "    </tr>\n",
              "    <tr>\n",
              "      <th>11</th>\n",
              "      <td>Adelie</td>\n",
              "      <td>Torgersen</td>\n",
              "      <td>37.8</td>\n",
              "      <td>17.1</td>\n",
              "      <td>186.0</td>\n",
              "      <td>3300.0</td>\n",
              "      <td>NaN</td>\n",
              "      <td>2007</td>\n",
              "    </tr>\n",
              "    <tr>\n",
              "      <th>12</th>\n",
              "      <td>Adelie</td>\n",
              "      <td>Torgersen</td>\n",
              "      <td>37.8</td>\n",
              "      <td>17.3</td>\n",
              "      <td>180.0</td>\n",
              "      <td>3700.0</td>\n",
              "      <td>NaN</td>\n",
              "      <td>2007</td>\n",
              "    </tr>\n",
              "    <tr>\n",
              "      <th>48</th>\n",
              "      <td>Adelie</td>\n",
              "      <td>Dream</td>\n",
              "      <td>37.5</td>\n",
              "      <td>18.9</td>\n",
              "      <td>179.0</td>\n",
              "      <td>2975.0</td>\n",
              "      <td>NaN</td>\n",
              "      <td>2007</td>\n",
              "    </tr>\n",
              "    <tr>\n",
              "      <th>179</th>\n",
              "      <td>Gentoo</td>\n",
              "      <td>Biscoe</td>\n",
              "      <td>44.5</td>\n",
              "      <td>14.3</td>\n",
              "      <td>216.0</td>\n",
              "      <td>4100.0</td>\n",
              "      <td>NaN</td>\n",
              "      <td>2007</td>\n",
              "    </tr>\n",
              "    <tr>\n",
              "      <th>219</th>\n",
              "      <td>Gentoo</td>\n",
              "      <td>Biscoe</td>\n",
              "      <td>46.2</td>\n",
              "      <td>14.4</td>\n",
              "      <td>214.0</td>\n",
              "      <td>4650.0</td>\n",
              "      <td>NaN</td>\n",
              "      <td>2008</td>\n",
              "    </tr>\n",
              "    <tr>\n",
              "      <th>257</th>\n",
              "      <td>Gentoo</td>\n",
              "      <td>Biscoe</td>\n",
              "      <td>47.3</td>\n",
              "      <td>13.8</td>\n",
              "      <td>216.0</td>\n",
              "      <td>4725.0</td>\n",
              "      <td>NaN</td>\n",
              "      <td>2009</td>\n",
              "    </tr>\n",
              "    <tr>\n",
              "      <th>269</th>\n",
              "      <td>Gentoo</td>\n",
              "      <td>Biscoe</td>\n",
              "      <td>44.5</td>\n",
              "      <td>15.7</td>\n",
              "      <td>217.0</td>\n",
              "      <td>4875.0</td>\n",
              "      <td>NaN</td>\n",
              "      <td>2009</td>\n",
              "    </tr>\n",
              "    <tr>\n",
              "      <th>272</th>\n",
              "      <td>Gentoo</td>\n",
              "      <td>Biscoe</td>\n",
              "      <td>NaN</td>\n",
              "      <td>NaN</td>\n",
              "      <td>NaN</td>\n",
              "      <td>NaN</td>\n",
              "      <td>NaN</td>\n",
              "      <td>2009</td>\n",
              "    </tr>\n",
              "  </tbody>\n",
              "</table>\n",
              "</div>\n",
              "    <div class=\"colab-df-buttons\">\n",
              "\n",
              "  <div class=\"colab-df-container\">\n",
              "    <button class=\"colab-df-convert\" onclick=\"convertToInteractive('df-aed460c2-23a5-4edc-8e94-0cce86f57349')\"\n",
              "            title=\"Convert this dataframe to an interactive table.\"\n",
              "            style=\"display:none;\">\n",
              "\n",
              "  <svg xmlns=\"http://www.w3.org/2000/svg\" height=\"24px\" viewBox=\"0 -960 960 960\">\n",
              "    <path d=\"M120-120v-720h720v720H120Zm60-500h600v-160H180v160Zm220 220h160v-160H400v160Zm0 220h160v-160H400v160ZM180-400h160v-160H180v160Zm440 0h160v-160H620v160ZM180-180h160v-160H180v160Zm440 0h160v-160H620v160Z\"/>\n",
              "  </svg>\n",
              "    </button>\n",
              "\n",
              "  <style>\n",
              "    .colab-df-container {\n",
              "      display:flex;\n",
              "      gap: 12px;\n",
              "    }\n",
              "\n",
              "    .colab-df-convert {\n",
              "      background-color: #E8F0FE;\n",
              "      border: none;\n",
              "      border-radius: 50%;\n",
              "      cursor: pointer;\n",
              "      display: none;\n",
              "      fill: #1967D2;\n",
              "      height: 32px;\n",
              "      padding: 0 0 0 0;\n",
              "      width: 32px;\n",
              "    }\n",
              "\n",
              "    .colab-df-convert:hover {\n",
              "      background-color: #E2EBFA;\n",
              "      box-shadow: 0px 1px 2px rgba(60, 64, 67, 0.3), 0px 1px 3px 1px rgba(60, 64, 67, 0.15);\n",
              "      fill: #174EA6;\n",
              "    }\n",
              "\n",
              "    .colab-df-buttons div {\n",
              "      margin-bottom: 4px;\n",
              "    }\n",
              "\n",
              "    [theme=dark] .colab-df-convert {\n",
              "      background-color: #3B4455;\n",
              "      fill: #D2E3FC;\n",
              "    }\n",
              "\n",
              "    [theme=dark] .colab-df-convert:hover {\n",
              "      background-color: #434B5C;\n",
              "      box-shadow: 0px 1px 3px 1px rgba(0, 0, 0, 0.15);\n",
              "      filter: drop-shadow(0px 1px 2px rgba(0, 0, 0, 0.3));\n",
              "      fill: #FFFFFF;\n",
              "    }\n",
              "  </style>\n",
              "\n",
              "    <script>\n",
              "      const buttonEl =\n",
              "        document.querySelector('#df-aed460c2-23a5-4edc-8e94-0cce86f57349 button.colab-df-convert');\n",
              "      buttonEl.style.display =\n",
              "        google.colab.kernel.accessAllowed ? 'block' : 'none';\n",
              "\n",
              "      async function convertToInteractive(key) {\n",
              "        const element = document.querySelector('#df-aed460c2-23a5-4edc-8e94-0cce86f57349');\n",
              "        const dataTable =\n",
              "          await google.colab.kernel.invokeFunction('convertToInteractive',\n",
              "                                                    [key], {});\n",
              "        if (!dataTable) return;\n",
              "\n",
              "        const docLinkHtml = 'Like what you see? Visit the ' +\n",
              "          '<a target=\"_blank\" href=https://colab.research.google.com/notebooks/data_table.ipynb>data table notebook</a>'\n",
              "          + ' to learn more about interactive tables.';\n",
              "        element.innerHTML = '';\n",
              "        dataTable['output_type'] = 'display_data';\n",
              "        await google.colab.output.renderOutput(dataTable, element);\n",
              "        const docLink = document.createElement('div');\n",
              "        docLink.innerHTML = docLinkHtml;\n",
              "        element.appendChild(docLink);\n",
              "      }\n",
              "    </script>\n",
              "  </div>\n",
              "\n",
              "\n",
              "    <div id=\"df-29465323-8a12-4358-9a1e-24429c10e25e\">\n",
              "      <button class=\"colab-df-quickchart\" onclick=\"quickchart('df-29465323-8a12-4358-9a1e-24429c10e25e')\"\n",
              "                title=\"Suggest charts\"\n",
              "                style=\"display:none;\">\n",
              "\n",
              "<svg xmlns=\"http://www.w3.org/2000/svg\" height=\"24px\"viewBox=\"0 0 24 24\"\n",
              "     width=\"24px\">\n",
              "    <g>\n",
              "        <path d=\"M19 3H5c-1.1 0-2 .9-2 2v14c0 1.1.9 2 2 2h14c1.1 0 2-.9 2-2V5c0-1.1-.9-2-2-2zM9 17H7v-7h2v7zm4 0h-2V7h2v10zm4 0h-2v-4h2v4z\"/>\n",
              "    </g>\n",
              "</svg>\n",
              "      </button>\n",
              "\n",
              "<style>\n",
              "  .colab-df-quickchart {\n",
              "      --bg-color: #E8F0FE;\n",
              "      --fill-color: #1967D2;\n",
              "      --hover-bg-color: #E2EBFA;\n",
              "      --hover-fill-color: #174EA6;\n",
              "      --disabled-fill-color: #AAA;\n",
              "      --disabled-bg-color: #DDD;\n",
              "  }\n",
              "\n",
              "  [theme=dark] .colab-df-quickchart {\n",
              "      --bg-color: #3B4455;\n",
              "      --fill-color: #D2E3FC;\n",
              "      --hover-bg-color: #434B5C;\n",
              "      --hover-fill-color: #FFFFFF;\n",
              "      --disabled-bg-color: #3B4455;\n",
              "      --disabled-fill-color: #666;\n",
              "  }\n",
              "\n",
              "  .colab-df-quickchart {\n",
              "    background-color: var(--bg-color);\n",
              "    border: none;\n",
              "    border-radius: 50%;\n",
              "    cursor: pointer;\n",
              "    display: none;\n",
              "    fill: var(--fill-color);\n",
              "    height: 32px;\n",
              "    padding: 0;\n",
              "    width: 32px;\n",
              "  }\n",
              "\n",
              "  .colab-df-quickchart:hover {\n",
              "    background-color: var(--hover-bg-color);\n",
              "    box-shadow: 0 1px 2px rgba(60, 64, 67, 0.3), 0 1px 3px 1px rgba(60, 64, 67, 0.15);\n",
              "    fill: var(--button-hover-fill-color);\n",
              "  }\n",
              "\n",
              "  .colab-df-quickchart-complete:disabled,\n",
              "  .colab-df-quickchart-complete:disabled:hover {\n",
              "    background-color: var(--disabled-bg-color);\n",
              "    fill: var(--disabled-fill-color);\n",
              "    box-shadow: none;\n",
              "  }\n",
              "\n",
              "  .colab-df-spinner {\n",
              "    border: 2px solid var(--fill-color);\n",
              "    border-color: transparent;\n",
              "    border-bottom-color: var(--fill-color);\n",
              "    animation:\n",
              "      spin 1s steps(1) infinite;\n",
              "  }\n",
              "\n",
              "  @keyframes spin {\n",
              "    0% {\n",
              "      border-color: transparent;\n",
              "      border-bottom-color: var(--fill-color);\n",
              "      border-left-color: var(--fill-color);\n",
              "    }\n",
              "    20% {\n",
              "      border-color: transparent;\n",
              "      border-left-color: var(--fill-color);\n",
              "      border-top-color: var(--fill-color);\n",
              "    }\n",
              "    30% {\n",
              "      border-color: transparent;\n",
              "      border-left-color: var(--fill-color);\n",
              "      border-top-color: var(--fill-color);\n",
              "      border-right-color: var(--fill-color);\n",
              "    }\n",
              "    40% {\n",
              "      border-color: transparent;\n",
              "      border-right-color: var(--fill-color);\n",
              "      border-top-color: var(--fill-color);\n",
              "    }\n",
              "    60% {\n",
              "      border-color: transparent;\n",
              "      border-right-color: var(--fill-color);\n",
              "    }\n",
              "    80% {\n",
              "      border-color: transparent;\n",
              "      border-right-color: var(--fill-color);\n",
              "      border-bottom-color: var(--fill-color);\n",
              "    }\n",
              "    90% {\n",
              "      border-color: transparent;\n",
              "      border-bottom-color: var(--fill-color);\n",
              "    }\n",
              "  }\n",
              "</style>\n",
              "\n",
              "      <script>\n",
              "        async function quickchart(key) {\n",
              "          const quickchartButtonEl =\n",
              "            document.querySelector('#' + key + ' button');\n",
              "          quickchartButtonEl.disabled = true;  // To prevent multiple clicks.\n",
              "          quickchartButtonEl.classList.add('colab-df-spinner');\n",
              "          try {\n",
              "            const charts = await google.colab.kernel.invokeFunction(\n",
              "                'suggestCharts', [key], {});\n",
              "          } catch (error) {\n",
              "            console.error('Error during call to suggestCharts:', error);\n",
              "          }\n",
              "          quickchartButtonEl.classList.remove('colab-df-spinner');\n",
              "          quickchartButtonEl.classList.add('colab-df-quickchart-complete');\n",
              "        }\n",
              "        (() => {\n",
              "          let quickchartButtonEl =\n",
              "            document.querySelector('#df-29465323-8a12-4358-9a1e-24429c10e25e button');\n",
              "          quickchartButtonEl.style.display =\n",
              "            google.colab.kernel.accessAllowed ? 'block' : 'none';\n",
              "        })();\n",
              "      </script>\n",
              "    </div>\n",
              "\n",
              "    </div>\n",
              "  </div>\n"
            ],
            "application/vnd.google.colaboratory.intrinsic+json": {
              "type": "dataframe",
              "repr_error": "0"
            }
          },
          "metadata": {},
          "execution_count": 169
        }
      ],
      "source": [
        "#check for the rows with missing values\n",
        "df[df.isnull().any(axis=1)]"
      ]
    },
    {
      "cell_type": "markdown",
      "metadata": {
        "id": "grPlPaI4XOQh"
      },
      "source": [
        "Q3: Drop all the missing values in the dataset using the `dropna` function, don't forget to include the inplace arguement and print the shape"
      ]
    },
    {
      "cell_type": "code",
      "execution_count": 170,
      "metadata": {
        "id": "GOUD3yEOP2-i",
        "colab": {
          "base_uri": "https://localhost:8080/"
        },
        "outputId": "a4fc8c86-8afb-4d3f-8055-95c9ba747049"
      },
      "outputs": [
        {
          "output_type": "execute_result",
          "data": {
            "text/plain": [
              "(333, 8)"
            ]
          },
          "metadata": {},
          "execution_count": 170
        }
      ],
      "source": [
        "#drop the missing values\n",
        "df.dropna(inplace= True)\n",
        "df.shape"
      ]
    },
    {
      "cell_type": "markdown",
      "metadata": {
        "id": "ke2QNFzNg4BM"
      },
      "source": [
        "#### Let us check the distribution of the target label \"species\""
      ]
    },
    {
      "cell_type": "code",
      "execution_count": 171,
      "metadata": {
        "id": "Bep7r0jSDKj9",
        "colab": {
          "base_uri": "https://localhost:8080/",
          "height": 209
        },
        "outputId": "6c8def57-ebd6-46d7-d87f-f6934d3db357"
      },
      "outputs": [
        {
          "output_type": "execute_result",
          "data": {
            "text/plain": [
              "species\n",
              "Adelie       146\n",
              "Gentoo       119\n",
              "Chinstrap     68\n",
              "Name: count, dtype: int64"
            ],
            "text/html": [
              "<div>\n",
              "<style scoped>\n",
              "    .dataframe tbody tr th:only-of-type {\n",
              "        vertical-align: middle;\n",
              "    }\n",
              "\n",
              "    .dataframe tbody tr th {\n",
              "        vertical-align: top;\n",
              "    }\n",
              "\n",
              "    .dataframe thead th {\n",
              "        text-align: right;\n",
              "    }\n",
              "</style>\n",
              "<table border=\"1\" class=\"dataframe\">\n",
              "  <thead>\n",
              "    <tr style=\"text-align: right;\">\n",
              "      <th></th>\n",
              "      <th>count</th>\n",
              "    </tr>\n",
              "    <tr>\n",
              "      <th>species</th>\n",
              "      <th></th>\n",
              "    </tr>\n",
              "  </thead>\n",
              "  <tbody>\n",
              "    <tr>\n",
              "      <th>Adelie</th>\n",
              "      <td>146</td>\n",
              "    </tr>\n",
              "    <tr>\n",
              "      <th>Gentoo</th>\n",
              "      <td>119</td>\n",
              "    </tr>\n",
              "    <tr>\n",
              "      <th>Chinstrap</th>\n",
              "      <td>68</td>\n",
              "    </tr>\n",
              "  </tbody>\n",
              "</table>\n",
              "</div><br><label><b>dtype:</b> int64</label>"
            ]
          },
          "metadata": {},
          "execution_count": 171
        }
      ],
      "source": [
        "df.species.value_counts()"
      ]
    },
    {
      "cell_type": "code",
      "execution_count": 172,
      "metadata": {
        "id": "xSIHhmaLg3L4",
        "colab": {
          "base_uri": "https://localhost:8080/",
          "height": 519
        },
        "outputId": "5e891166-7dfa-4c07-a5bb-61421b33dfca"
      },
      "outputs": [
        {
          "output_type": "execute_result",
          "data": {
            "text/plain": [
              "<Axes: xlabel='species'>"
            ]
          },
          "metadata": {},
          "execution_count": 172
        },
        {
          "output_type": "display_data",
          "data": {
            "text/plain": [
              "<Figure size 640x480 with 1 Axes>"
            ],
            "image/png": "[encoded data removed]"
          },
          "metadata": {}
        }
      ],
      "source": [
        "#Let us visualize it\n",
        "df.species.value_counts().plot(kind='bar')"
      ]
    },
    {
      "cell_type": "markdown",
      "metadata": {
        "id": "tztysQ_ll-jh"
      },
      "source": [
        "Q4: The target column \"species\" is in text format, Convert it to integers using the .map function with this dictionary as input arguments,\n",
        "{'Adelie':0.0, 'Gentoo':1.0, 'Chinstrap':2.0}"
      ]
    },
    {
      "cell_type": "code",
      "execution_count": 173,
      "metadata": {
        "id": "fCbvjur7hnGJ",
        "colab": {
          "base_uri": "https://localhost:8080/",
          "height": 206
        },
        "outputId": "a79e5a1d-ef3f-4d44-c69e-3b38220792f6"
      },
      "outputs": [
        {
          "output_type": "execute_result",
          "data": {
            "text/plain": [
              "   species     island  bill_length_mm  bill_depth_mm  flipper_length_mm  \\\n",
              "1      0.0  Torgersen            39.1           18.7              181.0   \n",
              "2      0.0  Torgersen            39.5           17.4              186.0   \n",
              "3      0.0  Torgersen            40.3           18.0              195.0   \n",
              "5      0.0  Torgersen            36.7           19.3              193.0   \n",
              "6      0.0  Torgersen            39.3           20.6              190.0   \n",
              "\n",
              "   body_mass_g     sex  year  \n",
              "1       3750.0    male  2007  \n",
              "2       3800.0  female  2007  \n",
              "3       3250.0  female  2007  \n",
              "5       3450.0  female  2007  \n",
              "6       3650.0    male  2007  "
            ],
            "text/html": [
              "\n",
              "  <div id=\"df-a92305cd-13dd-4b35-8bcb-cb9b3d40c21d\" class=\"colab-df-container\">\n",
              "    <div>\n",
              "<style scoped>\n",
              "    .dataframe tbody tr th:only-of-type {\n",
              "        vertical-align: middle;\n",
              "    }\n",
              "\n",
              "    .dataframe tbody tr th {\n",
              "        vertical-align: top;\n",
              "    }\n",
              "\n",
              "    .dataframe thead th {\n",
              "        text-align: right;\n",
              "    }\n",
              "</style>\n",
              "<table border=\"1\" class=\"dataframe\">\n",
              "  <thead>\n",
              "    <tr style=\"text-align: right;\">\n",
              "      <th></th>\n",
              "      <th>species</th>\n",
              "      <th>island</th>\n",
              "      <th>bill_length_mm</th>\n",
              "      <th>bill_depth_mm</th>\n",
              "      <th>flipper_length_mm</th>\n",
              "      <th>body_mass_g</th>\n",
              "      <th>sex</th>\n",
              "      <th>year</th>\n",
              "    </tr>\n",
              "  </thead>\n",
              "  <tbody>\n",
              "    <tr>\n",
              "      <th>1</th>\n",
              "      <td>0.0</td>\n",
              "      <td>Torgersen</td>\n",
              "      <td>39.1</td>\n",
              "      <td>18.7</td>\n",
              "      <td>181.0</td>\n",
              "      <td>3750.0</td>\n",
              "      <td>male</td>\n",
              "      <td>2007</td>\n",
              "    </tr>\n",
              "    <tr>\n",
              "      <th>2</th>\n",
              "      <td>0.0</td>\n",
              "      <td>Torgersen</td>\n",
              "      <td>39.5</td>\n",
              "      <td>17.4</td>\n",
              "      <td>186.0</td>\n",
              "      <td>3800.0</td>\n",
              "      <td>female</td>\n",
              "      <td>2007</td>\n",
              "    </tr>\n",
              "    <tr>\n",
              "      <th>3</th>\n",
              "      <td>0.0</td>\n",
              "      <td>Torgersen</td>\n",
              "      <td>40.3</td>\n",
              "      <td>18.0</td>\n",
              "      <td>195.0</td>\n",
              "      <td>3250.0</td>\n",
              "      <td>female</td>\n",
              "      <td>2007</td>\n",
              "    </tr>\n",
              "    <tr>\n",
              "      <th>5</th>\n",
              "      <td>0.0</td>\n",
              "      <td>Torgersen</td>\n",
              "      <td>36.7</td>\n",
              "      <td>19.3</td>\n",
              "      <td>193.0</td>\n",
              "      <td>3450.0</td>\n",
              "      <td>female</td>\n",
              "      <td>2007</td>\n",
              "    </tr>\n",
              "    <tr>\n",
              "      <th>6</th>\n",
              "      <td>0.0</td>\n",
              "      <td>Torgersen</td>\n",
              "      <td>39.3</td>\n",
              "      <td>20.6</td>\n",
              "      <td>190.0</td>\n",
              "      <td>3650.0</td>\n",
              "      <td>male</td>\n",
              "      <td>2007</td>\n",
              "    </tr>\n",
              "  </tbody>\n",
              "</table>\n",
              "</div>\n",
              "    <div class=\"colab-df-buttons\">\n",
              "\n",
              "  <div class=\"colab-df-container\">\n",
              "    <button class=\"colab-df-convert\" onclick=\"convertToInteractive('df-a92305cd-13dd-4b35-8bcb-cb9b3d40c21d')\"\n",
              "            title=\"Convert this dataframe to an interactive table.\"\n",
              "            style=\"display:none;\">\n",
              "\n",
              "  <svg xmlns=\"http://www.w3.org/2000/svg\" height=\"24px\" viewBox=\"0 -960 960 960\">\n",
              "    <path d=\"M120-120v-720h720v720H120Zm60-500h600v-160H180v160Zm220 220h160v-160H400v160Zm0 220h160v-160H400v160ZM180-400h160v-160H180v160Zm440 0h160v-160H620v160ZM180-180h160v-160H180v160Zm440 0h160v-160H620v160Z\"/>\n",
              "  </svg>\n",
              "    </button>\n",
              "\n",
              "  <style>\n",
              "    .colab-df-container {\n",
              "      display:flex;\n",
              "      gap: 12px;\n",
              "    }\n",
              "\n",
              "    .colab-df-convert {\n",
              "      background-color: #E8F0FE;\n",
              "      border: none;\n",
              "      border-radius: 50%;\n",
              "      cursor: pointer;\n",
              "      display: none;\n",
              "      fill: #1967D2;\n",
              "      height: 32px;\n",
              "      padding: 0 0 0 0;\n",
              "      width: 32px;\n",
              "    }\n",
              "\n",
              "    .colab-df-convert:hover {\n",
              "      background-color: #E2EBFA;\n",
              "      box-shadow: 0px 1px 2px rgba(60, 64, 67, 0.3), 0px 1px 3px 1px rgba(60, 64, 67, 0.15);\n",
              "      fill: #174EA6;\n",
              "    }\n",
              "\n",
              "    .colab-df-buttons div {\n",
              "      margin-bottom: 4px;\n",
              "    }\n",
              "\n",
              "    [theme=dark] .colab-df-convert {\n",
              "      background-color: #3B4455;\n",
              "      fill: #D2E3FC;\n",
              "    }\n",
              "\n",
              "    [theme=dark] .colab-df-convert:hover {\n",
              "      background-color: #434B5C;\n",
              "      box-shadow: 0px 1px 3px 1px rgba(0, 0, 0, 0.15);\n",
              "      filter: drop-shadow(0px 1px 2px rgba(0, 0, 0, 0.3));\n",
              "      fill: #FFFFFF;\n",
              "    }\n",
              "  </style>\n",
              "\n",
              "    <script>\n",
              "      const buttonEl =\n",
              "        document.querySelector('#df-a92305cd-13dd-4b35-8bcb-cb9b3d40c21d button.colab-df-convert');\n",
              "      buttonEl.style.display =\n",
              "        google.colab.kernel.accessAllowed ? 'block' : 'none';\n",
              "\n",
              "      async function convertToInteractive(key) {\n",
              "        const element = document.querySelector('#df-a92305cd-13dd-4b35-8bcb-cb9b3d40c21d');\n",
              "        const dataTable =\n",
              "          await google.colab.kernel.invokeFunction('convertToInteractive',\n",
              "                                                    [key], {});\n",
              "        if (!dataTable) return;\n",
              "\n",
              "        const docLinkHtml = 'Like what you see? Visit the ' +\n",
              "          '<a target=\"_blank\" href=https://colab.research.google.com/notebooks/data_table.ipynb>data table notebook</a>'\n",
              "          + ' to learn more about interactive tables.';\n",
              "        element.innerHTML = '';\n",
              "        dataTable['output_type'] = 'display_data';\n",
              "        await google.colab.output.renderOutput(dataTable, element);\n",
              "        const docLink = document.createElement('div');\n",
              "        docLink.innerHTML = docLinkHtml;\n",
              "        element.appendChild(docLink);\n",
              "      }\n",
              "    </script>\n",
              "  </div>\n",
              "\n",
              "\n",
              "    <div id=\"df-16974057-a6a8-4bc3-9003-45d96f6b33fc\">\n",
              "      <button class=\"colab-df-quickchart\" onclick=\"quickchart('df-16974057-a6a8-4bc3-9003-45d96f6b33fc')\"\n",
              "                title=\"Suggest charts\"\n",
              "                style=\"display:none;\">\n",
              "\n",
              "<svg xmlns=\"http://www.w3.org/2000/svg\" height=\"24px\"viewBox=\"0 0 24 24\"\n",
              "     width=\"24px\">\n",
              "    <g>\n",
              "        <path d=\"M19 3H5c-1.1 0-2 .9-2 2v14c0 1.1.9 2 2 2h14c1.1 0 2-.9 2-2V5c0-1.1-.9-2-2-2zM9 17H7v-7h2v7zm4 0h-2V7h2v10zm4 0h-2v-4h2v4z\"/>\n",
              "    </g>\n",
              "</svg>\n",
              "      </button>\n",
              "\n",
              "<style>\n",
              "  .colab-df-quickchart {\n",
              "      --bg-color: #E8F0FE;\n",
              "      --fill-color: #1967D2;\n",
              "      --hover-bg-color: #E2EBFA;\n",
              "      --hover-fill-color: #174EA6;\n",
              "      --disabled-fill-color: #AAA;\n",
              "      --disabled-bg-color: #DDD;\n",
              "  }\n",
              "\n",
              "  [theme=dark] .colab-df-quickchart {\n",
              "      --bg-color: #3B4455;\n",
              "      --fill-color: #D2E3FC;\n",
              "      --hover-bg-color: #434B5C;\n",
              "      --hover-fill-color: #FFFFFF;\n",
              "      --disabled-bg-color: #3B4455;\n",
              "      --disabled-fill-color: #666;\n",
              "  }\n",
              "\n",
              "  .colab-df-quickchart {\n",
              "    background-color: var(--bg-color);\n",
              "    border: none;\n",
              "    border-radius: 50%;\n",
              "    cursor: pointer;\n",
              "    display: none;\n",
              "    fill: var(--fill-color);\n",
              "    height: 32px;\n",
              "    padding: 0;\n",
              "    width: 32px;\n",
              "  }\n",
              "\n",
              "  .colab-df-quickchart:hover {\n",
              "    background-color: var(--hover-bg-color);\n",
              "    box-shadow: 0 1px 2px rgba(60, 64, 67, 0.3), 0 1px 3px 1px rgba(60, 64, 67, 0.15);\n",
              "    fill: var(--button-hover-fill-color);\n",
              "  }\n",
              "\n",
              "  .colab-df-quickchart-complete:disabled,\n",
              "  .colab-df-quickchart-complete:disabled:hover {\n",
              "    background-color: var(--disabled-bg-color);\n",
              "    fill: var(--disabled-fill-color);\n",
              "    box-shadow: none;\n",
              "  }\n",
              "\n",
              "  .colab-df-spinner {\n",
              "    border: 2px solid var(--fill-color);\n",
              "    border-color: transparent;\n",
              "    border-bottom-color: var(--fill-color);\n",
              "    animation:\n",
              "      spin 1s steps(1) infinite;\n",
              "  }\n",
              "\n",
              "  @keyframes spin {\n",
              "    0% {\n",
              "      border-color: transparent;\n",
              "      border-bottom-color: var(--fill-color);\n",
              "      border-left-color: var(--fill-color);\n",
              "    }\n",
              "    20% {\n",
              "      border-color: transparent;\n",
              "      border-left-color: var(--fill-color);\n",
              "      border-top-color: var(--fill-color);\n",
              "    }\n",
              "    30% {\n",
              "      border-color: transparent;\n",
              "      border-left-color: var(--fill-color);\n",
              "      border-top-color: var(--fill-color);\n",
              "      border-right-color: var(--fill-color);\n",
              "    }\n",
              "    40% {\n",
              "      border-color: transparent;\n",
              "      border-right-color: var(--fill-color);\n",
              "      border-top-color: var(--fill-color);\n",
              "    }\n",
              "    60% {\n",
              "      border-color: transparent;\n",
              "      border-right-color: var(--fill-color);\n",
              "    }\n",
              "    80% {\n",
              "      border-color: transparent;\n",
              "      border-right-color: var(--fill-color);\n",
              "      border-bottom-color: var(--fill-color);\n",
              "    }\n",
              "    90% {\n",
              "      border-color: transparent;\n",
              "      border-bottom-color: var(--fill-color);\n",
              "    }\n",
              "  }\n",
              "</style>\n",
              "\n",
              "      <script>\n",
              "        async function quickchart(key) {\n",
              "          const quickchartButtonEl =\n",
              "            document.querySelector('#' + key + ' button');\n",
              "          quickchartButtonEl.disabled = true;  // To prevent multiple clicks.\n",
              "          quickchartButtonEl.classList.add('colab-df-spinner');\n",
              "          try {\n",
              "            const charts = await google.colab.kernel.invokeFunction(\n",
              "                'suggestCharts', [key], {});\n",
              "          } catch (error) {\n",
              "            console.error('Error during call to suggestCharts:', error);\n",
              "          }\n",
              "          quickchartButtonEl.classList.remove('colab-df-spinner');\n",
              "          quickchartButtonEl.classList.add('colab-df-quickchart-complete');\n",
              "        }\n",
              "        (() => {\n",
              "          let quickchartButtonEl =\n",
              "            document.querySelector('#df-16974057-a6a8-4bc3-9003-45d96f6b33fc button');\n",
              "          quickchartButtonEl.style.display =\n",
              "            google.colab.kernel.accessAllowed ? 'block' : 'none';\n",
              "        })();\n",
              "      </script>\n",
              "    </div>\n",
              "\n",
              "    </div>\n",
              "  </div>\n"
            ],
            "application/vnd.google.colaboratory.intrinsic+json": {
              "type": "dataframe",
              "variable_name": "df",
              "summary": "{\n  \"name\": \"df\",\n  \"rows\": 333,\n  \"fields\": [\n    {\n      \"column\": \"species\",\n      \"properties\": {\n        \"dtype\": \"number\",\n        \"std\": 0.7678198868901498,\n        \"min\": 0.0,\n        \"max\": 2.0,\n        \"num_unique_values\": 3,\n        \"samples\": [\n          0.0,\n          1.0,\n          2.0\n        ],\n        \"semantic_type\": \"\",\n        \"description\": \"\"\n      }\n    },\n    {\n      \"column\": \"island\",\n      \"properties\": {\n        \"dtype\": \"category\",\n        \"num_unique_values\": 3,\n        \"samples\": [\n          \"Torgersen\",\n          \"Biscoe\",\n          \"Dream\"\n        ],\n        \"semantic_type\": \"\",\n        \"description\": \"\"\n      }\n    },\n    {\n      \"column\": \"bill_length_mm\",\n      \"properties\": {\n        \"dtype\": \"number\",\n        \"std\": 5.46866834264756,\n        \"min\": 32.1,\n        \"max\": 59.6,\n        \"num_unique_values\": 163,\n        \"samples\": [\n          46.9,\n          45.7,\n          52.1\n        ],\n        \"semantic_type\": \"\",\n        \"description\": \"\"\n      }\n    },\n    {\n      \"column\": \"bill_depth_mm\",\n      \"properties\": {\n        \"dtype\": \"number\",\n        \"std\": 1.9692354633199,\n        \"min\": 13.1,\n        \"max\": 21.5,\n        \"num_unique_values\": 79,\n        \"samples\": [\n          19.5,\n          18.7,\n          17.0\n        ],\n        \"semantic_type\": \"\",\n        \"description\": \"\"\n      }\n    },\n    {\n      \"column\": \"flipper_length_mm\",\n      \"properties\": {\n        \"dtype\": \"number\",\n        \"std\": 14.01576528828788,\n        \"min\": 172.0,\n        \"max\": 231.0,\n        \"num_unique_values\": 54,\n        \"samples\": [\n          188.0,\n          223.0,\n          229.0\n        ],\n        \"semantic_type\": \"\",\n        \"description\": \"\"\n      }\n    },\n    {\n      \"column\": \"body_mass_g\",\n      \"properties\": {\n        \"dtype\": \"number\",\n        \"std\": 805.2158019428966,\n        \"min\": 2700.0,\n        \"max\": 6300.0,\n        \"num_unique_values\": 93,\n        \"samples\": [\n          4725.0,\n          3100.0,\n          5400.0\n        ],\n        \"semantic_type\": \"\",\n        \"description\": \"\"\n      }\n    },\n    {\n      \"column\": \"sex\",\n      \"properties\": {\n        \"dtype\": \"category\",\n        \"num_unique_values\": 2,\n        \"samples\": [\n          \"female\",\n          \"male\"\n        ],\n        \"semantic_type\": \"\",\n        \"description\": \"\"\n      }\n    },\n    {\n      \"column\": \"year\",\n      \"properties\": {\n        \"dtype\": \"number\",\n        \"std\": 0,\n        \"min\": 2007,\n        \"max\": 2009,\n        \"num_unique_values\": 3,\n        \"samples\": [\n          2007,\n          2008\n        ],\n        \"semantic_type\": \"\",\n        \"description\": \"\"\n      }\n    }\n  ]\n}"
            }
          },
          "metadata": {},
          "execution_count": 173
        }
      ],
      "source": [
        "#Data manipulation\n",
        "#change last column to integers\n",
        "df['species'] = df['species'].map( {'Adelie':0.0, 'Gentoo':1.0, 'Chinstrap':2.0})\n",
        "df.head()"
      ]
    },
    {
      "cell_type": "markdown",
      "metadata": {
        "id": "hTVHxQMDjERn"
      },
      "source": [
        "#### Next, Let's select the features and target that will be used to build our neural network model\n",
        "\n",
        "Q5: Select`bill_length_mm`, `bill_depth_mm`, `flipper_length_mm`, `body_mass_g` as features `x`, and `species` as target `y`"
      ]
    },
    {
      "cell_type": "code",
      "execution_count": 174,
      "metadata": {
        "id": "GHqWY4aAi1-r"
      },
      "outputs": [],
      "source": [
        "# Define the features and label\n",
        "x = df.drop(['species', 'island', 'sex', 'year'] , axis =1)\n",
        "y = df['species']\n"
      ]
    },
    {
      "cell_type": "markdown",
      "metadata": {
        "id": "fFAiO8SZ-6DA"
      },
      "source": [
        "Q6: Print the first 5 rows in x"
      ]
    },
    {
      "cell_type": "code",
      "execution_count": 175,
      "metadata": {
        "id": "fncfdDQxnoMx",
        "colab": {
          "base_uri": "https://localhost:8080/",
          "height": 206
        },
        "outputId": "dcf20e15-70ee-4d05-a360-fbefe78933c2"
      },
      "outputs": [
        {
          "output_type": "execute_result",
          "data": {
            "text/plain": [
              "   bill_length_mm  bill_depth_mm  flipper_length_mm  body_mass_g\n",
              "1            39.1           18.7              181.0       3750.0\n",
              "2            39.5           17.4              186.0       3800.0\n",
              "3            40.3           18.0              195.0       3250.0\n",
              "5            36.7           19.3              193.0       3450.0\n",
              "6            39.3           20.6              190.0       3650.0"
            ],
            "text/html": [
              "\n",
              "  <div id=\"df-cc17982c-c1f6-4d08-b607-b08fd45621f1\" class=\"colab-df-container\">\n",
              "    <div>\n",
              "<style scoped>\n",
              "    .dataframe tbody tr th:only-of-type {\n",
              "        vertical-align: middle;\n",
              "    }\n",
              "\n",
              "    .dataframe tbody tr th {\n",
              "        vertical-align: top;\n",
              "    }\n",
              "\n",
              "    .dataframe thead th {\n",
              "        text-align: right;\n",
              "    }\n",
              "</style>\n",
              "<table border=\"1\" class=\"dataframe\">\n",
              "  <thead>\n",
              "    <tr style=\"text-align: right;\">\n",
              "      <th></th>\n",
              "      <th>bill_length_mm</th>\n",
              "      <th>bill_depth_mm</th>\n",
              "      <th>flipper_length_mm</th>\n",
              "      <th>body_mass_g</th>\n",
              "    </tr>\n",
              "  </thead>\n",
              "  <tbody>\n",
              "    <tr>\n",
              "      <th>1</th>\n",
              "      <td>39.1</td>\n",
              "      <td>18.7</td>\n",
              "      <td>181.0</td>\n",
              "      <td>3750.0</td>\n",
              "    </tr>\n",
              "    <tr>\n",
              "      <th>2</th>\n",
              "      <td>39.5</td>\n",
              "      <td>17.4</td>\n",
              "      <td>186.0</td>\n",
              "      <td>3800.0</td>\n",
              "    </tr>\n",
              "    <tr>\n",
              "      <th>3</th>\n",
              "      <td>40.3</td>\n",
              "      <td>18.0</td>\n",
              "      <td>195.0</td>\n",
              "      <td>3250.0</td>\n",
              "    </tr>\n",
              "    <tr>\n",
              "      <th>5</th>\n",
              "      <td>36.7</td>\n",
              "      <td>19.3</td>\n",
              "      <td>193.0</td>\n",
              "      <td>3450.0</td>\n",
              "    </tr>\n",
              "    <tr>\n",
              "      <th>6</th>\n",
              "      <td>39.3</td>\n",
              "      <td>20.6</td>\n",
              "      <td>190.0</td>\n",
              "      <td>3650.0</td>\n",
              "    </tr>\n",
              "  </tbody>\n",
              "</table>\n",
              "</div>\n",
              "    <div class=\"colab-df-buttons\">\n",
              "\n",
              "  <div class=\"colab-df-container\">\n",
              "    <button class=\"colab-df-convert\" onclick=\"convertToInteractive('df-cc17982c-c1f6-4d08-b607-b08fd45621f1')\"\n",
              "            title=\"Convert this dataframe to an interactive table.\"\n",
              "            style=\"display:none;\">\n",
              "\n",
              "  <svg xmlns=\"http://www.w3.org/2000/svg\" height=\"24px\" viewBox=\"0 -960 960 960\">\n",
              "    <path d=\"M120-120v-720h720v720H120Zm60-500h600v-160H180v160Zm220 220h160v-160H400v160Zm0 220h160v-160H400v160ZM180-400h160v-160H180v160Zm440 0h160v-160H620v160ZM180-180h160v-160H180v160Zm440 0h160v-160H620v160Z\"/>\n",
              "  </svg>\n",
              "    </button>\n",
              "\n",
              "  <style>\n",
              "    .colab-df-container {\n",
              "      display:flex;\n",
              "      gap: 12px;\n",
              "    }\n",
              "\n",
              "    .colab-df-convert {\n",
              "      background-color: #E8F0FE;\n",
              "      border: none;\n",
              "      border-radius: 50%;\n",
              "      cursor: pointer;\n",
              "      display: none;\n",
              "      fill: #1967D2;\n",
              "      height: 32px;\n",
              "      padding: 0 0 0 0;\n",
              "      width: 32px;\n",
              "    }\n",
              "\n",
              "    .colab-df-convert:hover {\n",
              "      background-color: #E2EBFA;\n",
              "      box-shadow: 0px 1px 2px rgba(60, 64, 67, 0.3), 0px 1px 3px 1px rgba(60, 64, 67, 0.15);\n",
              "      fill: #174EA6;\n",
              "    }\n",
              "\n",
              "    .colab-df-buttons div {\n",
              "      margin-bottom: 4px;\n",
              "    }\n",
              "\n",
              "    [theme=dark] .colab-df-convert {\n",
              "      background-color: #3B4455;\n",
              "      fill: #D2E3FC;\n",
              "    }\n",
              "\n",
              "    [theme=dark] .colab-df-convert:hover {\n",
              "      background-color: #434B5C;\n",
              "      box-shadow: 0px 1px 3px 1px rgba(0, 0, 0, 0.15);\n",
              "      filter: drop-shadow(0px 1px 2px rgba(0, 0, 0, 0.3));\n",
              "      fill: #FFFFFF;\n",
              "    }\n",
              "  </style>\n",
              "\n",
              "    <script>\n",
              "      const buttonEl =\n",
              "        document.querySelector('#df-cc17982c-c1f6-4d08-b607-b08fd45621f1 button.colab-df-convert');\n",
              "      buttonEl.style.display =\n",
              "        google.colab.kernel.accessAllowed ? 'block' : 'none';\n",
              "\n",
              "      async function convertToInteractive(key) {\n",
              "        const element = document.querySelector('#df-cc17982c-c1f6-4d08-b607-b08fd45621f1');\n",
              "        const dataTable =\n",
              "          await google.colab.kernel.invokeFunction('convertToInteractive',\n",
              "                                                    [key], {});\n",
              "        if (!dataTable) return;\n",
              "\n",
              "        const docLinkHtml = 'Like what you see? Visit the ' +\n",
              "          '<a target=\"_blank\" href=https://colab.research.google.com/notebooks/data_table.ipynb>data table notebook</a>'\n",
              "          + ' to learn more about interactive tables.';\n",
              "        element.innerHTML = '';\n",
              "        dataTable['output_type'] = 'display_data';\n",
              "        await google.colab.output.renderOutput(dataTable, element);\n",
              "        const docLink = document.createElement('div');\n",
              "        docLink.innerHTML = docLinkHtml;\n",
              "        element.appendChild(docLink);\n",
              "      }\n",
              "    </script>\n",
              "  </div>\n",
              "\n",
              "\n",
              "    <div id=\"df-5f677188-4d87-44fa-9b7a-1d642401ef91\">\n",
              "      <button class=\"colab-df-quickchart\" onclick=\"quickchart('df-5f677188-4d87-44fa-9b7a-1d642401ef91')\"\n",
              "                title=\"Suggest charts\"\n",
              "                style=\"display:none;\">\n",
              "\n",
              "<svg xmlns=\"http://www.w3.org/2000/svg\" height=\"24px\"viewBox=\"0 0 24 24\"\n",
              "     width=\"24px\">\n",
              "    <g>\n",
              "        <path d=\"M19 3H5c-1.1 0-2 .9-2 2v14c0 1.1.9 2 2 2h14c1.1 0 2-.9 2-2V5c0-1.1-.9-2-2-2zM9 17H7v-7h2v7zm4 0h-2V7h2v10zm4 0h-2v-4h2v4z\"/>\n",
              "    </g>\n",
              "</svg>\n",
              "      </button>\n",
              "\n",
              "<style>\n",
              "  .colab-df-quickchart {\n",
              "      --bg-color: #E8F0FE;\n",
              "      --fill-color: #1967D2;\n",
              "      --hover-bg-color: #E2EBFA;\n",
              "      --hover-fill-color: #174EA6;\n",
              "      --disabled-fill-color: #AAA;\n",
              "      --disabled-bg-color: #DDD;\n",
              "  }\n",
              "\n",
              "  [theme=dark] .colab-df-quickchart {\n",
              "      --bg-color: #3B4455;\n",
              "      --fill-color: #D2E3FC;\n",
              "      --hover-bg-color: #434B5C;\n",
              "      --hover-fill-color: #FFFFFF;\n",
              "      --disabled-bg-color: #3B4455;\n",
              "      --disabled-fill-color: #666;\n",
              "  }\n",
              "\n",
              "  .colab-df-quickchart {\n",
              "    background-color: var(--bg-color);\n",
              "    border: none;\n",
              "    border-radius: 50%;\n",
              "    cursor: pointer;\n",
              "    display: none;\n",
              "    fill: var(--fill-color);\n",
              "    height: 32px;\n",
              "    padding: 0;\n",
              "    width: 32px;\n",
              "  }\n",
              "\n",
              "  .colab-df-quickchart:hover {\n",
              "    background-color: var(--hover-bg-color);\n",
              "    box-shadow: 0 1px 2px rgba(60, 64, 67, 0.3), 0 1px 3px 1px rgba(60, 64, 67, 0.15);\n",
              "    fill: var(--button-hover-fill-color);\n",
              "  }\n",
              "\n",
              "  .colab-df-quickchart-complete:disabled,\n",
              "  .colab-df-quickchart-complete:disabled:hover {\n",
              "    background-color: var(--disabled-bg-color);\n",
              "    fill: var(--disabled-fill-color);\n",
              "    box-shadow: none;\n",
              "  }\n",
              "\n",
              "  .colab-df-spinner {\n",
              "    border: 2px solid var(--fill-color);\n",
              "    border-color: transparent;\n",
              "    border-bottom-color: var(--fill-color);\n",
              "    animation:\n",
              "      spin 1s steps(1) infinite;\n",
              "  }\n",
              "\n",
              "  @keyframes spin {\n",
              "    0% {\n",
              "      border-color: transparent;\n",
              "      border-bottom-color: var(--fill-color);\n",
              "      border-left-color: var(--fill-color);\n",
              "    }\n",
              "    20% {\n",
              "      border-color: transparent;\n",
              "      border-left-color: var(--fill-color);\n",
              "      border-top-color: var(--fill-color);\n",
              "    }\n",
              "    30% {\n",
              "      border-color: transparent;\n",
              "      border-left-color: var(--fill-color);\n",
              "      border-top-color: var(--fill-color);\n",
              "      border-right-color: var(--fill-color);\n",
              "    }\n",
              "    40% {\n",
              "      border-color: transparent;\n",
              "      border-right-color: var(--fill-color);\n",
              "      border-top-color: var(--fill-color);\n",
              "    }\n",
              "    60% {\n",
              "      border-color: transparent;\n",
              "      border-right-color: var(--fill-color);\n",
              "    }\n",
              "    80% {\n",
              "      border-color: transparent;\n",
              "      border-right-color: var(--fill-color);\n",
              "      border-bottom-color: var(--fill-color);\n",
              "    }\n",
              "    90% {\n",
              "      border-color: transparent;\n",
              "      border-bottom-color: var(--fill-color);\n",
              "    }\n",
              "  }\n",
              "</style>\n",
              "\n",
              "      <script>\n",
              "        async function quickchart(key) {\n",
              "          const quickchartButtonEl =\n",
              "            document.querySelector('#' + key + ' button');\n",
              "          quickchartButtonEl.disabled = true;  // To prevent multiple clicks.\n",
              "          quickchartButtonEl.classList.add('colab-df-spinner');\n",
              "          try {\n",
              "            const charts = await google.colab.kernel.invokeFunction(\n",
              "                'suggestCharts', [key], {});\n",
              "          } catch (error) {\n",
              "            console.error('Error during call to suggestCharts:', error);\n",
              "          }\n",
              "          quickchartButtonEl.classList.remove('colab-df-spinner');\n",
              "          quickchartButtonEl.classList.add('colab-df-quickchart-complete');\n",
              "        }\n",
              "        (() => {\n",
              "          let quickchartButtonEl =\n",
              "            document.querySelector('#df-5f677188-4d87-44fa-9b7a-1d642401ef91 button');\n",
              "          quickchartButtonEl.style.display =\n",
              "            google.colab.kernel.accessAllowed ? 'block' : 'none';\n",
              "        })();\n",
              "      </script>\n",
              "    </div>\n",
              "\n",
              "    </div>\n",
              "  </div>\n"
            ],
            "application/vnd.google.colaboratory.intrinsic+json": {
              "type": "dataframe",
              "variable_name": "x",
              "summary": "{\n  \"name\": \"x\",\n  \"rows\": 333,\n  \"fields\": [\n    {\n      \"column\": \"bill_length_mm\",\n      \"properties\": {\n        \"dtype\": \"number\",\n        \"std\": 5.46866834264756,\n        \"min\": 32.1,\n        \"max\": 59.6,\n        \"num_unique_values\": 163,\n        \"samples\": [\n          46.9,\n          45.7,\n          52.1\n        ],\n        \"semantic_type\": \"\",\n        \"description\": \"\"\n      }\n    },\n    {\n      \"column\": \"bill_depth_mm\",\n      \"properties\": {\n        \"dtype\": \"number\",\n        \"std\": 1.9692354633199,\n        \"min\": 13.1,\n        \"max\": 21.5,\n        \"num_unique_values\": 79,\n        \"samples\": [\n          19.5,\n          18.7,\n          17.0\n        ],\n        \"semantic_type\": \"\",\n        \"description\": \"\"\n      }\n    },\n    {\n      \"column\": \"flipper_length_mm\",\n      \"properties\": {\n        \"dtype\": \"number\",\n        \"std\": 14.01576528828788,\n        \"min\": 172.0,\n        \"max\": 231.0,\n        \"num_unique_values\": 54,\n        \"samples\": [\n          188.0,\n          223.0,\n          229.0\n        ],\n        \"semantic_type\": \"\",\n        \"description\": \"\"\n      }\n    },\n    {\n      \"column\": \"body_mass_g\",\n      \"properties\": {\n        \"dtype\": \"number\",\n        \"std\": 805.2158019428966,\n        \"min\": 2700.0,\n        \"max\": 6300.0,\n        \"num_unique_values\": 93,\n        \"samples\": [\n          4725.0,\n          3100.0,\n          5400.0\n        ],\n        \"semantic_type\": \"\",\n        \"description\": \"\"\n      }\n    }\n  ]\n}"
            }
          },
          "metadata": {},
          "execution_count": 175
        }
      ],
      "source": [
        "x.head()"
      ]
    },
    {
      "cell_type": "code",
      "execution_count": 176,
      "metadata": {
        "id": "1GB4PiU5ntfH",
        "colab": {
          "base_uri": "https://localhost:8080/",
          "height": 240
        },
        "outputId": "f7ea5470-e93b-42e7-c7b7-c36167c2a2c8"
      },
      "outputs": [
        {
          "output_type": "execute_result",
          "data": {
            "text/plain": [
              "1    0.0\n",
              "2    0.0\n",
              "3    0.0\n",
              "5    0.0\n",
              "6    0.0\n",
              "Name: species, dtype: float64"
            ],
            "text/html": [
              "<div>\n",
              "<style scoped>\n",
              "    .dataframe tbody tr th:only-of-type {\n",
              "        vertical-align: middle;\n",
              "    }\n",
              "\n",
              "    .dataframe tbody tr th {\n",
              "        vertical-align: top;\n",
              "    }\n",
              "\n",
              "    .dataframe thead th {\n",
              "        text-align: right;\n",
              "    }\n",
              "</style>\n",
              "<table border=\"1\" class=\"dataframe\">\n",
              "  <thead>\n",
              "    <tr style=\"text-align: right;\">\n",
              "      <th></th>\n",
              "      <th>species</th>\n",
              "    </tr>\n",
              "  </thead>\n",
              "  <tbody>\n",
              "    <tr>\n",
              "      <th>1</th>\n",
              "      <td>0.0</td>\n",
              "    </tr>\n",
              "    <tr>\n",
              "      <th>2</th>\n",
              "      <td>0.0</td>\n",
              "    </tr>\n",
              "    <tr>\n",
              "      <th>3</th>\n",
              "      <td>0.0</td>\n",
              "    </tr>\n",
              "    <tr>\n",
              "      <th>5</th>\n",
              "      <td>0.0</td>\n",
              "    </tr>\n",
              "    <tr>\n",
              "      <th>6</th>\n",
              "      <td>0.0</td>\n",
              "    </tr>\n",
              "  </tbody>\n",
              "</table>\n",
              "</div><br><label><b>dtype:</b> float64</label>"
            ]
          },
          "metadata": {},
          "execution_count": 176
        }
      ],
      "source": [
        "# Print the first 5 rows in y\n",
        "y.head()"
      ]
    },
    {
      "cell_type": "code",
      "execution_count": 177,
      "metadata": {
        "id": "qLFQGpx5jRQi",
        "colab": {
          "base_uri": "https://localhost:8080/"
        },
        "outputId": "b44cc466-8ffc-49ab-f300-5c8bcdba028c"
      },
      "outputs": [
        {
          "output_type": "execute_result",
          "data": {
            "text/plain": [
              "array([[  39.1,   18.7,  181. , 3750. ],\n",
              "       [  39.5,   17.4,  186. , 3800. ],\n",
              "       [  40.3,   18. ,  195. , 3250. ],\n",
              "       ...,\n",
              "       [  49.6,   18.2,  193. , 3775. ],\n",
              "       [  50.8,   19. ,  210. , 4100. ],\n",
              "       [  50.2,   18.7,  198. , 3775. ]])"
            ]
          },
          "metadata": {},
          "execution_count": 177
        }
      ],
      "source": [
        "#convert these to X and y to numpy arrays\n",
        "x= x.values\n",
        "y= y.values\n",
        "x"
      ]
    },
    {
      "cell_type": "markdown",
      "metadata": {
        "id": "Cw_GmPRQYxug"
      },
      "source": [
        "### 2. Create the neural network model\n",
        "Q7: Using a Model Class that inherits the neural newtork. Complete the code below to include:\n",
        "1. Input features = 4,\n",
        "2. Hidden layer 1 = 8\n",
        "3. Hidden layer 2 = 6\n",
        "4. Hidden layer 3 = 4\n",
        "5. Output layer = 3"
      ]
    },
    {
      "cell_type": "code",
      "execution_count": 178,
      "metadata": {
        "id": "rr4uij8AY527"
      },
      "outputs": [],
      "source": [
        "class PenguinModel(nn.Module):\n",
        "  # Define the Input layers (4 features for the penguins) -->\n",
        "  # Hidden layer 1 with n neurons -->\n",
        "  # Hidden layer 2 with m neurons -->\n",
        "  # Hidden layer 3 with p neurons -->\n",
        "  # output with 3 classes of penguins\n",
        "\n",
        "  #initialize the model Self\n",
        "  def __init__(self, input_features=4, h1=8, h2=6, h3=4, output_features=3):\n",
        "    super().__init__()  #instantiate our nn.Module\n",
        "\n",
        "    #define the layers\n",
        "    self.fc1 = nn.Linear(input_features, h1)\n",
        "    self.fc2 = nn.Linear(h1, h2)\n",
        "    self.fc3 = nn.Linear(h2,h3)\n",
        "    self.out = nn.Linear(h3, output_features)\n",
        "\n",
        "  #Create a forward network function: function to move everything forward\n",
        "  # Relu- if output less than 0, make it 0, if output more than 0 use the output\n",
        "  def forward(self, x):\n",
        "    x = F.relu(self.fc1(x)) #start with layer 1 and apply and activation function\n",
        "    x = F.relu(self.fc2(x)) #move to layer 2 and apply an activation function\n",
        "    x = F. relu(self.fc3(x)) #move to layer 3 and apply an activation function\n",
        "    x = self.out(x)         #move to output layer without an activation function\n",
        "    return x"
      ]
    },
    {
      "cell_type": "markdown",
      "metadata": {
        "id": "aHH9RVMpC5tm"
      },
      "source": [
        "Q8: Picks a manual seed for randomization an set at 32"
      ]
    },
    {
      "cell_type": "code",
      "execution_count": 179,
      "metadata": {
        "id": "a961d3IkYusc",
        "colab": {
          "base_uri": "https://localhost:8080/"
        },
        "outputId": "315beb6c-39cd-496c-f946-49a97e4ae9de"
      },
      "outputs": [
        {
          "output_type": "execute_result",
          "data": {
            "text/plain": [
              "<torch._C.Generator at 0x7cb06825a830>"
            ]
          },
          "metadata": {},
          "execution_count": 179
        }
      ],
      "source": [
        "# Pick a manual seed for randomization\n",
        "torch.manual_seed(32)\n"
      ]
    },
    {
      "cell_type": "markdown",
      "metadata": {
        "id": "1rQtharFDCih"
      },
      "source": [
        "Q9: Create an instance of the penguin model with a variable name `model`"
      ]
    },
    {
      "cell_type": "code",
      "execution_count": 180,
      "metadata": {
        "id": "53XXsCGHDXlO"
      },
      "outputs": [],
      "source": [
        "# Create an instance of the model - Turn the model ON\n",
        "model = PenguinModel()"
      ]
    },
    {
      "cell_type": "code",
      "execution_count": 181,
      "metadata": {
        "id": "yaK-L0BPFJdh"
      },
      "outputs": [],
      "source": [
        "# #Draw model graph\n",
        "# model_graph = draw_graph(model,input_size=[1,4], device='meta')\n",
        "# model_graph.visual_graph"
      ]
    },
    {
      "cell_type": "markdown",
      "metadata": {
        "id": "bHh9-roN_8WP"
      },
      "source": [
        "### 3. Split the data to train and test set"
      ]
    },
    {
      "cell_type": "code",
      "execution_count": 182,
      "metadata": {
        "id": "WXOyDKitknDM"
      },
      "outputs": [],
      "source": [
        "from sklearn.model_selection import train_test_split\n",
        "x_train, x_test, y_train, y_test = train_test_split(x, y, test_size = 0.25, random_state=32)\n"
      ]
    },
    {
      "cell_type": "markdown",
      "metadata": {
        "id": "HJV0yX3tAIxk"
      },
      "source": [
        "Q10: Convert X-inputs to float tensors using `torch.FloatTensor` and y-inputs to long tensor using `torch.LongTensor`"
      ]
    },
    {
      "cell_type": "code",
      "execution_count": 183,
      "metadata": {
        "id": "Yn60ks5rlqfR"
      },
      "outputs": [],
      "source": [
        "# Convert X-inputs to float tensors\n",
        "# x_train = torch.tensor(x_train, dtype=torch.double)\n",
        "x_train = torch.FloatTensor(x_train)\n",
        "x_test =torch.FloatTensor(x_test)\n",
        "\n",
        "#convert y-label to long tensors\n",
        "# y_train = torch.tensor(y_train, dtype=torch.double)\n",
        "y_train = torch.LongTensor(y_train)\n",
        "y_test =torch.LongTensor(y_test)"
      ]
    },
    {
      "cell_type": "code",
      "execution_count": 184,
      "metadata": {
        "id": "vz2sy0bjo8TS",
        "colab": {
          "base_uri": "https://localhost:8080/"
        },
        "outputId": "593b1d2a-0c0d-4361-c3b6-ebb5347617ef"
      },
      "outputs": [
        {
          "output_type": "execute_result",
          "data": {
            "text/plain": [
              "tensor([0, 0, 0, 1, 1, 2, 0, 0, 1, 0, 0, 0, 2, 1, 0, 2, 1, 1, 2, 0, 1, 0, 1, 1,\n",
              "        0, 1, 0, 0, 0, 2, 0, 0, 1, 2, 0, 1, 0, 0, 0, 2, 0, 2, 1, 1, 1, 0, 2, 1,\n",
              "        0, 0, 1, 0, 0, 2, 2, 2, 2, 2, 0, 1, 2, 0, 1, 2, 1, 0, 0, 0, 0, 2, 0, 1,\n",
              "        2, 0, 0, 0, 1, 0, 1, 0, 1, 0, 2, 1, 0, 1, 1, 1, 1, 1, 1, 0, 1, 1, 2, 1,\n",
              "        1, 0, 0, 1, 1, 0, 1, 2, 0, 0, 0, 0, 2, 2, 0, 1, 2, 2, 0, 0, 0, 1, 0, 0,\n",
              "        2, 1, 1, 1, 1, 0, 0, 0, 2, 2, 0, 2, 0, 0, 2, 2, 2, 0, 0, 2, 1, 0, 0, 0,\n",
              "        0, 0, 0, 0, 0, 1, 0, 0, 0, 0, 2, 1, 0, 1, 1, 1, 1, 2, 1, 2, 0, 1, 1, 1,\n",
              "        1, 2, 1, 0, 0, 0, 0, 2, 0, 1, 1, 0, 2, 0, 2, 0, 1, 0, 0, 0, 1, 1, 1, 0,\n",
              "        1, 0, 1, 1, 1, 1, 0, 1, 0, 0, 1, 1, 1, 1, 0, 0, 0, 1, 1, 1, 2, 0, 2, 0,\n",
              "        1, 0, 1, 0, 1, 0, 0, 2, 0, 1, 1, 1, 2, 0, 0, 0, 0, 2, 0, 0, 2, 0, 0, 0,\n",
              "        1, 1, 0, 0, 1, 0, 2, 0, 1])"
            ]
          },
          "metadata": {},
          "execution_count": 184
        }
      ],
      "source": [
        "y_train"
      ]
    },
    {
      "cell_type": "markdown",
      "metadata": {
        "id": "1uisYqB5o3q8"
      },
      "source": [
        "### 4. Train the model\n",
        "\n",
        "Q11:\n",
        "1. Choose a Criterion for the model using the nn.CrossEntropyLoss() and assign it to a variable name `criterion`  \n",
        "\n",
        "2. Choose an Optimizer for the model using the `torch.optim.Adam` module , with a learning rate of 0.01 and assign it to a variable name `optimizer`  "
      ]
    },
    {
      "cell_type": "code",
      "execution_count": 185,
      "metadata": {
        "id": "D3O9ImarmDP0"
      },
      "outputs": [],
      "source": [
        "# Set the criterion of model to measure the error,\n",
        "# how far off the prediction are from the data\n",
        "\n",
        "criterion = nn.CrossEntropyLoss()\n",
        "\n",
        "# Choose an Optimizer (Adam), learning rate\n",
        "# (if error doesn't go down after a bunch of iterations (epoch), lower our learning rate)\n",
        "optimizer = torch.optim.Adam(model.parameters(), lr =0.01) #the lower the lr the more the time to train"
      ]
    },
    {
      "cell_type": "code",
      "execution_count": 186,
      "metadata": {
        "id": "GyJRxJSVuJl5",
        "colab": {
          "base_uri": "https://localhost:8080/"
        },
        "outputId": "f7ed3c3f-7e35-4277-f4f5-1e7a88e972a7"
      },
      "outputs": [
        {
          "output_type": "execute_result",
          "data": {
            "text/plain": [
              "PenguinModel(\n",
              "  (fc1): Linear(in_features=4, out_features=8, bias=True)\n",
              "  (fc2): Linear(in_features=8, out_features=6, bias=True)\n",
              "  (fc3): Linear(in_features=6, out_features=4, bias=True)\n",
              "  (out): Linear(in_features=4, out_features=3, bias=True)\n",
              ")"
            ]
          },
          "metadata": {},
          "execution_count": 186
        }
      ],
      "source": [
        "model"
      ]
    },
    {
      "cell_type": "code",
      "execution_count": 187,
      "metadata": {
        "id": "H7PkrCVXp_gE",
        "colab": {
          "base_uri": "https://localhost:8080/"
        },
        "outputId": "4d18830c-dde3-49fe-bb69-bb550be137d9"
      },
      "outputs": [
        {
          "output_type": "stream",
          "name": "stdout",
          "text": [
            "Epoch: 0 and loss: 13.716619491577148\n",
            "Epoch: 5 and loss: 4.879711627960205\n",
            "Epoch: 10 and loss: 1.0964187383651733\n",
            "Epoch: 15 and loss: 1.0875200033187866\n",
            "Epoch: 20 and loss: 1.0800989866256714\n",
            "Epoch: 25 and loss: 1.0737026929855347\n",
            "Epoch: 30 and loss: 1.0681231021881104\n",
            "Epoch: 35 and loss: 1.0632505416870117\n",
            "Epoch: 40 and loss: 1.0590139627456665\n",
            "Epoch: 45 and loss: 1.0553585290908813\n",
            "Epoch: 50 and loss: 1.0522329807281494\n"
          ]
        }
      ],
      "source": [
        "# Train the model\n",
        "#Epoch? (if 1, it implies the number of time the model is trained is once)\n",
        "\n",
        "epoch =51\n",
        "losses = []   #this list is to store the losses in each epoch\n",
        "\n",
        "# # Make sure the model is on the correct device for training (e.g., 'cpu')\n",
        "# # In this case, it's already on CPU by default, but explicitly moving it can be good practice\n",
        "# device = torch.device(\"cuda\" if torch.cuda.is_available() else \"cpu\")\n",
        "# model.to(device)\n",
        "# x_train = x_train.to(device)\n",
        "# y_train = y_train.to(device)\n",
        "\n",
        "\n",
        "for i in range(epoch):\n",
        "  # Go forward and get prediction\n",
        "  y_pred = model.forward(x_train) #get predicted result\n",
        "\n",
        "  #Measure the loss/error, it will be high at first- How far predictions from data\n",
        "  loss = criterion(y_pred, y_train) #predicted values vs the y_train\n",
        "\n",
        "  #Keep track of our losses\n",
        "  losses.append(loss.detach().numpy())\n",
        "\n",
        "  #print every 10 epoch\n",
        "  if i % 5 == 0:\n",
        "    print(f'Epoch: {i} and loss: {loss}')\n",
        "\n",
        "  #Do some back propagation: take the error rate of forward propagation and feed it back\n",
        "  #through the network to fine tune the weight\n",
        "  optimizer.zero_grad() # reset grads\n",
        "  loss.backward()\n",
        "  optimizer.step() # update weights\n"
      ]
    },
    {
      "cell_type": "code",
      "execution_count": 137,
      "metadata": {
        "colab": {
          "base_uri": "https://localhost:8080/",
          "height": 466
        },
        "id": "ffrHGI7LsW9d",
        "outputId": "a4d49157-234c-45e0-86e6-b36f70c7a0a9"
      },
      "outputs": [
        {
          "output_type": "execute_result",
          "data": {
            "text/plain": [
              "Text(0.5, 0, 'Epoch')"
            ]
          },
          "metadata": {},
          "execution_count": 137
        },
        {
          "output_type": "display_data",
          "data": {
            "text/plain": [
              "<Figure size 640x480 with 1 Axes>"
            ],
            "image/png": "[encoded data removed]"
          },
          "metadata": {}
        }
      ],
      "source": [
        "#Visualize the result\n",
        "plt.plot(range(epoch), losses)\n",
        "plt.ylabel('loss/error')\n",
        "plt.xlabel('Epoch')\n"
      ]
    },
    {
      "cell_type": "markdown",
      "metadata": {
        "id": "c9eqJB5L_H9H"
      },
      "source": [
        "### Model Validation on Test Data"
      ]
    },
    {
      "cell_type": "code",
      "execution_count": 138,
      "metadata": {
        "id": "W7zoQXfRv91Q"
      },
      "outputs": [],
      "source": [
        "#Evaluate Model on Test Data set\n",
        "with torch.no_grad():   #This turns off back propagation\n",
        "  #Evaluate the data on the 20% of data\n",
        "  y_eval = model.forward(x_test) # X_test are features from our test set, y_eval will be\n",
        "  loss = criterion(y_eval, y_test) # Find the test loss or error"
      ]
    },
    {
      "cell_type": "code",
      "execution_count": 139,
      "metadata": {
        "colab": {
          "base_uri": "https://localhost:8080/"
        },
        "id": "6l_o2f5aHp_w",
        "outputId": "11bcb1ce-7c33-451a-e338-ac3f85846d2f"
      },
      "outputs": [
        {
          "output_type": "execute_result",
          "data": {
            "text/plain": [
              "tensor(1.0809)"
            ]
          },
          "metadata": {},
          "execution_count": 139
        }
      ],
      "source": [
        "loss   # the test loss is close to the train loss, we have a great model"
      ]
    },
    {
      "cell_type": "markdown",
      "metadata": {
        "id": "V8PFy04XbI8z"
      },
      "source": [
        "#### Track the individual test data"
      ]
    },
    {
      "cell_type": "code",
      "execution_count": null,
      "metadata": {
        "colab": {
          "base_uri": "https://localhost:8080/"
        },
        "id": "Cs9TmL-quIQB",
        "outputId": "4f64330f-50c4-4a1a-800b-c07e2051320e"
      },
      "outputs": [
        {
          "data": {
            "text/plain": [
              "67"
            ]
          },
          "execution_count": 37,
          "metadata": {},
          "output_type": "execute_result"
        }
      ],
      "source": [
        "len(y_test)"
      ]
    },
    {
      "cell_type": "code",
      "execution_count": null,
      "metadata": {
        "colab": {
          "base_uri": "https://localhost:8080/"
        },
        "id": "J7qmQ5guHp8l",
        "outputId": "cbde6c44-10cb-4618-f3fe-fb76cbd0645a"
      },
      "outputs": [
        {
          "name": "stdout",
          "output_type": "stream",
          "text": [
            "1.) tensor([ 0.6512,  0.3930, -0.0701]) \t 0 \t 0\n",
            "2.) tensor([ 0.6512,  0.3930, -0.0701]) \t 1 \t 0\n",
            "3.) tensor([ 0.6512,  0.3930, -0.0701]) \t 0 \t 0\n",
            "4.) tensor([ 0.6512,  0.3930, -0.0701]) \t 0 \t 0\n",
            "5.) tensor([ 0.6512,  0.3930, -0.0701]) \t 0 \t 0\n",
            "6.) tensor([ 0.6512,  0.3930, -0.0701]) \t 1 \t 0\n",
            "7.) tensor([ 0.6512,  0.3930, -0.0701]) \t 0 \t 0\n",
            "8.) tensor([ 0.6512,  0.3930, -0.0701]) \t 1 \t 0\n",
            "9.) tensor([ 0.6512,  0.3930, -0.0701]) \t 2 \t 0\n",
            "10.) tensor([ 0.6512,  0.3930, -0.0701]) \t 2 \t 0\n",
            "11.) tensor([ 0.6512,  0.3930, -0.0701]) \t 2 \t 0\n",
            "12.) tensor([ 0.6512,  0.3930, -0.0701]) \t 0 \t 0\n",
            "13.) tensor([ 0.6512,  0.3930, -0.0701]) \t 1 \t 0\n",
            "14.) tensor([ 0.6512,  0.3930, -0.0701]) \t 1 \t 0\n",
            "15.) tensor([ 0.6512,  0.3930, -0.0701]) \t 1 \t 0\n",
            "16.) tensor([ 0.6512,  0.3930, -0.0701]) \t 2 \t 0\n",
            "17.) tensor([ 0.6512,  0.3930, -0.0701]) \t 1 \t 0\n",
            "18.) tensor([ 0.6512,  0.3930, -0.0701]) \t 0 \t 0\n",
            "19.) tensor([ 0.6512,  0.3930, -0.0701]) \t 1 \t 0\n",
            "20.) tensor([ 0.6512,  0.3930, -0.0701]) \t 1 \t 0\n",
            "21.) tensor([ 0.6512,  0.3930, -0.0701]) \t 1 \t 0\n",
            "22.) tensor([ 0.6512,  0.3930, -0.0701]) \t 0 \t 0\n",
            "23.) tensor([ 0.6512,  0.3930, -0.0701]) \t 0 \t 0\n",
            "24.) tensor([ 0.6512,  0.3930, -0.0701]) \t 1 \t 0\n",
            "25.) tensor([ 0.6512,  0.3930, -0.0701]) \t 1 \t 0\n",
            "26.) tensor([ 0.6512,  0.3930, -0.0701]) \t 0 \t 0\n",
            "27.) tensor([ 0.6512,  0.3930, -0.0701]) \t 1 \t 0\n",
            "28.) tensor([ 0.6512,  0.3930, -0.0701]) \t 2 \t 0\n",
            "29.) tensor([ 0.6512,  0.3930, -0.0701]) \t 0 \t 0\n",
            "30.) tensor([ 0.6512,  0.3930, -0.0701]) \t 0 \t 0\n",
            "31.) tensor([ 0.6512,  0.3930, -0.0701]) \t 0 \t 0\n",
            "32.) tensor([ 0.6512,  0.3930, -0.0701]) \t 0 \t 0\n",
            "33.) tensor([ 0.6512,  0.3930, -0.0701]) \t 1 \t 0\n",
            "34.) tensor([ 0.6512,  0.3930, -0.0701]) \t 2 \t 0\n",
            "35.) tensor([ 0.6512,  0.3930, -0.0701]) \t 2 \t 0\n",
            "36.) tensor([ 0.6512,  0.3930, -0.0701]) \t 1 \t 0\n",
            "37.) tensor([ 0.6512,  0.3930, -0.0701]) \t 1 \t 0\n",
            "38.) tensor([ 0.6512,  0.3930, -0.0701]) \t 2 \t 0\n",
            "39.) tensor([ 0.6512,  0.3930, -0.0701]) \t 1 \t 0\n",
            "40.) tensor([ 0.6512,  0.3930, -0.0701]) \t 0 \t 0\n",
            "41.) tensor([ 0.6512,  0.3930, -0.0701]) \t 0 \t 0\n",
            "42.) tensor([ 0.6512,  0.3930, -0.0701]) \t 1 \t 0\n",
            "43.) tensor([ 0.6512,  0.3930, -0.0701]) \t 2 \t 0\n",
            "44.) tensor([ 0.6512,  0.3930, -0.0701]) \t 1 \t 0\n",
            "45.) tensor([ 0.6512,  0.3930, -0.0701]) \t 1 \t 0\n",
            "46.) tensor([ 0.6512,  0.3930, -0.0701]) \t 1 \t 0\n",
            "47.) tensor([ 0.6512,  0.3930, -0.0701]) \t 0 \t 0\n",
            "48.) tensor([ 0.6512,  0.3930, -0.0701]) \t 1 \t 0\n",
            "49.) tensor([ 0.6512,  0.3930, -0.0701]) \t 2 \t 0\n",
            "50.) tensor([ 0.6512,  0.3930, -0.0701]) \t 0 \t 0\n",
            "51.) tensor([ 0.6512,  0.3930, -0.0701]) \t 0 \t 0\n",
            "52.) tensor([ 0.6512,  0.3930, -0.0701]) \t 2 \t 0\n",
            "53.) tensor([ 0.6512,  0.3930, -0.0701]) \t 2 \t 0\n",
            "54.) tensor([ 0.6512,  0.3930, -0.0701]) \t 1 \t 0\n",
            "55.) tensor([ 0.6512,  0.3930, -0.0701]) \t 0 \t 0\n",
            "56.) tensor([ 0.6512,  0.3930, -0.0701]) \t 0 \t 0\n",
            "57.) tensor([ 0.6512,  0.3930, -0.0701]) \t 1 \t 0\n",
            "58.) tensor([ 0.6512,  0.3930, -0.0701]) \t 0 \t 0\n",
            "59.) tensor([ 0.6512,  0.3930, -0.0701]) \t 2 \t 0\n",
            "60.) tensor([ 0.6512,  0.3930, -0.0701]) \t 1 \t 0\n",
            "61.) tensor([ 0.6512,  0.3930, -0.0701]) \t 2 \t 0\n",
            "62.) tensor([ 0.6512,  0.3930, -0.0701]) \t 0 \t 0\n",
            "63.) tensor([ 0.6512,  0.3930, -0.0701]) \t 2 \t 0\n",
            "64.) tensor([ 0.6512,  0.3930, -0.0701]) \t 1 \t 0\n",
            "65.) tensor([ 0.6512,  0.3930, -0.0701]) \t 0 \t 0\n",
            "66.) tensor([ 0.6512,  0.3930, -0.0701]) \t 2 \t 0\n",
            "67.) tensor([ 0.6512,  0.3930, -0.0701]) \t 0 \t 0\n",
            "We got 25 correct!\n"
          ]
        }
      ],
      "source": [
        "#Let's track the total correct data\n",
        "\n",
        "correct = 0\n",
        "with torch.no_grad():    #turn off back propagation\n",
        "  for i, data in enumerate(x_test):\n",
        "    y_val = model.forward(data)   # pass test data through the model\n",
        "\n",
        "    #will tell us what type of flower class our network think it is\n",
        "    # argmax is a function that finds the index of the maximum value within an array or along a specified axis.\n",
        "    print(f'{i+1}.) {str(y_val)} \\t {y_test[i]} \\t {y_val.argmax().item()}')\n",
        "\n",
        "    # check number of correct labels\n",
        "    if y_val.argmax().item() == y_test[i]:\n",
        "      correct +=1\n",
        "print(f'We got {correct} correct!')"
      ]
    },
    {
      "cell_type": "code",
      "execution_count": null,
      "metadata": {
        "colab": {
          "base_uri": "https://localhost:8080/"
        },
        "id": "VJCXCyeKHp5E",
        "outputId": "9213f7ef-c14a-4bc5-a62d-bda30c7401c3"
      },
      "outputs": [
        {
          "name": "stdout",
          "output_type": "stream",
          "text": [
            "1.) tensor([-3.3646,  3.9392,  0.3720]) \t Versicolor \t 1\n",
            "2.) tensor([  7.5572,   1.1015, -11.3347]) \t Setosa \t 0\n",
            "3.) tensor([  6.5957,   1.5027, -10.4091]) \t Setosa \t 0\n",
            "4.) tensor([-3.3331,  4.2594,  0.0623]) \t Versicolor \t 1\n",
            "5.) tensor([-7.3782,  2.8087,  5.1605]) \t Virginica \t 2\n",
            "6.) tensor([-7.3760,  3.9013,  4.2826]) \t Virginica \t 2\n",
            "7.) tensor([  6.1971,   1.6470, -10.0047]) \t Setosa \t 0\n",
            "8.) tensor([  6.6383,   1.4348, -10.4031]) \t Setosa \t 0\n",
            "9.) tensor([-2.6753,  4.3091, -0.6392]) \t Versicolor \t 1\n",
            "10.) tensor([  7.1875,   1.3812, -11.0965]) \t Setosa \t 0\n",
            "11.) tensor([-3.8318,  4.4027,  0.5246]) \t Versicolor \t 1\n",
            "12.) tensor([-8.6807,  1.9994,  6.8923]) \t Virginica \t 2\n",
            "13.) tensor([-2.0678,  3.8200, -0.7571]) \t Versicolor \t 1\n",
            "14.) tensor([-1.0768,  4.3741, -2.2838]) \t Versicolor \t 1\n",
            "15.) tensor([-7.4965,  2.6207,  5.3287]) \t Virginica \t 2\n",
            "16.) tensor([-8.6136,  1.5508,  7.1186]) \t Virginica \t 2\n",
            "17.) tensor([-3.7761,  3.6462,  0.9487]) \t Versicolor \t 1\n",
            "18.) tensor([-6.7608,  2.7754,  4.5281]) \t Virginica \t 2\n",
            "19.) tensor([-1.7048,  4.1980, -1.4670]) \t Versicolor \t 1\n",
            "20.) tensor([  7.7757,   1.3740, -11.8864]) \t Setosa \t 0\n",
            "21.) tensor([  6.8811,   1.5887, -10.8763]) \t Setosa \t 0\n",
            "22.) tensor([-9.4350,  2.7012,  7.2406]) \t Virginica \t 2\n",
            "23.) tensor([-5.7694,  3.0131,  3.3490]) \t Virginica \t 2\n",
            "24.) tensor([  6.7561,   1.3467, -10.4799]) \t Setosa \t 0\n",
            "25.) tensor([  6.7959,   1.0626, -10.2672]) \t Setosa \t 0\n",
            "26.) tensor([-1.4388,  4.3212, -1.8930]) \t Versicolor \t 1\n",
            "27.) tensor([  7.8687,   1.2718, -11.9165]) \t Setosa \t 0\n",
            "28.) tensor([-9.8075,  1.7086,  8.1659]) \t Virginica \t 2\n",
            "29.) tensor([  7.3769,   1.3871, -11.3586]) \t Setosa \t 0\n",
            "30.) tensor([  7.1775,   1.3937, -11.0947]) \t Setosa \t 0\n",
            "We got 30 correct!\n"
          ]
        }
      ],
      "source": [
        "# OR to print labels, do this:\n",
        "\n",
        "#Let's track the total correct data\n",
        "\n",
        "correct = 0\n",
        "with torch.no_grad():    #turn off back propagation\n",
        "  for i, data in enumerate(x_test):\n",
        "    y_val = model.forward(data)   # pass test data through the model\n",
        "\n",
        "    if y_test[i] == 0:\n",
        "      x= 'Setosa'\n",
        "    elif y_test[i] == 1:\n",
        "      x ='Versicolor'\n",
        "    else:\n",
        "      x = 'Virginica'\n",
        "\n",
        "    #will tell us what type of flower class our network think it is\n",
        "    # argmax is a function that finds the index of the maximum value within an array or along a specified axis.\n",
        "    print(f'{i+1}.) {str(y_val)} \\t {x} \\t {y_val.argmax().item()}')\n",
        "\n",
        "    # check number of correct labels\n",
        "    if y_val.argmax().item() == y_test[i]:\n",
        "      correct +=1\n",
        "print(f'We got {correct} correct!')"
      ]
    },
    {
      "cell_type": "markdown",
      "metadata": {
        "id": "AgKD7sNuiy5T"
      },
      "source": [
        "### Feed New Data into the Neural Network and Make Prediction"
      ]
    },
    {
      "cell_type": "code",
      "execution_count": null,
      "metadata": {
        "colab": {
          "base_uri": "https://localhost:8080/"
        },
        "id": "PdAZOcfThgV5",
        "outputId": "57dcfe60-d11e-4f6b-c28c-d9270baf7011"
      },
      "outputs": [
        {
          "data": {
            "text/plain": [
              "tensor([4.5000, 3.2000, 1.3000, 0.7000])"
            ]
          },
          "execution_count": 112,
          "metadata": {},
          "output_type": "execute_result"
        }
      ],
      "source": [
        "# Given that you have the Sepal and petal length and sepal and petal width\n",
        "# What is the specie of flower\n",
        "\n",
        "new_iris = torch.tensor([4.5, 3.2, 1.3, 0.7])\n",
        "new_iris"
      ]
    },
    {
      "cell_type": "code",
      "execution_count": null,
      "metadata": {
        "colab": {
          "base_uri": "https://localhost:8080/"
        },
        "id": "9KF3kU4mjZMb",
        "outputId": "cc4f683e-f87b-4fd7-ac17-59c1ea111f7f"
      },
      "outputs": [
        {
          "name": "stdout",
          "output_type": "stream",
          "text": [
            "tensor([ 5.7381,  1.3822, -9.1347])\n"
          ]
        }
      ],
      "source": [
        "with torch.no_grad():\n",
        "  print(model(new_iris))"
      ]
    },
    {
      "cell_type": "code",
      "execution_count": null,
      "metadata": {
        "colab": {
          "base_uri": "https://localhost:8080/"
        },
        "id": "NYl0rfx5jlVM",
        "outputId": "cf48d403-6ea3-4a78-b82a-f70f82d14d61"
      },
      "outputs": [
        {
          "data": {
            "text/plain": [
              "tensor([6.5000, 2.2000, 1.3000, 4.7000])"
            ]
          },
          "execution_count": 114,
          "metadata": {},
          "output_type": "execute_result"
        }
      ],
      "source": [
        "new_iris2 = torch.tensor([6.5, 2.2, 1.3, 4.7])\n",
        "new_iris2"
      ]
    },
    {
      "cell_type": "code",
      "execution_count": null,
      "metadata": {
        "colab": {
          "base_uri": "https://localhost:8080/"
        },
        "id": "5gXvCQ0Dkvi1",
        "outputId": "cec4ef5e-bfd2-4f42-aafb-ff483de7db0f"
      },
      "outputs": [
        {
          "name": "stdout",
          "output_type": "stream",
          "text": [
            "tensor([ 5.7381,  1.3822, -9.1347])\n"
          ]
        }
      ],
      "source": [
        "with torch.no_grad():\n",
        "  print(model(new_iris))"
      ]
    },
    {
      "cell_type": "markdown",
      "metadata": {
        "id": "OcTl3R3vlAbB"
      },
      "source": [
        "### Save and load our model"
      ]
    },
    {
      "cell_type": "code",
      "execution_count": null,
      "metadata": {
        "id": "3fSdZ2_HkzYM"
      },
      "outputs": [],
      "source": [
        "torch.save(model.state_dict(), 'my_iris_model.pt')"
      ]
    },
    {
      "cell_type": "code",
      "execution_count": null,
      "metadata": {
        "colab": {
          "base_uri": "https://localhost:8080/"
        },
        "id": "3AQWU5G_ljv8",
        "outputId": "cd076fd0-5924-4f81-b705-3461186463b4"
      },
      "outputs": [
        {
          "data": {
            "text/plain": [
              "<All keys matched successfully>"
            ]
          },
          "execution_count": 118,
          "metadata": {},
          "output_type": "execute_result"
        }
      ],
      "source": [
        "#load the saved model\n",
        "new_model = Model()\n",
        "new_model.load_state_dict(torch.load('my_iris_model.pt'))"
      ]
    },
    {
      "cell_type": "code",
      "execution_count": null,
      "metadata": {
        "colab": {
          "base_uri": "https://localhost:8080/"
        },
        "id": "ld0EjWn-l59W",
        "outputId": "81bb9e8a-6b6b-462a-a906-e100b34d3a1d"
      },
      "outputs": [
        {
          "data": {
            "text/plain": [
              "Model(\n",
              "  (fc1): Linear(in_features=4, out_features=8, bias=True)\n",
              "  (fc2): Linear(in_features=8, out_features=9, bias=True)\n",
              "  (out): Linear(in_features=9, out_features=3, bias=True)\n",
              ")"
            ]
          },
          "execution_count": 121,
          "metadata": {},
          "output_type": "execute_result"
        }
      ],
      "source": [
        "# Check if it loaded correctly\n",
        "new_model.eval()"
      ]
    },
    {
      "cell_type": "code",
      "execution_count": null,
      "metadata": {
        "id": "G9Locij7mA6V"
      },
      "outputs": [],
      "source": []
    }
  ],
  "metadata": {
    "colab": {
      "provenance": [],
      "authorship_tag": "ABX9TyMxTL/Uz6ehod9FJ9NkSM9u",
      "include_colab_link": true
    },
    "kernelspec": {
      "display_name": "Python 3",
      "name": "python3"
    },
    "language_info": {
      "name": "python"
    }
  },
  "nbformat": 4,
  "nbformat_minor": 0
}
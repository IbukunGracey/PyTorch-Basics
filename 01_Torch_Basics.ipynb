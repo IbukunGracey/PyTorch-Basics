{
  "cells": [
    {
      "cell_type": "markdown",
      "metadata": {
        "id": "view-in-github",
        "colab_type": "text"
      },
      "source": [
        "<a href=\"https://colab.research.google.com/github/IbukunGracey/PyTorch-Basics/blob/main/01_Torch_Basics.ipynb\" target=\"_parent\"><img src=\"https://colab.research.google.com/assets/colab-badge.svg\" alt=\"Open In Colab\"/></a>"
      ]
    },
    {
      "cell_type": "markdown",
      "metadata": {
        "id": "R8MJTGhuGhag"
      },
      "source": [
        "# What is PyTorch?"
      ]
    },
    {
      "cell_type": "markdown",
      "metadata": {
        "id": "cYKJx0_RGhal"
      },
      "source": [
        "PyTorch is an open-source machine learning framework based on the Torch library, primarily used for applications like computer vision and natural language processing. It provides tools and libraries that simplify the design, training, and deployment of deep learning models.\n",
        "\n",
        "It’s a Python-based scientific computing package.\n",
        "\n",
        "PyTorch's dynamic computational graph allows for flexibility and easier debugging, making it popular in research and development. It supports both eager and graph execution modes and offers strong GPU acceleration capabilities, similar to NumPy but with added deep learning functionalities.\n"
      ]
    },
    {
      "cell_type": "markdown",
      "metadata": {
        "id": "ZQLSqQAoGhao"
      },
      "source": [
        "### Pytorch Workflow Fundermentals\n",
        "\n",
        "The essence of machine learning and deep learning is to take some data from the past, build an algorithm (like a neural network) to discover patterns in it and use the discovered patterns to predict the future.\n",
        "\n",
        "There are many ways to do this and many new ways are being discovered all the time.\n",
        "\n",
        "But let's start small.\n",
        "\n",
        "The image below shows a standard pytorch workflow.\n",
        "\n",
        "<img src=\"https://raw.githubusercontent.com/mrdbourke/pytorch-deep-learning/main/images/01_a_pytorch_workflow.png\" width=900 alt=\"a pytorch workflow flowchat\"/>"
      ]
    },
    {
      "cell_type": "markdown",
      "metadata": {
        "id": "qBFnHKyGGhaq"
      },
      "source": [
        "# Getting Started\n",
        "\n",
        "Now let's import what we'll need for this module.\n",
        "\n",
        "We're going to get `torch`, `torch.nn` (`nn` stands for neural network and this package contains the building blocks for creating neural networks in PyTorch) and `matplotlib`.\n",
        "\n"
      ]
    },
    {
      "cell_type": "markdown",
      "metadata": {
        "id": "Z_TGugyHGhas"
      },
      "source": [
        "#### Torch\n",
        "\n",
        "• When you import the torch library in Python using import\n",
        "torch, you are indeed importing the torch module, which is\n",
        "part of the PyTorch library.\n",
        "\n",
        "• This module provides access to the core functionalities of\n",
        "PyTorch, including tensor operations, neural network\n",
        "building blocks, optimization algorithms, and more.\n",
        "\n",
        "• Once imported, you can use the functions, classes, and\n",
        "submodules provided by torch to develop machine\n",
        "learning models and perform various tasks in PyTorch.\n"
      ]
    },
    {
      "cell_type": "code",
      "execution_count": null,
      "metadata": {
        "colab": {
          "base_uri": "https://localhost:8080/",
          "height": 35
        },
        "id": "vwLrVxQTGhau",
        "outputId": "89d7b96b-5984-4f1b-9cfc-b5569b9a16b1"
      },
      "outputs": [
        {
          "output_type": "execute_result",
          "data": {
            "text/plain": [
              "'2.6.0+cu124'"
            ],
            "application/vnd.google.colaboratory.intrinsic+json": {
              "type": "string"
            }
          },
          "metadata": {},
          "execution_count": 2
        }
      ],
      "source": [
        "import torch as t\n",
        "from torch import nn # nn contains all of PyTorch's building blocks for neural networks\n",
        "import matplotlib.pyplot as plt\n",
        "\n",
        "# Check PyTorch version\n",
        "t.__version__"
      ]
    },
    {
      "cell_type": "markdown",
      "source": [
        "#### **Empty Method**\n",
        "\n",
        "The . empty() method creates a tensor with uninitialized data. This means that the tensor is allocated memory without setting its values, which may contain arbitrary data (such as NaNs or other undefined values)"
      ],
      "metadata": {
        "id": "vOWdJiyIxW2g"
      }
    },
    {
      "cell_type": "code",
      "execution_count": null,
      "metadata": {
        "colab": {
          "base_uri": "https://localhost:8080/"
        },
        "id": "FsZj86FQGhaz",
        "outputId": "01e1f462-a41c-41a9-fcfe-09b997f5d961"
      },
      "outputs": [
        {
          "output_type": "execute_result",
          "data": {
            "text/plain": [
              "tensor([[ 0.0000e+00,  0.0000e+00,  2.3197e-16],\n",
              "        [ 0.0000e+00,  1.8473e-18,  0.0000e+00],\n",
              "        [-1.6868e-36,  4.5398e-41,  0.0000e+00],\n",
              "        [ 0.0000e+00,  0.0000e+00,  0.0000e+00],\n",
              "        [ 0.0000e+00,  0.0000e+00,  0.0000e+00]])"
            ]
          },
          "metadata": {},
          "execution_count": 48
        }
      ],
      "source": [
        "# construct a 5x3 matrix\n",
        "a=t.empty(5,3)\n",
        "a"
      ]
    },
    {
      "cell_type": "markdown",
      "source": [
        "**To DO 1: Create an empty tensor of shape 5,5**"
      ],
      "metadata": {
        "id": "6al1EE-fyzk6"
      }
    },
    {
      "cell_type": "markdown",
      "source": [
        "# Tensors\n",
        "\n",
        "#### Tensors are similar to NumPy’s ndarrays, with the addition being that Tensors can also be used on a GPU to accelerate computing."
      ],
      "metadata": {
        "id": "D4dm-CI-XNuR"
      }
    },
    {
      "cell_type": "markdown",
      "metadata": {
        "id": "abEwvi3nGhbY"
      },
      "source": [
        "#### **Construct a tensor directly from data:**"
      ]
    },
    {
      "cell_type": "code",
      "execution_count": null,
      "metadata": {
        "colab": {
          "base_uri": "https://localhost:8080/"
        },
        "id": "YmJyoUxoGhbZ",
        "outputId": "2961ff42-5c4d-4e33-acb6-2bf79f870999"
      },
      "outputs": [
        {
          "output_type": "execute_result",
          "data": {
            "text/plain": [
              "tensor(10)"
            ]
          },
          "metadata": {},
          "execution_count": 5
        }
      ],
      "source": [
        "c=t.tensor(10)\n",
        "c"
      ]
    },
    {
      "cell_type": "code",
      "source": [
        "# c.ndim"
      ],
      "metadata": {
        "id": "HjqcH1sYydUG"
      },
      "execution_count": null,
      "outputs": []
    },
    {
      "cell_type": "code",
      "execution_count": null,
      "metadata": {
        "colab": {
          "base_uri": "https://localhost:8080/"
        },
        "id": "k5D6ZRxMGhbd",
        "outputId": "e5bebb37-cbad-4690-8fec-2eb3f7fdedf5"
      },
      "outputs": [
        {
          "output_type": "execute_result",
          "data": {
            "text/plain": [
              "tensor([5.5000, 3.0000])"
            ]
          },
          "metadata": {},
          "execution_count": 9
        }
      ],
      "source": [
        "d=t.tensor([5.5,3])\n",
        "d"
      ]
    },
    {
      "cell_type": "code",
      "source": [
        " v = t.tensor([[7,7,7],[5,6,7]])\n",
        " print(v)\n",
        " print(v.ndim)\n",
        " print(v.shape)"
      ],
      "metadata": {
        "colab": {
          "base_uri": "https://localhost:8080/"
        },
        "id": "qZAdZbbhx70J",
        "outputId": "8184601f-d51f-4afd-d82d-205653355c6f"
      },
      "execution_count": null,
      "outputs": [
        {
          "output_type": "stream",
          "name": "stdout",
          "text": [
            "tensor([[7, 7, 7],\n",
            "        [5, 6, 7]])\n",
            "2\n",
            "torch.Size([2, 3])\n"
          ]
        }
      ]
    },
    {
      "cell_type": "markdown",
      "source": [
        "#### To DO 2:\n",
        "Given a list of lists Q2 = [[2,3,4,5], [2,3,4,7], [7,8,9,0]]\n",
        "1. Create a tensor with list Q2\n",
        "2. What is the dimension\n",
        "3. What is the shape"
      ],
      "metadata": {
        "id": "eVQsU_tyy_R0"
      }
    },
    {
      "cell_type": "code",
      "source": [
        "Q2 = [[2,3,4,5], [2,3,4,7], [7,8,9,0]]"
      ],
      "metadata": {
        "id": "ErxHWGvJyvWT"
      },
      "execution_count": null,
      "outputs": []
    },
    {
      "cell_type": "markdown",
      "source": [
        "#### Random Tensors"
      ],
      "metadata": {
        "id": "tdvzFXvezvbs"
      }
    },
    {
      "cell_type": "code",
      "execution_count": null,
      "metadata": {
        "id": "mDwpqepKGha4",
        "outputId": "6bc17899-ae8c-4350-a3a5-200edeff9f1b"
      },
      "outputs": [
        {
          "data": {
            "text/plain": [
              "tensor([[0.8749, 0.5867, 0.4056],\n",
              "        [0.1836, 0.3294, 0.4770],\n",
              "        [0.9495, 0.6079, 0.2189],\n",
              "        [0.6634, 0.0989, 0.7883],\n",
              "        [0.3182, 0.6416, 0.9233]])"
            ]
          },
          "execution_count": 5,
          "metadata": {
            "tags": []
          },
          "output_type": "execute_result"
        }
      ],
      "source": [
        "# Random no matrix\n",
        "b=t.rand(5,3)\n",
        "b"
      ]
    },
    {
      "cell_type": "code",
      "execution_count": null,
      "metadata": {
        "id": "8ruU2DdrGha8",
        "outputId": "b5be00db-2b1f-48f7-fe41-2ed4f75de3cc",
        "colab": {
          "base_uri": "https://localhost:8080/"
        }
      },
      "outputs": [
        {
          "output_type": "execute_result",
          "data": {
            "text/plain": [
              "tensor([[-0.0051, -1.2252, -1.6129],\n",
              "        [ 1.4485, -1.2999, -0.2368],\n",
              "        [ 0.0909, -0.3881,  0.3276],\n",
              "        [-1.4214,  0.2496, -0.6775],\n",
              "        [ 0.1939,  0.0062,  0.8614]])"
            ]
          },
          "metadata": {},
          "execution_count": 28
        }
      ],
      "source": [
        "c=t.randn(5,3)\n",
        "c"
      ]
    },
    {
      "cell_type": "code",
      "execution_count": null,
      "metadata": {
        "colab": {
          "base_uri": "https://localhost:8080/"
        },
        "id": "KRbMjPP0Ghbs",
        "outputId": "c59a5fc0-1772-4c6d-96b5-7c6adbc15fb6"
      },
      "outputs": [
        {
          "output_type": "execute_result",
          "data": {
            "text/plain": [
              "tensor([[-0.3897,  1.2451,  1.2166],\n",
              "        [ 0.4350,  0.3161, -1.6699],\n",
              "        [ 0.6527,  0.5103,  0.4275],\n",
              "        [-0.7809, -1.4232, -0.4888],\n",
              "        [-0.6705, -0.3071,  0.0254]])"
            ]
          },
          "metadata": {},
          "execution_count": 30
        }
      ],
      "source": [
        "# Returns a tensor with the same size as input that is filled\n",
        "# with random numbers from a normal distribution with mean 0 and variance 1.\n",
        "a=t.randn_like(c,dtype=t.float32) # all data type work except \"Complex\"\n",
        "a"
      ]
    },
    {
      "cell_type": "code",
      "execution_count": null,
      "metadata": {
        "colab": {
          "base_uri": "https://localhost:8080/"
        },
        "id": "ttfGloT_Ghbw",
        "outputId": "2462e81b-2037-4139-f3eb-0f8dbd5090fd"
      },
      "outputs": [
        {
          "output_type": "execute_result",
          "data": {
            "text/plain": [
              "tensor([[-0.1519, -0.4778, -0.1715],\n",
              "        [-0.6455,  0.0104,  0.7999],\n",
              "        [-0.2885,  1.3047,  0.2799],\n",
              "        [ 0.2657, -0.7263,  2.4594],\n",
              "        [ 0.7841, -1.2691, -1.1586]])"
            ]
          },
          "metadata": {},
          "execution_count": 34
        }
      ],
      "source": [
        "a=t.randn_like(a,dtype=t.float)             # override dtype!\n",
        "a                                           # result has the same size"
      ]
    },
    {
      "cell_type": "code",
      "execution_count": null,
      "metadata": {
        "colab": {
          "base_uri": "https://localhost:8080/"
        },
        "id": "aG0I7ZWXGhbz",
        "outputId": "25dec449-7489-44e0-ca38-5c4f6e36d9a9"
      },
      "outputs": [
        {
          "output_type": "execute_result",
          "data": {
            "text/plain": [
              "torch.Size([5, 3])"
            ]
          },
          "metadata": {},
          "execution_count": 35
        }
      ],
      "source": [
        "a.size()"
      ]
    },
    {
      "cell_type": "code",
      "execution_count": null,
      "metadata": {
        "id": "ItLeJph4GhbA"
      },
      "outputs": [],
      "source": [
        "#d=t.random(5,3)   # random not work in pytorch"
      ]
    },
    {
      "cell_type": "code",
      "source": [
        "# Random Image Tensors\n",
        "random_image_size= t.rand(size=(3, 244,244))\n",
        "print(random_image_size)\n",
        "print(f\"Random image shape: {random_image_size.shape}\")\n",
        "print(f\"Random image dimension: {random_image_size.ndim}\")\n",
        "print(f\"Random image datatype: {random_image_size.dtype}\")"
      ],
      "metadata": {
        "colab": {
          "base_uri": "https://localhost:8080/"
        },
        "id": "VkcrKYO4z_w-",
        "outputId": "7668da9b-bd20-4f01-89e0-df1c9b2db86b"
      },
      "execution_count": null,
      "outputs": [
        {
          "output_type": "stream",
          "name": "stdout",
          "text": [
            "tensor([[[0.3839, 0.1482, 0.2604,  ..., 0.5855, 0.4327, 0.9622],\n",
            "         [0.3141, 0.9907, 0.3895,  ..., 0.6337, 0.7489, 0.0562],\n",
            "         [0.7593, 0.0243, 0.7638,  ..., 0.4868, 0.7573, 0.9337],\n",
            "         ...,\n",
            "         [0.9205, 0.7057, 0.8475,  ..., 0.3267, 0.3184, 0.3764],\n",
            "         [0.1166, 0.3352, 0.9336,  ..., 0.4559, 0.6165, 0.3809],\n",
            "         [0.8009, 0.5072, 0.3642,  ..., 0.0555, 0.2339, 0.0602]],\n",
            "\n",
            "        [[0.1322, 0.0159, 0.6616,  ..., 0.7773, 0.0018, 0.7159],\n",
            "         [0.2592, 0.3506, 0.5693,  ..., 0.6080, 0.5556, 0.9506],\n",
            "         [0.3797, 0.2247, 0.0245,  ..., 0.4274, 0.3143, 0.8952],\n",
            "         ...,\n",
            "         [0.5434, 0.8513, 0.2053,  ..., 0.0391, 0.4638, 0.7936],\n",
            "         [0.6188, 0.1490, 0.3450,  ..., 0.6445, 0.5785, 0.8872],\n",
            "         [0.9221, 0.0123, 0.6863,  ..., 0.7332, 0.0121, 0.3800]],\n",
            "\n",
            "        [[0.3693, 0.4218, 0.4933,  ..., 0.6347, 0.5654, 0.0333],\n",
            "         [0.1084, 0.5175, 0.9963,  ..., 0.5020, 0.3407, 0.6511],\n",
            "         [0.7675, 0.1867, 0.9048,  ..., 0.8359, 0.5251, 0.3988],\n",
            "         ...,\n",
            "         [0.1862, 0.0485, 0.6758,  ..., 0.8809, 0.2309, 0.5759],\n",
            "         [0.5864, 0.3308, 0.6472,  ..., 0.8555, 0.0846, 0.4838],\n",
            "         [0.3926, 0.8227, 0.3378,  ..., 0.3470, 0.2772, 0.8696]]])\n",
            "Random image shape: torch.Size([3, 244, 244])\n",
            "Random image dimension: 3\n",
            "Random image datatype: torch.float32\n"
          ]
        }
      ]
    },
    {
      "cell_type": "code",
      "source": [
        "\n",
        "# Convert the random image tensor created to an actual image\n",
        "import torchvision.transforms as T\n",
        "from PIL import Image\n",
        "\n",
        "# Create a ToPILImage transform\n",
        "transform = T.ToPILImage()\n",
        "\n",
        "# Convert the tensor to a PIL Image\n",
        "image = transform(random_image_size)\n",
        "\n",
        "# Save the image (optional)\n",
        "image.save(\"random_image2.png\")"
      ],
      "metadata": {
        "id": "124gCI2oaO1Z"
      },
      "execution_count": null,
      "outputs": []
    },
    {
      "cell_type": "markdown",
      "source": [
        "#### Range and Arange Function\n",
        "\n",
        "In PyTorch, both torch.range and torch.arange are used to create 1-D tensors with sequential values. However, torch.arange is the preferred and more versatile option as ** torch.range is deprecated and its behavior is inconsistent with Python's built-in range.** see code output below.\n",
        "\n",
        "The torch.arange generates a tensor with values from start to end (exclusive) with a specified step, while torch.range produces values from start to end (inclusive) with a step."
      ],
      "metadata": {
        "id": "ahBjDKTK0ocm"
      }
    },
    {
      "cell_type": "code",
      "execution_count": null,
      "metadata": {
        "colab": {
          "base_uri": "https://localhost:8080/"
        },
        "id": "bZbRrjKaGhbF",
        "outputId": "2c3a1192-8f4d-4f2e-e9f4-4dde82aead44"
      },
      "outputs": [
        {
          "output_type": "stream",
          "name": "stderr",
          "text": [
            "<ipython-input-8-b1db95d2c089>:1: UserWarning: torch.range is deprecated and will be removed in a future release because its behavior is inconsistent with Python's range builtin. Instead, use torch.arange, which produces values in [start, end).\n",
            "  one_to_ten = t.range(0,10)\n"
          ]
        },
        {
          "output_type": "execute_result",
          "data": {
            "text/plain": [
              "tensor([ 0.,  1.,  2.,  3.,  4.,  5.,  6.,  7.,  8.,  9., 10.])"
            ]
          },
          "metadata": {},
          "execution_count": 8
        }
      ],
      "source": [
        "one_to_ten = t.range(0,10)\n",
        "one_to_ten"
      ]
    },
    {
      "cell_type": "code",
      "execution_count": null,
      "metadata": {
        "colab": {
          "base_uri": "https://localhost:8080/"
        },
        "id": "kaBrpUgwGhbj",
        "outputId": "97fb02ef-2f6f-45b3-a35a-d80c37a0d507"
      },
      "outputs": [
        {
          "output_type": "execute_result",
          "data": {
            "text/plain": [
              "tensor([0, 1, 2, 3, 4, 5, 6, 7, 8, 9])"
            ]
          },
          "metadata": {},
          "execution_count": 9
        }
      ],
      "source": [
        "#Note this is different from the range function\n",
        "b=t.arange(10)\n",
        "b"
      ]
    },
    {
      "cell_type": "code",
      "source": [
        "x= t.arange(0,19)\n",
        "print(x)\n",
        "print(t.min(x).item())  # Get the minimum value\n",
        "print(t.max(x).item())  # Get the maximum value\n",
        "print(t.mean(x.type(t.float32)).item())   # Get the mean value"
      ],
      "metadata": {
        "colab": {
          "base_uri": "https://localhost:8080/"
        },
        "id": "mbbxb4Qs3awG",
        "outputId": "01ab0542-5647-40b3-f8bd-0d573748e5aa"
      },
      "execution_count": null,
      "outputs": [
        {
          "output_type": "stream",
          "name": "stdout",
          "text": [
            "tensor([ 0,  1,  2,  3,  4,  5,  6,  7,  8,  9, 10, 11, 12, 13, 14, 15, 16, 17,\n",
            "        18])\n",
            "0\n",
            "18\n",
            "9.0\n",
            "9.0\n"
          ]
        }
      ]
    },
    {
      "cell_type": "markdown",
      "metadata": {
        "id": "kFSaAjO9GhbK"
      },
      "source": [
        "#### Zeros\n",
        "\n",
        "Construct a matrix filled zeros and of dtype long:\n"
      ]
    },
    {
      "cell_type": "code",
      "execution_count": null,
      "metadata": {
        "colab": {
          "base_uri": "https://localhost:8080/"
        },
        "id": "ax6KFxYnGhbL",
        "outputId": "019b2460-982a-4b3d-a87f-8909a62fe593"
      },
      "outputs": [
        {
          "output_type": "stream",
          "name": "stdout",
          "text": [
            "tensor([0., 0., 0., 0., 0., 0., 0., 0., 0., 0.])\n",
            "tensor([1., 1., 1., 1., 1., 1., 1., 1., 1., 1.])\n",
            "tensor([[13, 13, 13],\n",
            "        [13, 13, 13]])\n",
            "tensor([ 2.3294e-39,  4.4449e-41,  1.3673e-29,  0.0000e+00,  1.5077e-38,\n",
            "         0.0000e+00, -7.2692e+20,  4.4446e-41, -7.3972e+20,  4.4446e-41])\n"
          ]
        }
      ],
      "source": [
        "a=t.zeros(10)\n",
        "b= t.ones(10)\n",
        "c=t.full((2,3), 13)\n",
        "d= t.empty(10)\n",
        "print(a)\n",
        "print(b)\n",
        "print(c)\n",
        "print(d)"
      ]
    },
    {
      "cell_type": "code",
      "execution_count": null,
      "metadata": {
        "colab": {
          "base_uri": "https://localhost:8080/"
        },
        "id": "m87LElxYGhbP",
        "outputId": "8e040e6f-b8c5-49d3-c71d-133239a2c845"
      },
      "outputs": [
        {
          "output_type": "execute_result",
          "data": {
            "text/plain": [
              "tensor([[0, 0, 0],\n",
              "        [0, 0, 0],\n",
              "        [0, 0, 0],\n",
              "        [0, 0, 0],\n",
              "        [0, 0, 0]])"
            ]
          },
          "metadata": {},
          "execution_count": 15
        }
      ],
      "source": [
        "# You can specify the data types\n",
        "b=t.zeros(5,3,dtype=t.long)\n",
        "b"
      ]
    },
    {
      "cell_type": "markdown",
      "metadata": {
        "id": "oSwzYFjFGhbo"
      },
      "source": [
        "### new_\n",
        "\n",
        "You can create a tensor based on an existing tensor. These methods will reuse properties of the input tensor, e.g. dtype, unless new values are provided by user.\n",
        "\n",
        "    - ones\n",
        "    - empty\n",
        "    - full\n",
        "    - zeros"
      ]
    },
    {
      "cell_type": "code",
      "source": [
        "new = t.ones(5,3, dtype=t.double)\n",
        "new"
      ],
      "metadata": {
        "colab": {
          "base_uri": "https://localhost:8080/"
        },
        "id": "VNAIk0CUlZyj",
        "outputId": "ab2faf56-c85d-406c-f666-d814174654c9"
      },
      "execution_count": null,
      "outputs": [
        {
          "output_type": "execute_result",
          "data": {
            "text/plain": [
              "tensor([[1., 1., 1.],\n",
              "        [1., 1., 1.],\n",
              "        [1., 1., 1.],\n",
              "        [1., 1., 1.],\n",
              "        [1., 1., 1.]], dtype=torch.float64)"
            ]
          },
          "metadata": {},
          "execution_count": 83
        }
      ]
    },
    {
      "cell_type": "code",
      "source": [
        "a"
      ],
      "metadata": {
        "colab": {
          "base_uri": "https://localhost:8080/"
        },
        "id": "ghOsPG4IlYou",
        "outputId": "d9d2131a-ef1c-4374-f478-5f555f1af12f"
      },
      "execution_count": null,
      "outputs": [
        {
          "output_type": "execute_result",
          "data": {
            "text/plain": [
              "tensor([0., 0., 0., 0., 0., 0., 0., 0., 0., 0.])"
            ]
          },
          "metadata": {},
          "execution_count": 19
        }
      ]
    },
    {
      "cell_type": "code",
      "execution_count": null,
      "metadata": {
        "colab": {
          "base_uri": "https://localhost:8080/"
        },
        "id": "i2loe2QCGhbp",
        "outputId": "12fd0771-6982-45be-ed69-f8e93689b86e"
      },
      "outputs": [
        {
          "output_type": "execute_result",
          "data": {
            "text/plain": [
              "tensor([[1., 1., 1.],\n",
              "        [1., 1., 1.],\n",
              "        [1., 1., 1.],\n",
              "        [1., 1., 1.],\n",
              "        [1., 1., 1.]], dtype=torch.float64)"
            ]
          },
          "metadata": {},
          "execution_count": 20
        }
      ],
      "source": [
        "# Using the new_* methods recreate new tensors from a\n",
        "a=a.new_ones(5,3,dtype=t.double)\n",
        "a"
      ]
    },
    {
      "cell_type": "code",
      "source": [
        "b=a.new_empty(5,3,dtype=t.double)\n",
        "b"
      ],
      "metadata": {
        "colab": {
          "base_uri": "https://localhost:8080/"
        },
        "id": "E6jua8pfyEpQ",
        "outputId": "c1f91f82-01f3-4266-caba-1015e321d30c"
      },
      "execution_count": null,
      "outputs": [
        {
          "output_type": "execute_result",
          "data": {
            "text/plain": [
              "tensor([[6.7310e-310, 4.9011e-317, 6.7310e-310],\n",
              "        [6.7310e-310, 4.9011e-317, 6.7310e-310],\n",
              "        [6.7310e-310, 5.3171e-317, 5.3157e-317],\n",
              "        [5.3157e-317, 6.7307e-310, 6.7307e-310],\n",
              "        [5.3171e-317, 6.7307e-310, 6.7307e-310]], dtype=torch.float64)"
            ]
          },
          "metadata": {},
          "execution_count": 31
        }
      ]
    },
    {
      "cell_type": "code",
      "source": [
        "c=a.new_full((5,3),10, dtype=t.double)\n",
        "c"
      ],
      "metadata": {
        "colab": {
          "base_uri": "https://localhost:8080/"
        },
        "id": "aaTQLipeyEw0",
        "outputId": "1dd81c68-5e71-4fcc-ca68-5ac30f8fc938"
      },
      "execution_count": null,
      "outputs": [
        {
          "output_type": "execute_result",
          "data": {
            "text/plain": [
              "tensor([[10., 10., 10.],\n",
              "        [10., 10., 10.],\n",
              "        [10., 10., 10.],\n",
              "        [10., 10., 10.],\n",
              "        [10., 10., 10.]], dtype=torch.float64)"
            ]
          },
          "metadata": {},
          "execution_count": 34
        }
      ]
    },
    {
      "cell_type": "code",
      "source": [
        "d=a.new_zeros(5,3,dtype=t.double)\n",
        "d"
      ],
      "metadata": {
        "colab": {
          "base_uri": "https://localhost:8080/"
        },
        "id": "dm7wcHGRyE14",
        "outputId": "0d78e1d0-d311-4bcb-c70b-2ab843fefd59"
      },
      "execution_count": null,
      "outputs": [
        {
          "output_type": "execute_result",
          "data": {
            "text/plain": [
              "tensor([[0., 0., 0.],\n",
              "        [0., 0., 0.],\n",
              "        [0., 0., 0.],\n",
              "        [0., 0., 0.],\n",
              "        [0., 0., 0.]], dtype=torch.float64)"
            ]
          },
          "metadata": {},
          "execution_count": 35
        }
      ]
    },
    {
      "cell_type": "markdown",
      "source": [
        "#### Type Conversion\n",
        "\n",
        "This code initializes a 2-dimensional tensor named \"my_tensor\" with the values [[1,2,3], [4,5,6]],\n",
        "using the data type float32, stored on the CPU (default device), and with gradient tracking\n",
        "disabled (requires_grad=False). The resulting tensor \"my_tensor\" is a 2x3 matrix of floating-point\n",
        "numbers, ready for computation but not tracking gradients for automatic differentiation.\n"
      ],
      "metadata": {
        "id": "dmEJqMBV2m1t"
      }
    },
    {
      "cell_type": "code",
      "source": [
        "my_tensor=  t.tensor([[1,2,3],[4,5,6]],dtype=t.float32,device=None,requires_grad=False)\n",
        "my_tensor"
      ],
      "metadata": {
        "colab": {
          "base_uri": "https://localhost:8080/"
        },
        "id": "xktaFgUR2sYy",
        "outputId": "f209e71a-8fc0-420c-86cf-fd3e72c4887d"
      },
      "execution_count": null,
      "outputs": [
        {
          "output_type": "execute_result",
          "data": {
            "text/plain": [
              "tensor([[1., 2., 3.],\n",
              "        [4., 5., 6.]])"
            ]
          },
          "metadata": {},
          "execution_count": 37
        }
      ]
    },
    {
      "cell_type": "code",
      "source": [
        "float_16 = my_tensor.type(t.float16)\n",
        "float_16"
      ],
      "metadata": {
        "colab": {
          "base_uri": "https://localhost:8080/"
        },
        "id": "Unhdan9W2sfn",
        "outputId": "9b295696-9909-4b98-ddf2-41855af7e8bc"
      },
      "execution_count": null,
      "outputs": [
        {
          "output_type": "execute_result",
          "data": {
            "text/plain": [
              "tensor([[1., 2., 3.],\n",
              "        [4., 5., 6.]], dtype=torch.float16)"
            ]
          },
          "metadata": {},
          "execution_count": 38
        }
      ]
    },
    {
      "cell_type": "code",
      "source": [
        "float_16.size()"
      ],
      "metadata": {
        "colab": {
          "base_uri": "https://localhost:8080/"
        },
        "id": "KZ3g2aXyy3cd",
        "outputId": "d92fbbcd-3809-4562-db88-686ef9aa5ead"
      },
      "execution_count": null,
      "outputs": [
        {
          "output_type": "execute_result",
          "data": {
            "text/plain": [
              "torch.Size([2, 3])"
            ]
          },
          "metadata": {},
          "execution_count": 40
        }
      ]
    },
    {
      "cell_type": "markdown",
      "metadata": {
        "id": "UpUY85uwGhb4"
      },
      "source": [
        "#### ``torch.Size`` is a tuple, so it supports all tuple operations.\n",
        "\n"
      ]
    },
    {
      "cell_type": "markdown",
      "metadata": {
        "id": "8qGKIMemGhb8"
      },
      "source": [
        "# Operations"
      ]
    },
    {
      "cell_type": "markdown",
      "metadata": {
        "id": "Psnj76jEGhcB"
      },
      "source": [
        "#### There are multiple syntaxes for operations. In the following example, we will take a look at the addition operation."
      ]
    },
    {
      "cell_type": "code",
      "execution_count": null,
      "metadata": {
        "colab": {
          "base_uri": "https://localhost:8080/"
        },
        "id": "vesJFetqGhcE",
        "outputId": "a503bb59-43f1-4dff-f399-88748e117e9d"
      },
      "outputs": [
        {
          "output_type": "execute_result",
          "data": {
            "text/plain": [
              "tensor([[-0.3897,  1.2451,  1.2166],\n",
              "        [ 0.4350,  0.3161, -1.6699],\n",
              "        [ 0.6527,  0.5103,  0.4275],\n",
              "        [-0.7809, -1.4232, -0.4888],\n",
              "        [-0.6705, -0.3071,  0.0254]])"
            ]
          },
          "metadata": {},
          "execution_count": 45
        }
      ],
      "source": [
        "a"
      ]
    },
    {
      "cell_type": "code",
      "execution_count": null,
      "metadata": {
        "colab": {
          "base_uri": "https://localhost:8080/"
        },
        "id": "53WAFzBOGhcN",
        "outputId": "6a2cfa97-8c6c-44bb-c726-b0eb885a60f9"
      },
      "outputs": [
        {
          "output_type": "execute_result",
          "data": {
            "text/plain": [
              "tensor([[-4.4916e-01, -1.0475e+00, -1.1443e+00],\n",
              "        [ 1.1490e+00,  8.2445e-03,  2.3795e-01],\n",
              "        [ 1.3454e+00,  8.4939e-02,  1.2923e+00],\n",
              "        [ 1.1949e+00,  1.6875e+00, -1.5775e+00],\n",
              "        [ 1.2355e-04,  8.6563e-01, -1.0923e+00]])"
            ]
          },
          "metadata": {},
          "execution_count": 46
        }
      ],
      "source": [
        "b=t.randn(5,3)\n",
        "b"
      ]
    },
    {
      "cell_type": "code",
      "execution_count": null,
      "metadata": {
        "colab": {
          "base_uri": "https://localhost:8080/"
        },
        "id": "eQwemHjdGhcQ",
        "outputId": "bf3f7e55-c9ee-42d4-944a-d3d2da416067"
      },
      "outputs": [
        {
          "output_type": "stream",
          "name": "stdout",
          "text": [
            "tensor([[-0.8388,  0.1976,  0.0723],\n",
            "        [ 1.5840,  0.3243, -1.4320],\n",
            "        [ 1.9982,  0.5952,  1.7198],\n",
            "        [ 0.4140,  0.2643, -2.0663],\n",
            "        [-0.6704,  0.5585, -1.0668]])\n"
          ]
        }
      ],
      "source": [
        "print(a+b)"
      ]
    },
    {
      "cell_type": "code",
      "execution_count": null,
      "metadata": {
        "colab": {
          "base_uri": "https://localhost:8080/"
        },
        "id": "cbCQ_xcEGhcT",
        "outputId": "861762b5-a798-4a08-ee9a-18ce44c53d37"
      },
      "outputs": [
        {
          "output_type": "execute_result",
          "data": {
            "text/plain": [
              "tensor([[-1.5582,  1.6605,  0.9676],\n",
              "        [ 0.6581, -0.6282, -1.7807],\n",
              "        [-0.9989,  0.9289, -0.1081],\n",
              "        [-0.6943, -1.3303, -0.2930],\n",
              "        [-1.2958, -1.0085,  0.5449]])"
            ]
          },
          "metadata": {},
          "execution_count": 44
        }
      ],
      "source": [
        "t.add(a,b)"
      ]
    },
    {
      "cell_type": "markdown",
      "metadata": {
        "id": "kVLcSoDYGhcX"
      },
      "source": [
        "### Addition: providing an output tensor as argument\n",
        "\n"
      ]
    },
    {
      "cell_type": "code",
      "execution_count": null,
      "metadata": {
        "id": "m-eJIayRGhcY",
        "outputId": "82628cd2-1417-447f-eb99-7d4faf090ccd",
        "colab": {
          "base_uri": "https://localhost:8080/"
        }
      },
      "outputs": [
        {
          "output_type": "execute_result",
          "data": {
            "text/plain": [
              "tensor([[0.0000e+00, 0.0000e+00, 0.0000e+00],\n",
              "        [0.0000e+00, 0.0000e+00, 0.0000e+00],\n",
              "        [0.0000e+00, 0.0000e+00, 1.4013e-45],\n",
              "        [0.0000e+00, 0.0000e+00, 0.0000e+00],\n",
              "        [0.0000e+00, 0.0000e+00, 0.0000e+00]])"
            ]
          },
          "metadata": {},
          "execution_count": 48
        }
      ],
      "source": [
        "res = t.empty(5,3)\n",
        "res"
      ]
    },
    {
      "cell_type": "code",
      "execution_count": null,
      "metadata": {
        "id": "ESHDMpuaGhcb",
        "outputId": "93d00fda-92b0-498a-eb1d-7068bfa9ff53",
        "colab": {
          "base_uri": "https://localhost:8080/"
        }
      },
      "outputs": [
        {
          "output_type": "stream",
          "name": "stdout",
          "text": [
            "tensor([[-0.8388,  0.1976,  0.0723],\n",
            "        [ 1.5840,  0.3243, -1.4320],\n",
            "        [ 1.9982,  0.5952,  1.7198],\n",
            "        [ 0.4140,  0.2643, -2.0663],\n",
            "        [-0.6704,  0.5585, -1.0668]])\n"
          ]
        }
      ],
      "source": [
        "t.add(a,b,out=res)\n",
        "print(res)             # res value is changed"
      ]
    },
    {
      "cell_type": "markdown",
      "metadata": {
        "id": "GNQnhYTyGhce"
      },
      "source": [
        "### Addition: in-place"
      ]
    },
    {
      "cell_type": "code",
      "source": [
        "b"
      ],
      "metadata": {
        "colab": {
          "base_uri": "https://localhost:8080/"
        },
        "id": "u2vI2LSU0HDO",
        "outputId": "0b1f99d3-c6ef-40c5-904f-0fa85bf7ed8e"
      },
      "execution_count": null,
      "outputs": [
        {
          "output_type": "execute_result",
          "data": {
            "text/plain": [
              "tensor([[-4.4916e-01, -1.0475e+00, -1.1443e+00],\n",
              "        [ 1.1490e+00,  8.2445e-03,  2.3795e-01],\n",
              "        [ 1.3454e+00,  8.4939e-02,  1.2923e+00],\n",
              "        [ 1.1949e+00,  1.6875e+00, -1.5775e+00],\n",
              "        [ 1.2355e-04,  8.6563e-01, -1.0923e+00]])"
            ]
          },
          "metadata": {},
          "execution_count": 50
        }
      ]
    },
    {
      "cell_type": "markdown",
      "metadata": {
        "id": "DSzEYDIeHDqe"
      },
      "source": [
        "#### More Operations\n"
      ]
    },
    {
      "cell_type": "code",
      "execution_count": null,
      "metadata": {
        "colab": {
          "base_uri": "https://localhost:8080/"
        },
        "id": "eaBwbb70G9JO",
        "outputId": "1406d65a-965e-4023-a859-da433531a3d7"
      },
      "outputs": [
        {
          "output_type": "execute_result",
          "data": {
            "text/plain": [
              "tensor([[1., 1., 1.],\n",
              "        [1., 1., 1.],\n",
              "        [1., 1., 1.]])"
            ]
          },
          "metadata": {},
          "execution_count": 59
        }
      ],
      "source": [
        "a=t.ones(3,3)\n",
        "a"
      ]
    },
    {
      "cell_type": "code",
      "execution_count": null,
      "metadata": {
        "colab": {
          "base_uri": "https://localhost:8080/"
        },
        "id": "sc9s3-CpHKp-",
        "outputId": "9c4ed36f-ac96-4fdd-d720-18fe0f4c97b1"
      },
      "outputs": [
        {
          "output_type": "execute_result",
          "data": {
            "text/plain": [
              "tensor([[1., 1., 1.],\n",
              "        [1., 1., 1.],\n",
              "        [1., 1., 1.]])"
            ]
          },
          "metadata": {},
          "execution_count": 60
        }
      ],
      "source": [
        "b=t.zeros(3,3)\n",
        "a+b"
      ]
    },
    {
      "cell_type": "code",
      "execution_count": null,
      "metadata": {
        "colab": {
          "base_uri": "https://localhost:8080/"
        },
        "id": "WqsClcFVHcs6",
        "outputId": "884b51de-9588-4262-a355-13567d85f26b"
      },
      "outputs": [
        {
          "output_type": "execute_result",
          "data": {
            "text/plain": [
              "tensor([[0, 1, 2],\n",
              "        [3, 4, 5],\n",
              "        [6, 7, 8]])"
            ]
          },
          "metadata": {},
          "execution_count": 61
        }
      ],
      "source": [
        "c=t.arange(9).reshape(3,3)\n",
        "c"
      ]
    },
    {
      "cell_type": "code",
      "execution_count": null,
      "metadata": {
        "colab": {
          "base_uri": "https://localhost:8080/"
        },
        "id": "b4X2HkJvHr4Q",
        "outputId": "d2767436-f6f1-49ea-93fc-a4d77f7fe15f"
      },
      "outputs": [
        {
          "output_type": "execute_result",
          "data": {
            "text/plain": [
              "tensor([[1., 2., 3.],\n",
              "        [4., 5., 6.],\n",
              "        [7., 8., 9.]])"
            ]
          },
          "metadata": {},
          "execution_count": 62
        }
      ],
      "source": [
        "c+a"
      ]
    },
    {
      "cell_type": "code",
      "execution_count": null,
      "metadata": {
        "colab": {
          "base_uri": "https://localhost:8080/"
        },
        "id": "cBNEOe04HwLu",
        "outputId": "d6dc9220-c2bc-4200-9bc9-96ce19afd674"
      },
      "outputs": [
        {
          "output_type": "execute_result",
          "data": {
            "text/plain": [
              "torch.Size([3, 3])"
            ]
          },
          "metadata": {},
          "execution_count": 63
        }
      ],
      "source": [
        "c.size()"
      ]
    },
    {
      "cell_type": "code",
      "execution_count": null,
      "metadata": {
        "colab": {
          "base_uri": "https://localhost:8080/"
        },
        "id": "nrFDVz4RH10z",
        "outputId": "10b46c0e-7f25-4933-c04e-4fe04ab13d70"
      },
      "outputs": [
        {
          "output_type": "execute_result",
          "data": {
            "text/plain": [
              "torch.Size([3, 3])"
            ]
          },
          "metadata": {},
          "execution_count": 64
        }
      ],
      "source": [
        "c.shape"
      ]
    },
    {
      "cell_type": "code",
      "execution_count": null,
      "metadata": {
        "colab": {
          "base_uri": "https://localhost:8080/"
        },
        "id": "icgbGxsGIBr-",
        "outputId": "5647483c-41c6-4e4e-9e04-7b3fc7bfd3f9"
      },
      "outputs": [
        {
          "output_type": "execute_result",
          "data": {
            "text/plain": [
              "2"
            ]
          },
          "metadata": {},
          "execution_count": 66
        }
      ],
      "source": [
        "c.ndim"
      ]
    },
    {
      "cell_type": "code",
      "execution_count": null,
      "metadata": {
        "colab": {
          "base_uri": "https://localhost:8080/"
        },
        "id": "E1CUGvNaIFNM",
        "outputId": "fd839298-898d-42cd-d751-b947caf79985"
      },
      "outputs": [
        {
          "output_type": "execute_result",
          "data": {
            "text/plain": [
              "tensor([[-1.,  0.,  1.],\n",
              "        [ 2.,  3.,  4.],\n",
              "        [ 5.,  6.,  7.]])"
            ]
          },
          "metadata": {},
          "execution_count": 67
        }
      ],
      "source": [
        "c-a"
      ]
    },
    {
      "cell_type": "code",
      "execution_count": null,
      "metadata": {
        "colab": {
          "base_uri": "https://localhost:8080/"
        },
        "id": "zOmFd8VBIHdg",
        "outputId": "2f5c2969-6d9e-4066-d1f4-08c0f1037dd0"
      },
      "outputs": [
        {
          "output_type": "execute_result",
          "data": {
            "text/plain": [
              "tensor([[0., 1., 2.],\n",
              "        [3., 4., 5.],\n",
              "        [6., 7., 8.]])"
            ]
          },
          "metadata": {},
          "execution_count": 68
        }
      ],
      "source": [
        "a*c"
      ]
    },
    {
      "cell_type": "code",
      "execution_count": null,
      "metadata": {
        "colab": {
          "base_uri": "https://localhost:8080/"
        },
        "id": "O0okRuYaIJ0K",
        "outputId": "f317cc15-f79d-4516-fb9d-d8c9abf8b0f1"
      },
      "outputs": [
        {
          "output_type": "execute_result",
          "data": {
            "text/plain": [
              "tensor([[0., 1., 2.],\n",
              "        [3., 4., 5.],\n",
              "        [6., 7., 8.]])"
            ]
          },
          "metadata": {},
          "execution_count": 69
        }
      ],
      "source": [
        "c/a"
      ]
    },
    {
      "cell_type": "code",
      "execution_count": null,
      "metadata": {
        "colab": {
          "base_uri": "https://localhost:8080/"
        },
        "id": "ul9zcDIXILNC",
        "outputId": "2357a60c-1fe0-45a4-9ee4-1b19a03a0be9"
      },
      "outputs": [
        {
          "output_type": "execute_result",
          "data": {
            "text/plain": [
              "tensor([[0., 1., 2.],\n",
              "        [3., 4., 5.],\n",
              "        [6., 7., 8.]])"
            ]
          },
          "metadata": {},
          "execution_count": 70
        }
      ],
      "source": [
        "c//a"
      ]
    },
    {
      "cell_type": "code",
      "execution_count": null,
      "metadata": {
        "colab": {
          "base_uri": "https://localhost:8080/"
        },
        "id": "CgdyEeWnIMWY",
        "outputId": "7a49f29b-b0ea-413e-8fb5-2225d37dbc58"
      },
      "outputs": [
        {
          "output_type": "execute_result",
          "data": {
            "text/plain": [
              "tensor([[0., 0., 0.],\n",
              "        [0., 0., 0.],\n",
              "        [0., 0., 0.]])"
            ]
          },
          "metadata": {},
          "execution_count": 72
        }
      ],
      "source": [
        "c%a"
      ]
    },
    {
      "cell_type": "code",
      "execution_count": null,
      "metadata": {
        "id": "uaX05zdaGhch",
        "outputId": "dc8e0af6-a6dc-416c-fa95-72e03b58c663",
        "colab": {
          "base_uri": "https://localhost:8080/"
        }
      },
      "outputs": [
        {
          "output_type": "stream",
          "name": "stdout",
          "text": [
            "tensor([[1., 1., 1.],\n",
            "        [1., 1., 1.],\n",
            "        [1., 1., 1.]])\n"
          ]
        }
      ],
      "source": [
        "# add a to b\n",
        "b.add_(a)\n",
        "print(b)   # b is changed because \"add_\" (underscore) has an inplace function"
      ]
    },
    {
      "cell_type": "markdown",
      "metadata": {
        "id": "SCcPMzu7Ghcl"
      },
      "source": [
        "Note: Any operation that mutates a tensor in-place is post-fixed with an ``_``. For example: ``x.copy_(y)``, ``x.t_()``, will change ``x``."
      ]
    },
    {
      "cell_type": "markdown",
      "source": [
        "### PyTorch Data Manipulations\n",
        "\n",
        "#### 1. Convert an image to tensors\n",
        "\n",
        "#### 2. Convert tensors to image:\n",
        "\n",
        "When converting images back to a tensor:Ensure the tensor has the correct shape and type:\n",
        "The tensor should have a shape of (C, H, W) where C is the number of channels (e.g., 3 for RGB), H is the height, and W is the width.\n",
        "If the tensor has a batch dimension (B, C, H, W), select a single image from the batch using indexing (e.g., tensor[0] to get the first image).\n",
        "The data type of the tensor should ideally be float32 and the values should be normalized between 0 and 1 or 0 and 255."
      ],
      "metadata": {
        "id": "7JHqAn53XGh3"
      }
    },
    {
      "cell_type": "code",
      "source": [
        "# Import the required libraries\n",
        "# Using Pil\n",
        "from PIL import Image\n",
        "import torchvision.transforms as transforms\n",
        "# import torchvision.transforms as T\n",
        "\n",
        "# Read the image\n",
        "image = Image.open('penguins.jpg')\n",
        "\n",
        "# Define a transform to convert the image to tensor\n",
        "transform = transforms.ToTensor()\n",
        "\n",
        "# Convert the image to PyTorch tensor\n",
        "tensor = transform(image)\n",
        "\n",
        "# print the converted image tensor\n",
        "print(tensor)"
      ],
      "metadata": {
        "colab": {
          "base_uri": "https://localhost:8080/"
        },
        "id": "027Hb_-EXQ7x",
        "outputId": "6b81176a-df41-4047-882b-18df6a3fe757"
      },
      "execution_count": null,
      "outputs": [
        {
          "output_type": "stream",
          "name": "stdout",
          "text": [
            "tensor([[[0.4471, 0.4471, 0.4706,  ..., 0.3373, 0.3412, 0.3412],\n",
            "         [0.4510, 0.4471, 0.4627,  ..., 0.3373, 0.3373, 0.3373],\n",
            "         [0.4667, 0.4549, 0.4588,  ..., 0.3490, 0.3490, 0.3451],\n",
            "         ...,\n",
            "         [0.6824, 0.4941, 0.5216,  ..., 0.4549, 0.4275, 0.3412],\n",
            "         [0.4275, 0.5882, 0.6784,  ..., 0.4549, 0.4549, 0.3608],\n",
            "         [0.3765, 0.3529, 0.4627,  ..., 0.3804, 0.4275, 0.3451]],\n",
            "\n",
            "        [[0.6824, 0.6824, 0.7059,  ..., 0.6314, 0.6353, 0.6353],\n",
            "         [0.6863, 0.6824, 0.6980,  ..., 0.6314, 0.6314, 0.6314],\n",
            "         [0.6980, 0.6863, 0.6941,  ..., 0.6353, 0.6353, 0.6314],\n",
            "         ...,\n",
            "         [0.7216, 0.5333, 0.5647,  ..., 0.5294, 0.5059, 0.4235],\n",
            "         [0.4667, 0.6275, 0.7216,  ..., 0.5294, 0.5333, 0.4431],\n",
            "         [0.4157, 0.3922, 0.5059,  ..., 0.4549, 0.5059, 0.4275]],\n",
            "\n",
            "        [[0.8157, 0.8157, 0.8392,  ..., 0.7882, 0.7922, 0.7922],\n",
            "         [0.8196, 0.8157, 0.8314,  ..., 0.7882, 0.7882, 0.7882],\n",
            "         [0.8314, 0.8196, 0.8275,  ..., 0.7961, 0.7961, 0.7922],\n",
            "         ...,\n",
            "         [0.6863, 0.5020, 0.5490,  ..., 0.5059, 0.5020, 0.4353],\n",
            "         [0.4314, 0.5961, 0.7059,  ..., 0.5059, 0.5294, 0.4549],\n",
            "         [0.3804, 0.3608, 0.4902,  ..., 0.4314, 0.5020, 0.4392]]])\n"
          ]
        }
      ]
    },
    {
      "cell_type": "code",
      "source": [
        "print('Tensor shape - ', tensor.shape)\n",
        "print('Tensor dim- ', tensor.ndim)\n",
        "print('Tensor size - ', tensor.dtype)"
      ],
      "metadata": {
        "colab": {
          "base_uri": "https://localhost:8080/"
        },
        "id": "UpTSIKRtYZzM",
        "outputId": "98f7f7ad-e123-4eba-90c3-086bcbdf5c2c"
      },
      "execution_count": null,
      "outputs": [
        {
          "output_type": "stream",
          "name": "stdout",
          "text": [
            "Tensor shape -  torch.Size([3, 500, 700])\n",
            "Tensor dim-  3\n",
            "Tensor size -  torch.float32\n"
          ]
        }
      ]
    },
    {
      "cell_type": "code",
      "source": [
        "#convert tensor back into image\n",
        "# Create a ToPILImage transform\n",
        "transform_new = transforms.ToPILImage()\n",
        "\n",
        "# Convert the tensor to a PIL Image\n",
        "image = transform_new(tensor)\n",
        "\n",
        "# Display the image (optional)\n",
        "image.show()\n",
        "\n",
        "# Save the image (optional)\n",
        "image.save(\"random_image.png\")"
      ],
      "metadata": {
        "id": "qapmeLF-YIc4"
      },
      "execution_count": null,
      "outputs": []
    },
    {
      "cell_type": "markdown",
      "metadata": {
        "id": "p_HrZybkGhc7"
      },
      "source": [
        "#### Resizing Tensors\n",
        "\n",
        "If you want to resize/reshape tensor, you can use torch.view:\n",
        "\n"
      ]
    },
    {
      "cell_type": "code",
      "execution_count": null,
      "metadata": {
        "id": "BFC--fWrGhc8",
        "outputId": "bdcd6459-49bd-4edb-aec6-49236c666d45",
        "colab": {
          "base_uri": "https://localhost:8080/"
        }
      },
      "outputs": [
        {
          "output_type": "stream",
          "name": "stdout",
          "text": [
            "tensor([[-0.6024, -0.4145, -1.0802, -0.6746],\n",
            "        [ 1.0682, -0.3147,  0.3193,  0.3219],\n",
            "        [ 0.1404,  0.3327, -2.0426,  0.7772],\n",
            "        [-0.5795,  2.3855,  0.0156,  0.1679]])\n",
            "\n",
            "tensor([-0.6024, -0.4145, -1.0802, -0.6746,  1.0682, -0.3147,  0.3193,  0.3219,\n",
            "         0.1404,  0.3327, -2.0426,  0.7772, -0.5795,  2.3855,  0.0156,  0.1679])\n",
            "\n",
            "tensor([[-0.6024, -0.4145, -1.0802, -0.6746,  1.0682, -0.3147,  0.3193,  0.3219],\n",
            "        [ 0.1404,  0.3327, -2.0426,  0.7772, -0.5795,  2.3855,  0.0156,  0.1679]])\n"
          ]
        }
      ],
      "source": [
        "x=t.randn(4,4)\n",
        "print(x)\n",
        "print()             # space line\n",
        "\n",
        "y=x.view(16)        #  \"view\" converted size of 2D array into 1D array or vector\n",
        "print(y)\n",
        "print()\n",
        "\n",
        "z=x.view(-1,8)      # reshape into 2x8 matrix(2D)  [-1 automatic take row as mapping]\n",
        "print(z)"
      ]
    },
    {
      "cell_type": "code",
      "execution_count": null,
      "metadata": {
        "id": "RLmr9qSIGhdA",
        "outputId": "9bb7e239-194e-4122-a9a4-3e3a71ca3b60",
        "colab": {
          "base_uri": "https://localhost:8080/"
        }
      },
      "outputs": [
        {
          "output_type": "execute_result",
          "data": {
            "text/plain": [
              "tensor([[-0.6024, -0.4145, -1.0802, -0.6746,  1.0682, -0.3147,  0.3193,  0.3219],\n",
              "        [ 0.1404,  0.3327, -2.0426,  0.7772, -0.5795,  2.3855,  0.0156,  0.1679]])"
            ]
          },
          "metadata": {},
          "execution_count": 19
        }
      ],
      "source": [
        "a=x.view(2,-1)   # automatic take column size\n",
        "a"
      ]
    },
    {
      "cell_type": "code",
      "execution_count": null,
      "metadata": {
        "id": "lGY6xSppGhdE",
        "outputId": "3d59a5ca-e256-44e1-eb26-99cce5cd134f",
        "colab": {
          "base_uri": "https://localhost:8080/"
        }
      },
      "outputs": [
        {
          "output_type": "execute_result",
          "data": {
            "text/plain": [
              "(torch.Size([4, 4]), torch.Size([16]), torch.Size([2, 8]))"
            ]
          },
          "metadata": {},
          "execution_count": 20
        }
      ],
      "source": [
        "x.size() , y.size(), z.size()"
      ]
    },
    {
      "cell_type": "code",
      "execution_count": null,
      "metadata": {
        "id": "WhUV9SN3GhdH"
      },
      "outputs": [],
      "source": []
    },
    {
      "cell_type": "markdown",
      "metadata": {
        "id": "qOGOFFn6GhdK"
      },
      "source": [
        "#### If you have a one element tensor, use .item() to get the value as a Python number\n",
        "\n"
      ]
    },
    {
      "cell_type": "code",
      "execution_count": null,
      "metadata": {
        "id": "xPs6UAJHGhdN",
        "outputId": "8a9ca716-a31a-4e5c-c8e8-0ea7227dfdd4",
        "colab": {
          "base_uri": "https://localhost:8080/"
        }
      },
      "outputs": [
        {
          "output_type": "stream",
          "name": "stdout",
          "text": [
            "tensor([-0.6232])\n",
            "-0.6232212781906128\n"
          ]
        }
      ],
      "source": [
        "x=t.randn(1)\n",
        "print(x)\n",
        "print(x.item())"
      ]
    },
    {
      "cell_type": "code",
      "execution_count": null,
      "metadata": {
        "id": "0MJbxX1fGhdQ",
        "outputId": "7d6f80be-0be3-4fe0-aed3-4e0e4b61e917",
        "colab": {
          "base_uri": "https://localhost:8080/"
        }
      },
      "outputs": [
        {
          "output_type": "stream",
          "name": "stdout",
          "text": [
            "tensor([-0.6232])\n",
            "-0.6232212781906128\n"
          ]
        }
      ],
      "source": [
        "y=t.randn([10])\n",
        "print(x)\n",
        "print(x.item())"
      ]
    },
    {
      "cell_type": "code",
      "execution_count": null,
      "metadata": {
        "id": "dKUj9mFTGhdT",
        "outputId": "82f68d7a-0a0a-4d3b-d3dc-ac8bec0a3b2f",
        "colab": {
          "base_uri": "https://localhost:8080/",
          "height": 193
        }
      },
      "outputs": [
        {
          "output_type": "stream",
          "name": "stdout",
          "text": [
            "tensor([[0.5860, 0.2045]])\n"
          ]
        },
        {
          "output_type": "error",
          "ename": "RuntimeError",
          "evalue": "a Tensor with 2 elements cannot be converted to Scalar",
          "traceback": [
            "\u001b[0;31m---------------------------------------------------------------------------\u001b[0m",
            "\u001b[0;31mRuntimeError\u001b[0m                              Traceback (most recent call last)",
            "\u001b[0;32m<ipython-input-24-d78bf87296ad>\u001b[0m in \u001b[0;36m<cell line: 0>\u001b[0;34m()\u001b[0m\n\u001b[1;32m      1\u001b[0m \u001b[0mx\u001b[0m\u001b[0;34m=\u001b[0m\u001b[0mt\u001b[0m\u001b[0;34m.\u001b[0m\u001b[0mrandn\u001b[0m\u001b[0;34m(\u001b[0m\u001b[0;36m1\u001b[0m\u001b[0;34m,\u001b[0m\u001b[0;36m2\u001b[0m\u001b[0;34m)\u001b[0m\u001b[0;34m\u001b[0m\u001b[0;34m\u001b[0m\u001b[0m\n\u001b[1;32m      2\u001b[0m \u001b[0mprint\u001b[0m\u001b[0;34m(\u001b[0m\u001b[0mx\u001b[0m\u001b[0;34m)\u001b[0m\u001b[0;34m\u001b[0m\u001b[0;34m\u001b[0m\u001b[0m\n\u001b[0;32m----> 3\u001b[0;31m \u001b[0mprint\u001b[0m\u001b[0;34m(\u001b[0m\u001b[0mx\u001b[0m\u001b[0;34m[\u001b[0m\u001b[0;36m0\u001b[0m\u001b[0;34m]\u001b[0m\u001b[0;34m.\u001b[0m\u001b[0mitem\u001b[0m\u001b[0;34m(\u001b[0m\u001b[0;34m)\u001b[0m\u001b[0;34m)\u001b[0m      \u001b[0;31m# only one element converted\u001b[0m\u001b[0;34m\u001b[0m\u001b[0;34m\u001b[0m\u001b[0m\n\u001b[0m",
            "\u001b[0;31mRuntimeError\u001b[0m: a Tensor with 2 elements cannot be converted to Scalar"
          ]
        }
      ],
      "source": [
        "x=t.randn(1,2)\n",
        "print(x)\n",
        "print(x.item())      # only one element converted"
      ]
    },
    {
      "cell_type": "code",
      "source": [],
      "metadata": {
        "id": "yZTS0NN_5pGc"
      },
      "execution_count": null,
      "outputs": []
    },
    {
      "cell_type": "code",
      "execution_count": null,
      "metadata": {
        "id": "ySSeoQaqGhdZ"
      },
      "outputs": [],
      "source": []
    },
    {
      "cell_type": "markdown",
      "metadata": {
        "id": "OTMhUR0PGhdb"
      },
      "source": [
        "## Read later:"
      ]
    },
    {
      "cell_type": "markdown",
      "metadata": {
        "id": "jW8i1LB6Ghdc"
      },
      "source": [
        "### 100+ Tensor operations, including transposing, indexing, slicing, mathematical operations, linear algebra, random numbers, etc., are described here <http://pytorch.org/docs/torch>_.\n",
        "\n"
      ]
    },
    {
      "cell_type": "markdown",
      "metadata": {
        "id": "q9cMZXWNGhdh"
      },
      "source": [
        "# NumPy Bridge\n"
      ]
    },
    {
      "cell_type": "markdown",
      "metadata": {
        "id": "Xv5IJ2-zGhdj"
      },
      "source": [
        "#### It is possible to convert a Torch Tensor to a NumPy array and vice versa.\n",
        "#### The Torch Tensor and NumPy array will share their underlying memory locations, and changing one will change the other.\n",
        "\n"
      ]
    },
    {
      "cell_type": "markdown",
      "metadata": {
        "id": "OWTkpWWKGhdl"
      },
      "source": [
        "#### Converting a Torch Tensor to a NumPy Array\n"
      ]
    },
    {
      "cell_type": "code",
      "execution_count": null,
      "metadata": {
        "id": "AEU7qC0LGhdm",
        "outputId": "6591c469-bfe6-41b7-b1bd-63f2fa27ef8e"
      },
      "outputs": [
        {
          "name": "stdout",
          "output_type": "stream",
          "text": [
            "tensor([1., 1., 1., 1., 1.])\n"
          ]
        }
      ],
      "source": [
        "a=t.ones(5)\n",
        "print(a)"
      ]
    },
    {
      "cell_type": "code",
      "execution_count": null,
      "metadata": {
        "id": "OYSQGVqxGhdw",
        "outputId": "d65155c9-4eb5-44e0-8e39-49f8c1001e98"
      },
      "outputs": [
        {
          "name": "stdout",
          "output_type": "stream",
          "text": [
            "[1. 1. 1. 1. 1.]\n"
          ]
        }
      ],
      "source": [
        "b=a.numpy()\n",
        "print(b)"
      ]
    },
    {
      "cell_type": "markdown",
      "metadata": {
        "id": "67BmJ6eIGhdz"
      },
      "source": [
        "#### See how the numpy array changed in value.\n",
        "\n"
      ]
    },
    {
      "cell_type": "code",
      "execution_count": null,
      "metadata": {
        "colab": {
          "base_uri": "https://localhost:8080/"
        },
        "id": "CpOlYAZ_Ghdz",
        "outputId": "d0d1a424-9f20-4468-f3cc-a63cbfd3c4e9"
      },
      "outputs": [
        {
          "output_type": "stream",
          "name": "stdout",
          "text": [
            "tensor([[ 0.8481,  0.5222,  0.8285],\n",
            "        [ 0.3545,  1.0104,  1.7999],\n",
            "        [ 0.7115,  2.3047,  1.2799],\n",
            "        [ 1.2657,  0.2737,  3.4594],\n",
            "        [ 1.7841, -0.2691, -0.1586]])\n",
            "tensor([[ 2.0615,  0.0172, -1.1664],\n",
            "        [-0.0359,  0.7513, -0.2906],\n",
            "        [-0.7226, -0.8967, -0.3990],\n",
            "        [ 1.7552, -0.8289, -0.0724],\n",
            "        [ 0.7222,  0.3221, -0.5237]])\n"
          ]
        }
      ],
      "source": [
        "a.add_(1)   # add_(value)    value must be tensor not numpy or other type\n",
        "print(a)\n",
        "print(b)    # a changes also make in numpy array b"
      ]
    },
    {
      "cell_type": "code",
      "execution_count": null,
      "metadata": {
        "id": "bGqi0Z9jGhd2"
      },
      "outputs": [],
      "source": []
    },
    {
      "cell_type": "markdown",
      "metadata": {
        "id": "cxC7eDebGheA"
      },
      "source": [
        "#### Converting NumPy Array to Torch Tensor ^^^^^^^^^^^^^^^^^^^^^^^^^^^^^^^^^^^^^^ See how changing the np array changed the Torch Tensor automatically\n",
        "\n"
      ]
    },
    {
      "cell_type": "code",
      "execution_count": null,
      "metadata": {
        "id": "pu_nlX91GheC",
        "outputId": "01bb6a1a-d325-4113-9ac2-9ca5cdad8c8b"
      },
      "outputs": [
        {
          "name": "stdout",
          "output_type": "stream",
          "text": [
            "[1. 1. 1. 1. 1.] tensor([1., 1., 1., 1., 1.], dtype=torch.float64)\n",
            "\n",
            "[2. 2. 2. 2. 2.]\n",
            "tensor([2., 2., 2., 2., 2.], dtype=torch.float64)\n"
          ]
        }
      ],
      "source": [
        "import numpy as np\n",
        "a=np.ones(5)\n",
        "b=t.from_numpy(a)\n",
        "print(a,b)\n",
        "print()\n",
        "\n",
        "np.add(a,1,out=a)  #out=a means changes add changed saved in a\n",
        "print(a)\n",
        "print(b)           # b(tensor) value is changed"
      ]
    },
    {
      "cell_type": "markdown",
      "metadata": {
        "id": "VHqBG_LuGheG"
      },
      "source": [
        "#### All the Tensors on the CPU except a CharTensor support converting to NumPy and back.\n",
        "\n"
      ]
    },
    {
      "cell_type": "markdown",
      "metadata": {
        "id": "aKx0kIYsGheO"
      },
      "source": [
        "# CUDA Tensors\n"
      ]
    },
    {
      "cell_type": "markdown",
      "metadata": {
        "id": "txao46EMGheP"
      },
      "source": [
        "#### Tensors can be moved onto any device using the .to method.\n"
      ]
    },
    {
      "cell_type": "code",
      "execution_count": null,
      "metadata": {
        "id": "9FZ7JyT_GheP",
        "colab": {
          "base_uri": "https://localhost:8080/"
        },
        "outputId": "f984fd2c-c3e6-49f9-d4aa-9a602415ac5b"
      },
      "outputs": [
        {
          "output_type": "stream",
          "name": "stdout",
          "text": [
            "tensor([[1.6401e-21, 0.0000e+00, 1.6400e-21],\n",
            "        [0.0000e+00, 1.1210e-43, 0.0000e+00]], device='cuda:0')\n",
            "tensor([[1., 1., 1.],\n",
            "        [1., 1., 1.]], device='cuda:0')\n",
            "tensor([[1., 1., 1.],\n",
            "        [1., 1., 1.]], dtype=torch.float64)\n"
          ]
        }
      ],
      "source": [
        "# let us run this cell only if CUDA is available\n",
        "# We will use ``torch.device`` objects to move tensors in and out of GPU\n",
        "import torch as t\n",
        "x= t.empty(2,3)\n",
        "\n",
        "if t.cuda.is_available():\n",
        "    device=t.device(\"cuda\")                # a CUDA device object\n",
        "    y=t.ones_like(x,device=device)       # directly create a tensor on GPU\n",
        "    x=x.to(device)\n",
        "    print(x)                      # or just use strings ``.to(\"cuda\")``\n",
        "    z=x+y\n",
        "    print(z)\n",
        "    print(z.to(\"cpu\",t.double))            # ``.to`` can also change dtype together!"
      ]
    },
    {
      "cell_type": "markdown",
      "metadata": {
        "id": "udQBf6yDI4OC"
      },
      "source": [
        "# Indexing\n"
      ]
    },
    {
      "cell_type": "code",
      "source": [
        "c = t.tensor([[1,2,3],[4,5,6],[7,8,9]])\n",
        "c"
      ],
      "metadata": {
        "colab": {
          "base_uri": "https://localhost:8080/"
        },
        "id": "rKGnkbOJ4Eje",
        "outputId": "a184930c-3fa2-4627-f7ea-83c1fba7b318"
      },
      "execution_count": null,
      "outputs": [
        {
          "output_type": "execute_result",
          "data": {
            "text/plain": [
              "tensor([[1, 2, 3],\n",
              "        [4, 5, 6],\n",
              "        [7, 8, 9]])"
            ]
          },
          "metadata": {},
          "execution_count": 9
        }
      ]
    },
    {
      "cell_type": "code",
      "execution_count": null,
      "metadata": {
        "colab": {
          "base_uri": "https://localhost:8080/"
        },
        "id": "6U-GdAvkIrTX",
        "outputId": "8442497c-d49e-422f-bc9e-447d058875fa"
      },
      "outputs": [
        {
          "output_type": "execute_result",
          "data": {
            "text/plain": [
              "tensor([1, 2, 3])"
            ]
          },
          "metadata": {},
          "execution_count": 10
        }
      ],
      "source": [
        "c[0]"
      ]
    },
    {
      "cell_type": "code",
      "execution_count": null,
      "metadata": {
        "colab": {
          "base_uri": "https://localhost:8080/"
        },
        "id": "d4eiExMSI7GX",
        "outputId": "4fb1ca09-7db1-42c4-84c2-570d672f1532"
      },
      "outputs": [
        {
          "output_type": "execute_result",
          "data": {
            "text/plain": [
              "tensor([[4, 5, 6],\n",
              "        [7, 8, 9]])"
            ]
          },
          "metadata": {},
          "execution_count": 11
        }
      ],
      "source": [
        "c[1:]"
      ]
    },
    {
      "cell_type": "code",
      "execution_count": null,
      "metadata": {
        "colab": {
          "base_uri": "https://localhost:8080/"
        },
        "id": "UmPrThFoI-bD",
        "outputId": "69641824-c1ed-47cd-9f25-5aef6daf0bed"
      },
      "outputs": [
        {
          "output_type": "execute_result",
          "data": {
            "text/plain": [
              "tensor([[1, 2, 3]])"
            ]
          },
          "metadata": {},
          "execution_count": 13
        }
      ],
      "source": [
        "c[:1]"
      ]
    },
    {
      "cell_type": "code",
      "execution_count": null,
      "metadata": {
        "colab": {
          "base_uri": "https://localhost:8080/"
        },
        "id": "5qL5ohcGJBXM",
        "outputId": "eb989d55-9950-4351-db2c-1013640447ae"
      },
      "outputs": [
        {
          "output_type": "execute_result",
          "data": {
            "text/plain": [
              "tensor([[4],\n",
              "        [7]])"
            ]
          },
          "metadata": {},
          "execution_count": 16
        }
      ],
      "source": [
        "c[1:,:1]"
      ]
    },
    {
      "cell_type": "code",
      "execution_count": null,
      "metadata": {
        "colab": {
          "base_uri": "https://localhost:8080/",
          "height": 141
        },
        "id": "ovG-B2X-JFtx",
        "outputId": "8793969c-540b-49ae-d7b0-8b3017bef164"
      },
      "outputs": [
        {
          "output_type": "error",
          "ename": "NameError",
          "evalue": "name 'a' is not defined",
          "traceback": [
            "\u001b[0;31m---------------------------------------------------------------------------\u001b[0m",
            "\u001b[0;31mNameError\u001b[0m                                 Traceback (most recent call last)",
            "\u001b[0;32m<ipython-input-17-f1085bd394e5>\u001b[0m in \u001b[0;36m<cell line: 0>\u001b[0;34m()\u001b[0m\n\u001b[0;32m----> 1\u001b[0;31m \u001b[0ma\u001b[0m\u001b[0;34m!=\u001b[0m\u001b[0mc\u001b[0m\u001b[0;34m\u001b[0m\u001b[0;34m\u001b[0m\u001b[0m\n\u001b[0m",
            "\u001b[0;31mNameError\u001b[0m: name 'a' is not defined"
          ]
        }
      ],
      "source": [
        "a!=c"
      ]
    },
    {
      "cell_type": "code",
      "execution_count": null,
      "metadata": {
        "colab": {
          "base_uri": "https://localhost:8080/",
          "height": 68
        },
        "id": "AuJ2WNXhJLMs",
        "outputId": "6edd8beb-a525-4e35-f0e9-1a586ebc0cef"
      },
      "outputs": [
        {
          "data": {
            "text/plain": [
              "tensor([[False,  True, False],\n",
              "        [False, False, False],\n",
              "        [False, False, False]])"
            ]
          },
          "execution_count": 53,
          "metadata": {
            "tags": []
          },
          "output_type": "execute_result"
        }
      ],
      "source": [
        "a==c"
      ]
    },
    {
      "cell_type": "code",
      "execution_count": null,
      "metadata": {
        "colab": {
          "base_uri": "https://localhost:8080/",
          "height": 68
        },
        "id": "W6Zb_qDoJQX9",
        "outputId": "94d8a9b4-de86-4f7f-d028-95af30707fe7"
      },
      "outputs": [
        {
          "data": {
            "text/plain": [
              "tensor([[False, False,  True],\n",
              "        [ True,  True,  True],\n",
              "        [ True,  True,  True]])"
            ]
          },
          "execution_count": 55,
          "metadata": {
            "tags": []
          },
          "output_type": "execute_result"
        }
      ],
      "source": [
        "a<c"
      ]
    },
    {
      "cell_type": "code",
      "execution_count": null,
      "metadata": {
        "colab": {
          "base_uri": "https://localhost:8080/",
          "height": 68
        },
        "id": "kfZNZQhkJRto",
        "outputId": "7afa260f-be89-47b1-b6f4-48bb9a180ad0"
      },
      "outputs": [
        {
          "data": {
            "text/plain": [
              "tensor([[ True, False, False],\n",
              "        [False, False, False],\n",
              "        [False, False, False]])"
            ]
          },
          "execution_count": 57,
          "metadata": {
            "tags": []
          },
          "output_type": "execute_result"
        }
      ],
      "source": [
        "a>c"
      ]
    },
    {
      "cell_type": "code",
      "execution_count": null,
      "metadata": {
        "colab": {
          "base_uri": "https://localhost:8080/",
          "height": 34
        },
        "id": "dTjTVmbLJTgT",
        "outputId": "fff1a2a2-81dd-416d-fd6b-022d452ebf43"
      },
      "outputs": [
        {
          "data": {
            "text/plain": [
              "tensor(10)"
            ]
          },
          "execution_count": 61,
          "metadata": {
            "tags": []
          },
          "output_type": "execute_result"
        }
      ],
      "source": [
        "a=t.tensor(10)\n",
        "a"
      ]
    },
    {
      "cell_type": "code",
      "execution_count": null,
      "metadata": {
        "colab": {
          "base_uri": "https://localhost:8080/",
          "height": 68
        },
        "id": "xFQ581tgJjvw",
        "outputId": "200bf548-7235-4192-a203-3f0175a64037"
      },
      "outputs": [
        {
          "data": {
            "text/plain": [
              "tensor([[1, 2, 3],\n",
              "        [4, 5, 6],\n",
              "        [7, 8, 9]])"
            ]
          },
          "execution_count": 63,
          "metadata": {
            "tags": []
          },
          "output_type": "execute_result"
        }
      ],
      "source": [
        "b=t.tensor([[1,2,3],[4,5,6],[7,8,9]])\n",
        "b"
      ]
    },
    {
      "cell_type": "code",
      "execution_count": null,
      "metadata": {
        "colab": {
          "base_uri": "https://localhost:8080/",
          "height": 34
        },
        "id": "Ogfo96-VJ4tr",
        "outputId": "8b603b56-4b40-437b-90f1-7193b5c0ddb4"
      },
      "outputs": [
        {
          "data": {
            "text/plain": [
              "torch.int64"
            ]
          },
          "execution_count": 65,
          "metadata": {
            "tags": []
          },
          "output_type": "execute_result"
        }
      ],
      "source": [
        "b.dtype"
      ]
    },
    {
      "cell_type": "markdown",
      "metadata": {
        "id": "tAkH0dW_KCVM"
      },
      "source": [
        "# Scalar"
      ]
    },
    {
      "cell_type": "code",
      "execution_count": null,
      "metadata": {
        "colab": {
          "base_uri": "https://localhost:8080/"
        },
        "id": "E1aoZowdJ7zn",
        "outputId": "da1f14bb-dfa4-4855-8f99-128b524a23ec"
      },
      "outputs": [
        {
          "output_type": "execute_result",
          "data": {
            "text/plain": [
              "tensor(12)"
            ]
          },
          "metadata": {},
          "execution_count": 30
        }
      ],
      "source": [
        "a=t.tensor(12)\n",
        "a"
      ]
    },
    {
      "cell_type": "code",
      "execution_count": null,
      "metadata": {
        "colab": {
          "base_uri": "https://localhost:8080/"
        },
        "id": "SCkoFfnAKaO2",
        "outputId": "c3a6ef8e-4e1c-4485-aad0-8b694a1b3b58"
      },
      "outputs": [
        {
          "output_type": "execute_result",
          "data": {
            "text/plain": [
              "0"
            ]
          },
          "metadata": {},
          "execution_count": 31
        }
      ],
      "source": [
        "a.ndim"
      ]
    },
    {
      "cell_type": "code",
      "execution_count": null,
      "metadata": {
        "colab": {
          "base_uri": "https://localhost:8080/"
        },
        "id": "yIcQxYiQKdeS",
        "outputId": "44af6d41-8a11-4a5d-d313-2cd7ec4f45f9"
      },
      "outputs": [
        {
          "output_type": "execute_result",
          "data": {
            "text/plain": [
              "torch.Size([])"
            ]
          },
          "metadata": {},
          "execution_count": 32
        }
      ],
      "source": [
        "a.shape"
      ]
    },
    {
      "cell_type": "code",
      "execution_count": null,
      "metadata": {
        "colab": {
          "base_uri": "https://localhost:8080/"
        },
        "id": "WCTa-S0aKhRG",
        "outputId": "79fd60ce-1db7-407f-a56c-0c16057cca06"
      },
      "outputs": [
        {
          "output_type": "execute_result",
          "data": {
            "text/plain": [
              "tensor(12)"
            ]
          },
          "metadata": {},
          "execution_count": 33
        }
      ],
      "source": [
        "a.data"
      ]
    },
    {
      "cell_type": "code",
      "execution_count": null,
      "metadata": {
        "colab": {
          "base_uri": "https://localhost:8080/"
        },
        "id": "28d281cLKiEv",
        "outputId": "d97e9baf-8c12-4068-dcdf-21a3778ab906"
      },
      "outputs": [
        {
          "output_type": "execute_result",
          "data": {
            "text/plain": [
              "torch.Size([])"
            ]
          },
          "metadata": {},
          "execution_count": 34
        }
      ],
      "source": [
        "a.shape"
      ]
    },
    {
      "cell_type": "code",
      "execution_count": null,
      "metadata": {
        "colab": {
          "base_uri": "https://localhost:8080/"
        },
        "id": "BpmiJLaRKmmJ",
        "outputId": "d3247b40-1174-4cb2-9671-193f27c0d7e5"
      },
      "outputs": [
        {
          "output_type": "execute_result",
          "data": {
            "text/plain": [
              "torch.int64"
            ]
          },
          "metadata": {},
          "execution_count": 35
        }
      ],
      "source": [
        "a.dtype"
      ]
    },
    {
      "cell_type": "code",
      "execution_count": null,
      "metadata": {
        "colab": {
          "base_uri": "https://localhost:8080/"
        },
        "id": "OuEvd1VQK7cM",
        "outputId": "89cb90ba-660d-4908-cff0-f25e205ac41d"
      },
      "outputs": [
        {
          "output_type": "execute_result",
          "data": {
            "text/plain": [
              "tensor([10, 20, 30])"
            ]
          },
          "metadata": {},
          "execution_count": 36
        }
      ],
      "source": [
        "b=t.tensor((10,20,30))  # more than 1 value u given value as a tuple\n",
        "b"
      ]
    },
    {
      "cell_type": "code",
      "execution_count": null,
      "metadata": {
        "colab": {
          "base_uri": "https://localhost:8080/"
        },
        "id": "SxnN7fm8LEu2",
        "outputId": "7b45bac0-b766-4108-ad70-d52e275949b3"
      },
      "outputs": [
        {
          "output_type": "execute_result",
          "data": {
            "text/plain": [
              "tensor([[1, 2, 3],\n",
              "        [4, 5, 6]])"
            ]
          },
          "metadata": {},
          "execution_count": 37
        }
      ],
      "source": [
        "c=t.tensor(((1,2,3),(4,5,6)))\n",
        "c"
      ]
    },
    {
      "cell_type": "code",
      "execution_count": null,
      "metadata": {
        "colab": {
          "base_uri": "https://localhost:8080/"
        },
        "id": "FcQcYnYfLlWp",
        "outputId": "ab9a31d9-5252-4b57-d42b-89a9ba06d18d"
      },
      "outputs": [
        {
          "output_type": "execute_result",
          "data": {
            "text/plain": [
              "tensor([[1, 2, 3],\n",
              "        [4, 5, 6]])"
            ]
          },
          "metadata": {},
          "execution_count": 38
        }
      ],
      "source": [
        "c=t.tensor((((1,2,3),(4,5,6)))) # bracket increased but got 2D array\n",
        "c"
      ]
    },
    {
      "cell_type": "code",
      "execution_count": null,
      "metadata": {
        "colab": {
          "base_uri": "https://localhost:8080/"
        },
        "id": "5KNb18nbLs6t",
        "outputId": "87d201bf-f996-4a8f-ff24-6a9de432b5a1"
      },
      "outputs": [
        {
          "output_type": "execute_result",
          "data": {
            "text/plain": [
              "tensor([10.0000, 10.5000,  1.0000])"
            ]
          },
          "metadata": {},
          "execution_count": 39
        }
      ],
      "source": [
        "d=t.tensor([10,10.5,True])\n",
        "d"
      ]
    },
    {
      "cell_type": "code",
      "execution_count": null,
      "metadata": {
        "colab": {
          "base_uri": "https://localhost:8080/",
          "height": 176
        },
        "id": "wfTPvRZnNvBP",
        "outputId": "f12ceb11-c60d-468d-d009-75f98c158055"
      },
      "outputs": [
        {
          "output_type": "error",
          "ename": "TypeError",
          "evalue": "new(): invalid data type 'str'",
          "traceback": [
            "\u001b[0;31m---------------------------------------------------------------------------\u001b[0m",
            "\u001b[0;31mTypeError\u001b[0m                                 Traceback (most recent call last)",
            "\u001b[0;32m<ipython-input-41-0ef679b561f8>\u001b[0m in \u001b[0;36m<cell line: 0>\u001b[0;34m()\u001b[0m\n\u001b[0;32m----> 1\u001b[0;31m \u001b[0me\u001b[0m\u001b[0;34m=\u001b[0m\u001b[0mt\u001b[0m\u001b[0;34m.\u001b[0m\u001b[0mtensor\u001b[0m\u001b[0;34m(\u001b[0m\u001b[0;34m(\u001b[0m\u001b[0;34m\"hello\"\u001b[0m\u001b[0;34m)\u001b[0m\u001b[0;34m)\u001b[0m  \u001b[0;31m## Texts are not allowed\u001b[0m\u001b[0;34m\u001b[0m\u001b[0;34m\u001b[0m\u001b[0m\n\u001b[0m\u001b[1;32m      2\u001b[0m \u001b[0;31m# e=t.tensor([\"hi\"])\u001b[0m\u001b[0;34m\u001b[0m\u001b[0;34m\u001b[0m\u001b[0m\n\u001b[1;32m      3\u001b[0m \u001b[0me\u001b[0m\u001b[0;34m\u001b[0m\u001b[0;34m\u001b[0m\u001b[0m\n",
            "\u001b[0;31mTypeError\u001b[0m: new(): invalid data type 'str'"
          ]
        }
      ],
      "source": [
        "e=t.tensor((\"hello\"))  ## Texts are not allowed\n",
        "# e=t.tensor([\"hi\"])\n",
        "e"
      ]
    },
    {
      "cell_type": "code",
      "execution_count": null,
      "metadata": {
        "colab": {
          "base_uri": "https://localhost:8080/"
        },
        "id": "D5fZ8P2EO8T-",
        "outputId": "1119817b-f7fd-413e-c504-4299e2bdd6f3"
      },
      "outputs": [
        {
          "output_type": "stream",
          "name": "stdout",
          "text": [
            "<class 'torch.Tensor'>\n"
          ]
        }
      ],
      "source": [
        "a=t.tensor([10,20])\n",
        "print(type(a))"
      ]
    },
    {
      "cell_type": "markdown",
      "metadata": {
        "id": "dJX98wZDPMqu"
      },
      "source": [
        "# vector or 1D tensor"
      ]
    },
    {
      "cell_type": "code",
      "execution_count": null,
      "metadata": {
        "colab": {
          "base_uri": "https://localhost:8080/"
        },
        "id": "x6BOd7c4PJHV",
        "outputId": "33ebd170-85af-4eee-ec1d-8e27ff11bdd6"
      },
      "outputs": [
        {
          "output_type": "execute_result",
          "data": {
            "text/plain": [
              "tensor([1, 2, 3])"
            ]
          },
          "metadata": {},
          "execution_count": 48
        }
      ],
      "source": [
        "a=t.tensor([1,2,3])\n",
        "a"
      ]
    },
    {
      "cell_type": "code",
      "execution_count": null,
      "metadata": {
        "colab": {
          "base_uri": "https://localhost:8080/"
        },
        "id": "CWf5FK7NPTJ1",
        "outputId": "a82c9716-2531-42dc-f137-13802307eda1"
      },
      "outputs": [
        {
          "output_type": "execute_result",
          "data": {
            "text/plain": [
              "1"
            ]
          },
          "metadata": {},
          "execution_count": 49
        }
      ],
      "source": [
        "a.ndim"
      ]
    },
    {
      "cell_type": "code",
      "execution_count": null,
      "metadata": {
        "colab": {
          "base_uri": "https://localhost:8080/"
        },
        "id": "c_7TQjA6PaHX",
        "outputId": "c5784ccb-94d1-4d25-9e37-1bb7d4c2328d"
      },
      "outputs": [
        {
          "output_type": "execute_result",
          "data": {
            "text/plain": [
              "tensor([1, 2, 3])"
            ]
          },
          "metadata": {},
          "execution_count": 50
        }
      ],
      "source": [
        "a.data"
      ]
    },
    {
      "cell_type": "markdown",
      "metadata": {
        "id": "yzZAuSUAToNf"
      },
      "source": [
        "# 2D tensor"
      ]
    },
    {
      "cell_type": "code",
      "execution_count": null,
      "metadata": {
        "colab": {
          "base_uri": "https://localhost:8080/",
          "height": 34
        },
        "id": "7s8Lpf9LPp3o",
        "outputId": "c287acb8-1f51-4897-dad2-c8b6f080b210"
      },
      "outputs": [
        {
          "data": {
            "text/plain": [
              "tensor([[1, 2, 3]])"
            ]
          },
          "execution_count": 118,
          "metadata": {
            "tags": []
          },
          "output_type": "execute_result"
        }
      ],
      "source": [
        "c=t.tensor([(1,2,3)])\n",
        "c"
      ]
    },
    {
      "cell_type": "code",
      "execution_count": null,
      "metadata": {
        "colab": {
          "base_uri": "https://localhost:8080/",
          "height": 68
        },
        "id": "_P1Ss6TfQbuD",
        "outputId": "f2529cbf-1f54-44e9-f42a-dbb32f64c183"
      },
      "outputs": [
        {
          "name": "stdout",
          "output_type": "stream",
          "text": [
            "tensor([[1, 2, 1],\n",
            "        [4, 5, 6]])\n"
          ]
        },
        {
          "data": {
            "text/plain": [
              "torch.int64"
            ]
          },
          "execution_count": 124,
          "metadata": {
            "tags": []
          },
          "output_type": "execute_result"
        }
      ],
      "source": [
        "c=t.tensor([(1,2,True),(4,5,6)])\n",
        "print(c)\n",
        "c.dtype\n",
        "# same as t.tensor([[1,2,3],[4,5,6]])"
      ]
    },
    {
      "cell_type": "code",
      "execution_count": null,
      "metadata": {
        "colab": {
          "base_uri": "https://localhost:8080/",
          "height": 68
        },
        "id": "ZT3IIw-6Qjye",
        "outputId": "9d44eeea-3928-49ce-e7b3-499da7b09d08"
      },
      "outputs": [
        {
          "name": "stdout",
          "output_type": "stream",
          "text": [
            "tensor([[1.0000, 2.0000, 3.1500],\n",
            "        [4.0000, 5.0000, 6.0000]])\n"
          ]
        },
        {
          "data": {
            "text/plain": [
              "torch.float32"
            ]
          },
          "execution_count": 126,
          "metadata": {
            "tags": []
          },
          "output_type": "execute_result"
        }
      ],
      "source": [
        "c=t.tensor([(1,2,3.15),(4,5,6)])\n",
        "print(c)\n",
        "c.dtype\n",
        "# same as t.tensor([[1,2,3],[4,5,6]])"
      ]
    },
    {
      "cell_type": "code",
      "execution_count": null,
      "metadata": {
        "colab": {
          "base_uri": "https://localhost:8080/",
          "height": 85
        },
        "id": "jx5qbxW4Q1EB",
        "outputId": "3af7a933-275e-4cf5-f680-26d9aa5cd4f7"
      },
      "outputs": [
        {
          "name": "stdout",
          "output_type": "stream",
          "text": [
            "tensor([[1, 2, 3],\n",
            "        [4, 5, 6]])\n",
            "torch.Size([2, 3])\n"
          ]
        },
        {
          "data": {
            "text/plain": [
              "torch.int64"
            ]
          },
          "execution_count": 138,
          "metadata": {
            "tags": []
          },
          "output_type": "execute_result"
        }
      ],
      "source": [
        "c=t.tensor([(1,2,3),(4,5,6)])\n",
        "print(c)\n",
        "print(c.size())\n",
        "c.dtype\n",
        "# same as t.tensor([[1,2,3],[4,5,6]])"
      ]
    },
    {
      "cell_type": "code",
      "execution_count": null,
      "metadata": {
        "colab": {
          "base_uri": "https://localhost:8080/"
        },
        "id": "rYV60ZBnQ3OI",
        "outputId": "109937c3-4d4f-4385-9a14-31471cf37404"
      },
      "outputs": [
        {
          "output_type": "stream",
          "name": "stdout",
          "text": [
            "tensor([2.+3.j])\n"
          ]
        }
      ],
      "source": [
        "a=t.tensor([2+3j])   # torch not support complex n string\n",
        "# b=t.tensor([\"hi\",1,2])\n",
        "# print(a)\n",
        "print(a)"
      ]
    },
    {
      "cell_type": "code",
      "execution_count": null,
      "metadata": {
        "colab": {
          "base_uri": "https://localhost:8080/"
        },
        "id": "q-EVOGHXRNBM",
        "outputId": "d7824995-5cdf-4e0c-8311-5eb10a90fde3"
      },
      "outputs": [
        {
          "output_type": "execute_result",
          "data": {
            "text/plain": [
              "tensor([[1.+0.j, 2.+0.j],\n",
              "        [3.+0.j, 4.+0.j]])"
            ]
          },
          "metadata": {},
          "execution_count": 56
        }
      ],
      "source": [
        "a=t.tensor([[1,2],[3,4]],dtype=t.complex64)\n",
        "a     # complex not working in tensor type"
      ]
    },
    {
      "cell_type": "code",
      "execution_count": null,
      "metadata": {
        "colab": {
          "base_uri": "https://localhost:8080/"
        },
        "id": "9ZzQRDs_SI9L",
        "outputId": "a685c557-ec04-46ed-eba6-a1c680d733e3"
      },
      "outputs": [
        {
          "output_type": "execute_result",
          "data": {
            "text/plain": [
              "tensor([[1, 2],\n",
              "        [3, 4]])"
            ]
          },
          "metadata": {},
          "execution_count": 57
        }
      ],
      "source": [
        "a=t.tensor([[1,2],[3,4]],dtype=t.long)\n",
        "a     # complex not working in tensor type"
      ]
    },
    {
      "cell_type": "code",
      "execution_count": null,
      "metadata": {
        "colab": {
          "base_uri": "https://localhost:8080/"
        },
        "id": "VxspG5qzSP3u",
        "outputId": "a97be587-5771-4e1f-9902-ad896a993e6c"
      },
      "outputs": [
        {
          "output_type": "execute_result",
          "data": {
            "text/plain": [
              "tensor([[True, True],\n",
              "        [True, True]])"
            ]
          },
          "metadata": {},
          "execution_count": 58
        }
      ],
      "source": [
        "a=t.tensor([[1,2],[3,4]],dtype=t.bool)\n",
        "a     # complex not working in tensor type"
      ]
    },
    {
      "cell_type": "code",
      "execution_count": null,
      "metadata": {
        "colab": {
          "base_uri": "https://localhost:8080/"
        },
        "id": "QW6i4eF2SSJ-",
        "outputId": "d671eadf-adba-4204-b30e-710e55040a9e"
      },
      "outputs": [
        {
          "output_type": "execute_result",
          "data": {
            "text/plain": [
              "tensor([[ 0,  1,  2],\n",
              "        [ 3,  4,  5],\n",
              "        [ 6,  7,  8],\n",
              "        [ 9, 10, 11]])"
            ]
          },
          "metadata": {},
          "execution_count": 59
        }
      ],
      "source": [
        "b=t.arange(12).reshape(4,3)\n",
        "b"
      ]
    },
    {
      "cell_type": "code",
      "execution_count": null,
      "metadata": {
        "colab": {
          "base_uri": "https://localhost:8080/"
        },
        "id": "G7L3llG_SiW-",
        "outputId": "ba65d1bd-f2af-4bb0-b06a-87958993c9d8"
      },
      "outputs": [
        {
          "output_type": "execute_result",
          "data": {
            "text/plain": [
              "tensor([[1, 2],\n",
              "        [3, 4]])"
            ]
          },
          "metadata": {},
          "execution_count": 60
        }
      ],
      "source": [
        "c=t.tensor(((1,2),(3,4)))\n",
        "c"
      ]
    },
    {
      "cell_type": "code",
      "execution_count": null,
      "metadata": {
        "colab": {
          "base_uri": "https://localhost:8080/"
        },
        "id": "G8XfA4THS2ih",
        "outputId": "e2e980a6-fea1-43a5-fb04-146b01738d71"
      },
      "outputs": [
        {
          "output_type": "execute_result",
          "data": {
            "text/plain": [
              "torch.Size([2, 2])"
            ]
          },
          "metadata": {},
          "execution_count": 61
        }
      ],
      "source": [
        "c.shape"
      ]
    },
    {
      "cell_type": "code",
      "execution_count": null,
      "metadata": {
        "colab": {
          "base_uri": "https://localhost:8080/"
        },
        "id": "k5h_O8kXS5tk",
        "outputId": "98e8a9f6-db02-47f6-8af5-5bc86326c604"
      },
      "outputs": [
        {
          "output_type": "execute_result",
          "data": {
            "text/plain": [
              "torch.Size([2, 2])"
            ]
          },
          "metadata": {},
          "execution_count": 62
        }
      ],
      "source": [
        "c.size()"
      ]
    },
    {
      "cell_type": "markdown",
      "metadata": {
        "id": "ssBhohBUS9di"
      },
      "source": [
        "# 3D Tensor"
      ]
    },
    {
      "cell_type": "code",
      "execution_count": null,
      "metadata": {
        "colab": {
          "base_uri": "https://localhost:8080/",
          "height": 51
        },
        "id": "7X_oqVDtS7GV",
        "outputId": "5cd9146c-bcd2-4db6-f559-09dfaed237d9"
      },
      "outputs": [
        {
          "data": {
            "text/plain": [
              "tensor([[[1, 2],\n",
              "         [3, 4]]])"
            ]
          },
          "execution_count": 157,
          "metadata": {
            "tags": []
          },
          "output_type": "execute_result"
        }
      ],
      "source": [
        "a=t.tensor([[[1,2],[3,4]]])\n",
        "a"
      ]
    },
    {
      "cell_type": "code",
      "execution_count": null,
      "metadata": {
        "colab": {
          "base_uri": "https://localhost:8080/",
          "height": 51
        },
        "id": "2mSUtyL0TMAn",
        "outputId": "f96ca948-158b-40f2-a4aa-043b7559c72c"
      },
      "outputs": [
        {
          "data": {
            "text/plain": [
              "tensor([[[1, 2],\n",
              "         [3, 4]]])"
            ]
          },
          "execution_count": 159,
          "metadata": {
            "tags": []
          },
          "output_type": "execute_result"
        }
      ],
      "source": [
        "b=t.tensor([((1,2),(3,4))])\n",
        "b"
      ]
    },
    {
      "cell_type": "code",
      "execution_count": null,
      "metadata": {
        "colab": {
          "base_uri": "https://localhost:8080/",
          "height": 34
        },
        "id": "7HIZffXUTevr",
        "outputId": "a0f8aca0-e505-4505-8570-03aba529e1f7"
      },
      "outputs": [
        {
          "data": {
            "text/plain": [
              "torch.Size([1, 2, 3])"
            ]
          },
          "execution_count": 164,
          "metadata": {
            "tags": []
          },
          "output_type": "execute_result"
        }
      ],
      "source": [
        "c.size()"
      ]
    },
    {
      "cell_type": "code",
      "execution_count": null,
      "metadata": {
        "colab": {
          "base_uri": "https://localhost:8080/",
          "height": 51
        },
        "id": "Acu5GZaeTT69",
        "outputId": "8a5a35eb-85e2-4683-feed-8b7025aa1b1e"
      },
      "outputs": [
        {
          "data": {
            "text/plain": [
              "tensor([[[1, 2, 3],\n",
              "         [4, 5, 6]]])"
            ]
          },
          "execution_count": 161,
          "metadata": {
            "tags": []
          },
          "output_type": "execute_result"
        }
      ],
      "source": [
        "c=t.tensor([[(1,2,3),(4,5,6)]])\n",
        "c"
      ]
    },
    {
      "cell_type": "code",
      "execution_count": null,
      "metadata": {
        "colab": {
          "base_uri": "https://localhost:8080/",
          "height": 51
        },
        "id": "Wce1Z0PiULp3",
        "outputId": "5d94742b-c299-41bd-fc9c-ae8cc57c3949"
      },
      "outputs": [
        {
          "data": {
            "text/plain": [
              "tensor([[1, 2],\n",
              "        [3, 4]])"
            ]
          },
          "execution_count": 175,
          "metadata": {
            "tags": []
          },
          "output_type": "execute_result"
        }
      ],
      "source": [
        "# tried for 3D but got 2D array\n",
        "d=t.tensor((([[1,2],[3,4]])))\n",
        "d"
      ]
    },
    {
      "cell_type": "code",
      "execution_count": null,
      "metadata": {
        "colab": {
          "base_uri": "https://localhost:8080/",
          "height": 34
        },
        "id": "drfHZQGOTiYJ",
        "outputId": "0cd52917-42c7-4fc1-fe04-329269bd8b07"
      },
      "outputs": [
        {
          "data": {
            "text/plain": [
              "3"
            ]
          },
          "execution_count": 176,
          "metadata": {
            "tags": []
          },
          "output_type": "execute_result"
        }
      ],
      "source": [
        "c.ndim"
      ]
    },
    {
      "cell_type": "code",
      "execution_count": null,
      "metadata": {
        "colab": {
          "base_uri": "https://localhost:8080/",
          "height": 34
        },
        "id": "ng0ai9MUTm9B",
        "outputId": "0882b54c-134d-4439-e177-7c73284823c4"
      },
      "outputs": [
        {
          "data": {
            "text/plain": [
              "torch.Size([1, 2, 3])"
            ]
          },
          "execution_count": 177,
          "metadata": {
            "tags": []
          },
          "output_type": "execute_result"
        }
      ],
      "source": [
        "c.shape"
      ]
    },
    {
      "cell_type": "markdown",
      "metadata": {
        "id": "x_gCqpqbTsQU"
      },
      "source": [
        "# Transposition"
      ]
    },
    {
      "cell_type": "code",
      "execution_count": null,
      "metadata": {
        "colab": {
          "base_uri": "https://localhost:8080/",
          "height": 34
        },
        "id": "3uSzZcR3TqY7",
        "outputId": "3eb15f59-35ab-48ca-9eb2-197492dcf9f1"
      },
      "outputs": [
        {
          "data": {
            "text/plain": [
              "tensor([1, 2, 3])"
            ]
          },
          "execution_count": 7,
          "metadata": {
            "tags": []
          },
          "output_type": "execute_result"
        }
      ],
      "source": [
        "a=t.tensor([1,2,3])\n",
        "t.transpose(a,0,0)  # not possible bcoz they have only one axis"
      ]
    },
    {
      "cell_type": "code",
      "execution_count": null,
      "metadata": {
        "colab": {
          "base_uri": "https://localhost:8080/",
          "height": 119
        },
        "id": "IzG1Kp8wUe2N",
        "outputId": "57e9b666-fc3c-4422-f7e5-25cbb0ae9ed9"
      },
      "outputs": [
        {
          "name": "stdout",
          "output_type": "stream",
          "text": [
            "<built-in method transpose of Tensor object at 0x000002B655F9BA98>\n",
            "tensor([[1, 3, 5],\n",
            "        [2, 4, 6]]) \n",
            "\n"
          ]
        },
        {
          "data": {
            "text/plain": [
              "tensor([[1, 3, 5],\n",
              "        [2, 4, 6]])"
            ]
          },
          "execution_count": 11,
          "metadata": {},
          "output_type": "execute_result"
        }
      ],
      "source": [
        "b=t.tensor([[1,2],[3,4],[5,6]])\n",
        "print(b.transpose)\n",
        "print(t.transpose(b,1,0),\"\\n\")  # both axis not equal so no transpose\n",
        "b.T"
      ]
    },
    {
      "cell_type": "code",
      "execution_count": null,
      "metadata": {
        "colab": {
          "base_uri": "https://localhost:8080/"
        },
        "id": "iWfhnetoVGR9",
        "outputId": "11ed24cb-eb01-4e43-e4c4-94382ca6afe4"
      },
      "outputs": [
        {
          "output_type": "stream",
          "name": "stdout",
          "text": [
            "tensor([[1, 2],\n",
            "        [3, 4]])\n"
          ]
        },
        {
          "output_type": "execute_result",
          "data": {
            "text/plain": [
              "tensor([[1, 3],\n",
              "        [2, 4]])"
            ]
          },
          "metadata": {},
          "execution_count": 27
        }
      ],
      "source": [
        "a=t.tensor([[1,2],[3,4]])\n",
        "print(a)\n",
        "t.transpose(a,0,1)         # axis=0 replace with axis=1"
      ]
    },
    {
      "cell_type": "code",
      "execution_count": null,
      "metadata": {
        "colab": {
          "base_uri": "https://localhost:8080/",
          "height": 51
        },
        "id": "NB034IQ9n87R",
        "outputId": "24725573-9bf4-4fe8-9305-1ce8be0f1912"
      },
      "outputs": [
        {
          "data": {
            "text/plain": [
              "tensor([[1, 3],\n",
              "        [2, 4]])"
            ]
          },
          "execution_count": 5,
          "metadata": {
            "tags": []
          },
          "output_type": "execute_result"
        }
      ],
      "source": [
        "a=t.tensor([[1,2],[3,4]])\n",
        "t.transpose(a,1,0)"
      ]
    },
    {
      "cell_type": "code",
      "source": [
        "a=t.tensor([(1,2,3),(4,5,6)])\n",
        "a"
      ],
      "metadata": {
        "colab": {
          "base_uri": "https://localhost:8080/"
        },
        "id": "n_0QHWU78iSV",
        "outputId": "1205fc1c-0082-4dd3-eea4-194fe0476a8b"
      },
      "execution_count": null,
      "outputs": [
        {
          "output_type": "execute_result",
          "data": {
            "text/plain": [
              "tensor([[1, 2, 3],\n",
              "        [4, 5, 6]])"
            ]
          },
          "metadata": {},
          "execution_count": 63
        }
      ]
    },
    {
      "cell_type": "code",
      "source": [
        "#transpose\n",
        "a.T"
      ],
      "metadata": {
        "colab": {
          "base_uri": "https://localhost:8080/"
        },
        "id": "QjKSB5kw8nWw",
        "outputId": "52f844f9-1670-49ce-a862-224b06fd73fa"
      },
      "execution_count": null,
      "outputs": [
        {
          "output_type": "execute_result",
          "data": {
            "text/plain": [
              "tensor([[1, 4],\n",
              "        [2, 5],\n",
              "        [3, 6]])"
            ]
          },
          "metadata": {},
          "execution_count": 64
        }
      ]
    },
    {
      "cell_type": "markdown",
      "source": [
        "## unsqueeze()\n",
        "\n",
        "unsqueeze() adds a new dimension of size one to a tensor at a specified position. This is useful for reshaping tensors to be compatible with operations that require specific input dimensions, such as broadcasting or matrix multiplication"
      ],
      "metadata": {
        "id": "qPgNi2nl8PFx"
      }
    },
    {
      "cell_type": "code",
      "source": [
        "a"
      ],
      "metadata": {
        "colab": {
          "base_uri": "https://localhost:8080/"
        },
        "id": "AXPigdBp9qY6",
        "outputId": "63126478-d0ce-48fa-b02b-2db8c3ed8c78"
      },
      "execution_count": null,
      "outputs": [
        {
          "output_type": "execute_result",
          "data": {
            "text/plain": [
              "tensor([[1, 2, 3],\n",
              "        [4, 5, 6]])"
            ]
          },
          "metadata": {},
          "execution_count": 67
        }
      ]
    },
    {
      "cell_type": "code",
      "source": [
        "a.unsqueeze(0)  # not changed the original data"
      ],
      "metadata": {
        "colab": {
          "base_uri": "https://localhost:8080/"
        },
        "id": "Z121J2Yy8OOm",
        "outputId": "7a2fda99-8255-4580-b268-7c2d5ac2ad3b"
      },
      "execution_count": null,
      "outputs": [
        {
          "output_type": "execute_result",
          "data": {
            "text/plain": [
              "tensor([[[1, 2, 3],\n",
              "         [4, 5, 6]]])"
            ]
          },
          "metadata": {},
          "execution_count": 69
        }
      ]
    },
    {
      "cell_type": "code",
      "source": [
        "a.unsqueeze(1)"
      ],
      "metadata": {
        "colab": {
          "base_uri": "https://localhost:8080/"
        },
        "id": "wiLimcSO8N66",
        "outputId": "83e97087-8875-4e43-a0d3-28bb4260822f"
      },
      "execution_count": null,
      "outputs": [
        {
          "output_type": "execute_result",
          "data": {
            "text/plain": [
              "tensor([[[1, 2, 3]],\n",
              "\n",
              "        [[4, 5, 6]]])"
            ]
          },
          "metadata": {},
          "execution_count": 66
        }
      ]
    },
    {
      "cell_type": "code",
      "source": [
        "a.unsqueeze(2)"
      ],
      "metadata": {
        "colab": {
          "base_uri": "https://localhost:8080/"
        },
        "id": "nvGDYUiN9UPk",
        "outputId": "fa8cdf7d-7caa-4924-bcf3-ee101f9991b0"
      },
      "execution_count": null,
      "outputs": [
        {
          "output_type": "execute_result",
          "data": {
            "text/plain": [
              "tensor([[[1],\n",
              "         [2],\n",
              "         [3]],\n",
              "\n",
              "        [[4],\n",
              "         [5],\n",
              "         [6]]])"
            ]
          },
          "metadata": {},
          "execution_count": 70
        }
      ]
    },
    {
      "cell_type": "code",
      "source": [
        "a     # original data not changed by \"unsqueeze\""
      ],
      "metadata": {
        "colab": {
          "base_uri": "https://localhost:8080/"
        },
        "id": "IAsWt0I79zJX",
        "outputId": "fd5bf0e9-1c38-486a-c61b-95afbc9bb17f"
      },
      "execution_count": null,
      "outputs": [
        {
          "output_type": "execute_result",
          "data": {
            "text/plain": [
              "tensor([[1, 2, 3],\n",
              "        [4, 5, 6]])"
            ]
          },
          "metadata": {},
          "execution_count": 71
        }
      ]
    },
    {
      "cell_type": "markdown",
      "source": [
        "## squeeze()\n",
        "In PyTorch, the squeeze() function removes dimensions of size 1 from a tensor. If a dimension is not of size 1, it is not removed. It can be used with or without a specified dimension. If a dimension is specified, only that dimension is squeezed. If no dimension is specified, all dimensions of size 1 are removed.\n"
      ],
      "metadata": {
        "id": "zrzm10oF_2qk"
      }
    },
    {
      "cell_type": "code",
      "source": [
        "print(a)\n",
        "print(a.ndim)"
      ],
      "metadata": {
        "colab": {
          "base_uri": "https://localhost:8080/"
        },
        "id": "XKGRMCjiAaUv",
        "outputId": "a8af1c40-9799-42d6-d79a-10e0fa693c32"
      },
      "execution_count": null,
      "outputs": [
        {
          "output_type": "stream",
          "name": "stdout",
          "text": [
            "tensor([[1, 2, 3],\n",
            "        [4, 5, 6]])\n",
            "2\n"
          ]
        }
      ]
    },
    {
      "cell_type": "code",
      "source": [
        "y = a.unsqueeze(1) #this adds a dimension to 'a'\n",
        "print(y)\n",
        "print(y.ndim)"
      ],
      "metadata": {
        "colab": {
          "base_uri": "https://localhost:8080/"
        },
        "id": "oHekjr-W_7iR",
        "outputId": "4302333d-1c44-4d82-f8a9-fd2cfd25f1e9"
      },
      "execution_count": null,
      "outputs": [
        {
          "output_type": "stream",
          "name": "stdout",
          "text": [
            "tensor([[[1, 2, 3]],\n",
            "\n",
            "        [[4, 5, 6]]])\n",
            "3\n"
          ]
        }
      ]
    },
    {
      "cell_type": "code",
      "source": [
        "y.squeeze(1) #this removes a dimension from a"
      ],
      "metadata": {
        "colab": {
          "base_uri": "https://localhost:8080/"
        },
        "id": "brPQ-Gzj_7ew",
        "outputId": "d7b6f4b5-98dd-4110-be06-a702803bb7c3"
      },
      "execution_count": null,
      "outputs": [
        {
          "output_type": "execute_result",
          "data": {
            "text/plain": [
              "tensor([[1, 2, 3],\n",
              "        [4, 5, 6]])"
            ]
          },
          "metadata": {},
          "execution_count": 106
        }
      ]
    },
    {
      "cell_type": "code",
      "source": [],
      "metadata": {
        "id": "zI-Xhyk6_7Zz"
      },
      "execution_count": null,
      "outputs": []
    },
    {
      "cell_type": "markdown",
      "source": [
        "## resize()"
      ],
      "metadata": {
        "id": "lc_dNpVT-JsX"
      }
    },
    {
      "cell_type": "markdown",
      "source": [
        "In PyTorch, \"resize\" refers to changing the dimensions of a tensor (an n-dimensional array). It's a common operation, especially when working with images or other data that needs to conform to specific input shapes for neural networks or other processing steps. Resizing can be done using various functions, each with slightly different behavior:"
      ],
      "metadata": {
        "id": "VaiohojX-JbM"
      }
    },
    {
      "cell_type": "code",
      "source": [
        "a.resize(1,3,2)   # not chnaged the original data"
      ],
      "metadata": {
        "colab": {
          "base_uri": "https://localhost:8080/"
        },
        "id": "6wrKUcrR9_hl",
        "outputId": "0e4fe0c1-a25f-48c5-bef4-e4ee858eecf4"
      },
      "execution_count": null,
      "outputs": [
        {
          "output_type": "execute_result",
          "data": {
            "text/plain": [
              "tensor([[[1, 2],\n",
              "         [3, 4],\n",
              "         [5, 6]]])"
            ]
          },
          "metadata": {},
          "execution_count": 78
        }
      ]
    },
    {
      "cell_type": "code",
      "source": [
        "a  # not effect by \"resize\""
      ],
      "metadata": {
        "colab": {
          "base_uri": "https://localhost:8080/"
        },
        "id": "O3CxKwIy-Urw",
        "outputId": "dbc2d523-9dca-413d-f20a-fd79bb7cf66e"
      },
      "execution_count": null,
      "outputs": [
        {
          "output_type": "execute_result",
          "data": {
            "text/plain": [
              "tensor([[1, 2, 3],\n",
              "        [4, 5, 6]])"
            ]
          },
          "metadata": {},
          "execution_count": 79
        }
      ]
    },
    {
      "cell_type": "markdown",
      "source": [
        "## flatten()\n",
        "\n",
        "In PyTorch, \"flatten\" refers to the operation of reshaping a tensor into a one-dimensional array. It essentially collapses all the dimensions of the tensor into a single dimension, while preserving the order of elements. This is commonly used to prepare data for fully connected layers in neural networks, which expect a one-dimensional input."
      ],
      "metadata": {
        "id": "6r_AzlhQ-8dM"
      }
    },
    {
      "cell_type": "code",
      "source": [
        "a.flatten()  # not affect original data"
      ],
      "metadata": {
        "colab": {
          "base_uri": "https://localhost:8080/"
        },
        "id": "DMPRpEVY-1ul",
        "outputId": "9f53ee00-9416-4b39-b5d2-7ed18fdb3aa5"
      },
      "execution_count": null,
      "outputs": [
        {
          "output_type": "execute_result",
          "data": {
            "text/plain": [
              "tensor([1, 2, 3, 4, 5, 6])"
            ]
          },
          "metadata": {},
          "execution_count": 80
        }
      ]
    },
    {
      "cell_type": "code",
      "source": [
        "a        # not affected by \" flatten \""
      ],
      "metadata": {
        "colab": {
          "base_uri": "https://localhost:8080/"
        },
        "id": "3eWAz5nM_OlZ",
        "outputId": "f6bc95f6-9502-4a70-f330-fa9df7e02ed4"
      },
      "execution_count": null,
      "outputs": [
        {
          "output_type": "execute_result",
          "data": {
            "text/plain": [
              "tensor([[1, 2, 3],\n",
              "        [4, 5, 6]])"
            ]
          },
          "metadata": {},
          "execution_count": 81
        }
      ]
    },
    {
      "cell_type": "code",
      "source": [
        "c=t.tensor([[1,2],[3,4]])\n",
        "print(c)"
      ],
      "metadata": {
        "colab": {
          "base_uri": "https://localhost:8080/"
        },
        "id": "v12FB0Tu_SqD",
        "outputId": "56dd2ec4-8cac-490d-e4c4-4e8f7b90cafc"
      },
      "execution_count": null,
      "outputs": [
        {
          "output_type": "stream",
          "name": "stdout",
          "text": [
            "tensor([[1, 2],\n",
            "        [3, 4]])\n"
          ]
        }
      ]
    },
    {
      "cell_type": "code",
      "source": [
        "c.flatten()"
      ],
      "metadata": {
        "colab": {
          "base_uri": "https://localhost:8080/"
        },
        "id": "ht5_4CeP_YAq",
        "outputId": "822a6a37-a767-4984-f89f-5e6cbb26eae9"
      },
      "execution_count": null,
      "outputs": [
        {
          "output_type": "execute_result",
          "data": {
            "text/plain": [
              "tensor([1, 2, 3, 4])"
            ]
          },
          "metadata": {},
          "execution_count": 84
        }
      ]
    },
    {
      "cell_type": "markdown",
      "source": [
        "### Good work!"
      ],
      "metadata": {
        "id": "lBIE5nJ1BtWn"
      }
    },
    {
      "cell_type": "code",
      "source": [],
      "metadata": {
        "id": "Ldi_mx1F_gmL"
      },
      "execution_count": null,
      "outputs": []
    }
  ],
  "metadata": {
    "colab": {
      "collapsed_sections": [
        "vOWdJiyIxW2g",
        "abEwvi3nGhbY",
        "8PpxU2RDGhbn",
        "UpUY85uwGhb4",
        "Psnj76jEGhcB",
        "jJfQW1IAGhcs",
        "p_HrZybkGhc7",
        "qOGOFFn6GhdK",
        "Xv5IJ2-zGhdj",
        "67BmJ6eIGhdz",
        "cxC7eDebGheA",
        "VHqBG_LuGheG"
      ],
      "provenance": [],
      "gpuType": "T4",
      "include_colab_link": true
    },
    "kernelspec": {
      "display_name": "Python 3",
      "name": "python3"
    },
    "language_info": {
      "codemirror_mode": {
        "name": "ipython",
        "version": 3
      },
      "file_extension": ".py",
      "mimetype": "text/x-python",
      "name": "python",
      "nbconvert_exporter": "python",
      "pygments_lexer": "ipython3",
      "version": "3.7.4"
    },
    "accelerator": "GPU"
  },
  "nbformat": 4,
  "nbformat_minor": 0
}